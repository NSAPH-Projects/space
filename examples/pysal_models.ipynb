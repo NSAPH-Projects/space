{
 "cells": [
  {
   "attachments": {},
   "cell_type": "markdown",
   "metadata": {},
   "source": [
    "# `PySal` Spatial Regression Models"
   ]
  },
  {
   "cell_type": "code",
   "execution_count": 74,
   "metadata": {},
   "outputs": [],
   "source": [
    "from pysal.model import spreg\n",
    "import matplotlib.pyplot as plt\n",
    "import numpy as np\n",
    "import pandas as pd"
   ]
  },
  {
   "attachments": {},
   "cell_type": "markdown",
   "metadata": {},
   "source": [
    "We will use the following libraties from spacebench."
   ]
  },
  {
   "cell_type": "code",
   "execution_count": 75,
   "metadata": {},
   "outputs": [],
   "source": [
    "from spacebench import (\n",
    "    SpaceEnv,\n",
    "    SpaceDataset,\n",
    "    DataMaster,\n",
    "    DatasetEvaluator,\n",
    "    EnvEvaluator,\n",
    ")"
   ]
  },
  {
   "attachments": {},
   "cell_type": "markdown",
   "metadata": {},
   "source": [
    "Load the datamaster to list available datasets"
   ]
  },
  {
   "cell_type": "code",
   "execution_count": 76,
   "metadata": {},
   "outputs": [
    {
     "data": {
      "text/plain": [
       "['healthd_dmgrcs_mortality_disc',\n",
       " 'cdcsvi_limteng_hburdic_cont',\n",
       " 'climate_relhum_wfsmoke_cont',\n",
       " 'climate_wfsmoke_minrty_disc',\n",
       " 'healthd_hhinco_mortality_cont',\n",
       " 'healthd_pollutn_mortality_cont',\n",
       " 'county_educatn_election_cont',\n",
       " 'county_phyactiv_lifexpcy_cont',\n",
       " 'county_dmgrcs_election_disc',\n",
       " 'cdcsvi_nohsdp_poverty_cont']"
      ]
     },
     "execution_count": 76,
     "metadata": {},
     "output_type": "execute_result"
    }
   ],
   "source": [
    "DataMaster().list_datasets()"
   ]
  },
  {
   "attachments": {},
   "cell_type": "markdown",
   "metadata": {},
   "source": [
    "Create the environment."
   ]
  },
  {
   "cell_type": "code",
   "execution_count": 77,
   "metadata": {},
   "outputs": [
    {
     "data": {
      "text/plain": [
       "dict_keys(['name', 'datamaster', 'api', 'dir', 'config', 'synthetic_data', 'metadata', 'graph', 'confounding_score_dict', 'smoothness_score_dict'])"
      ]
     },
     "execution_count": 77,
     "metadata": {},
     "output_type": "execute_result"
    }
   ],
   "source": [
    "envname = \"healthd_dmgrcs_mortality_disc\"\n",
    "env = SpaceEnv(envname, dir=\"downloads\")\n",
    "env.__dict__.keys()"
   ]
  },
  {
   "attachments": {},
   "cell_type": "markdown",
   "metadata": {},
   "source": [
    "Example of generating a dataset."
   ]
  },
  {
   "cell_type": "code",
   "execution_count": 78,
   "metadata": {},
   "outputs": [
    {
     "name": "stdout",
     "output_type": "stream",
     "text": [
      "treatment shape (3109,)\n",
      "covariates shape (3109, 30)\n",
      "num. edges 9237\n",
      "smoothness of missing confounder 0.8983694388901357\n",
      "confounding of missing confounder 0.0030328993179644798\n"
     ]
    }
   ],
   "source": [
    "dataset = env.make()\n",
    "print(\"treatment shape\", dataset.treatment.shape)\n",
    "print(\"covariates shape\", dataset.covariates.shape)\n",
    "print(\"num. edges\", len(dataset.edges)) \n",
    "print(\"smoothness of missing confounder\", dataset.smoothness_of_missing)\n",
    "print(\"confounding of missing confounder\", dataset.confounding_of_missing)\n"
   ]
  },
  {
   "attachments": {},
   "cell_type": "markdown",
   "metadata": {},
   "source": [
    "Now we use pySal models:"
   ]
  },
  {
   "cell_type": "code",
   "execution_count": 79,
   "metadata": {},
   "outputs": [],
   "source": [
    "import libpysal as lp"
   ]
  },
  {
   "cell_type": "code",
   "execution_count": 80,
   "metadata": {},
   "outputs": [],
   "source": [
    "\n",
    "W = lp.weights.full2W(dataset.adjacency_matrix()) "
   ]
  },
  {
   "cell_type": "code",
   "execution_count": 88,
   "metadata": {},
   "outputs": [],
   "source": [
    "treatment = dataset.treatment[:, None]\n",
    "covariates = dataset.covariates\n",
    "outcome = dataset.outcome\n",
    "\n",
    "# make train matrix\n",
    "trainmat = np.hstack([covariates, treatment])"
   ]
  },
  {
   "cell_type": "code",
   "execution_count": 89,
   "metadata": {},
   "outputs": [],
   "source": [
    "\n",
    "model_gm_lag = spreg.GM_Lag(\n",
    "    outcome,\n",
    "    trainmat,\n",
    "    w=W,\n",
    "    name_y=dataset.outcome_name,\n",
    "    name_x=dataset.covariates_names,\n",
    ")"
   ]
  },
  {
   "cell_type": "code",
   "execution_count": 90,
   "metadata": {},
   "outputs": [
    {
     "name": "stderr",
     "output_type": "stream",
     "text": [
      "/Users/ant746/PycharmProjects/space/.venv/lib/python3.10/site-packages/scipy/optimize/_minimize.py:892: RuntimeWarning: Method 'bounded' does not support relative tolerance in x; defaulting to absolute tolerance.\n",
      "  warn(\"Method 'bounded' does not support relative tolerance in x; \"\n",
      "/Users/ant746/PycharmProjects/space/.venv/lib/python3.10/site-packages/spreg/ml_lag.py:608: RuntimeWarning: invalid value encountered in log\n",
      "  jacob = np.log(np.linalg.det(a))\n"
     ]
    }
   ],
   "source": [
    "model_ml_lag = spreg.ML_Lag(\n",
    "    outcome,\n",
    "    trainmat,\n",
    "    w=W,\n",
    "    name_y=dataset.outcome_name,\n",
    "    name_x=dataset.covariates_names,\n",
    ")"
   ]
  },
  {
   "cell_type": "code",
   "execution_count": 91,
   "metadata": {},
   "outputs": [
    {
     "name": "stdout",
     "output_type": "stream",
     "text": [
      "['CONSTANT', 'bin_NORTHEAST', 'bin_SOUTH', 'bin_WEST', 'cdc_mean_bmi', 'cdc_pct_cusmoker', 'cdc_pct_fmsmoker', 'cdc_pct_nnsmoker', 'cdc_pct_nvsmoker', 'cdc_pct_sdsmoker', 'cs_ed_below_highschool', 'cs_household_income', 'cs_median_house_value', 'cs_other', 'cs_population_density', 'cs_poverty', 'gmet_mean_rmn', 'gmet_mean_rmx', 'gmet_mean_sph', 'gmet_mean_summer_rmn', 'gmet_mean_summer_rmx', 'gmet_mean_summer_sph', 'gmet_mean_summer_tmmn', 'gmet_mean_tmmn', 'gmet_mean_tmmx', 'gmet_mean_winter_rmn', 'gmet_mean_winter_rmx', 'gmet_mean_winter_sph', 'gmet_mean_winter_tmmn', 'gmet_mean_winter_tmmx', 'qd_mean_pm25', 'W_cdc_mortality_pct']\n"
     ]
    }
   ],
   "source": [
    "print(model_gm_lag.name_z)"
   ]
  },
  {
   "cell_type": "code",
   "execution_count": 93,
   "metadata": {},
   "outputs": [
    {
     "name": "stdout",
     "output_type": "stream",
     "text": [
      "REGRESSION\n",
      "----------\n",
      "SUMMARY OF OUTPUT: MAXIMUM LIKELIHOOD SPATIAL LAG (METHOD = FULL)\n",
      "-----------------------------------------------------------------\n",
      "Data set            :     unknown\n",
      "Weights matrix      :     unknown\n",
      "Dependent Variable  :cdc_mortality_pct                Number of Observations:        3109\n",
      "Mean dependent var  :     21.2983                Number of Variables   :          33\n",
      "S.D. dependent var  :      4.5544                Degrees of Freedom    :        3076\n",
      "Pseudo R-squared    :      0.2552\n",
      "Spatial Pseudo R-squared:  0.2514\n",
      "Sigma-square ML     :      15.445                Log likelihood        :   -8667.417\n",
      "S.E of regression   :       3.930                Akaike info criterion :   17400.835\n",
      "                                                 Schwarz criterion     :   17600.222\n",
      "\n",
      "------------------------------------------------------------------------------------\n",
      "            Variable     Coefficient       Std.Error     z-Statistic     Probability\n",
      "------------------------------------------------------------------------------------\n",
      "            CONSTANT    -150.5283001      29.2431157      -5.1474782       0.0000003\n",
      "       bin_NORTHEAST       2.3279916       0.4132850       5.6328961       0.0000000\n",
      "           bin_SOUTH       0.5495270       0.3070768       1.7895424       0.0735275\n",
      "            bin_WEST       0.3351899       0.5488688       0.6106922       0.5414033\n",
      "        cdc_mean_bmi       0.0006103       0.0002348       2.5989947       0.0093497\n",
      "    cdc_pct_cusmoker      -0.8301801       1.4329248      -0.5793606       0.5623459\n",
      "    cdc_pct_fmsmoker       0.8148785       1.2112148       0.6727779       0.5010886\n",
      "    cdc_pct_nnsmoker      10.7473287       6.3440711       1.6940745       0.0902511\n",
      "    cdc_pct_nvsmoker      -1.3743669       1.1148248      -1.2328097       0.2176468\n",
      "    cdc_pct_sdsmoker       0.3698804       2.3129101       0.1599199       0.8729442\n",
      "cs_ed_below_highschool       2.7906676       1.1468622       2.4333069       0.0149616\n",
      " cs_household_income      -0.0000729       0.0000185      -3.9373761       0.0000824\n",
      "cs_median_house_value      -0.0000119       0.0000016      -7.4762751       0.0000000\n",
      "            cs_other      11.7491810       7.9466978       1.4784985       0.1392744\n",
      "cs_population_density       0.0001214       0.0000474       2.5624458       0.0103938\n",
      "          cs_poverty      -1.4983449       2.1953777      -0.6824998       0.4949229\n",
      "       gmet_mean_rmn       0.1078229       0.0918264       1.1742038       0.2403134\n",
      "       gmet_mean_rmx       0.4253859       0.1020459       4.1685753       0.0000307\n",
      "       gmet_mean_sph    -5933.4178680     992.6365277      -5.9774325       0.0000000\n",
      "gmet_mean_summer_rmn      -0.1489058       0.0449669      -3.3114545       0.0009281\n",
      "gmet_mean_summer_rmx      -0.2029084       0.0569705      -3.5616425       0.0003685\n",
      "gmet_mean_summer_sph    2595.4674160     453.6908458       5.7207842       0.0000000\n",
      "gmet_mean_summer_tmmn      -1.2007946       0.2994065      -4.0105836       0.0000606\n",
      "      gmet_mean_tmmn       2.5205039       0.5177446       4.8682381       0.0000011\n",
      "      gmet_mean_tmmx       0.0449023       0.2475050       0.1814199       0.8560380\n",
      "gmet_mean_winter_rmn      -0.0759216       0.0485502      -1.5637759       0.1178702\n",
      "gmet_mean_winter_rmx       0.0125031       0.0455100       0.2747324       0.7835219\n",
      "gmet_mean_winter_sph    1775.8070204     630.9949698       2.8142966       0.0048884\n",
      "gmet_mean_winter_tmmn      -0.5125686       0.1980401      -2.5882058       0.0096477\n",
      "gmet_mean_winter_tmmx      -0.2568370       0.1925352      -1.3339744       0.1822122\n",
      "        qd_mean_pm25       0.1074489       0.0555672       1.9336753       0.0531531\n",
      " W_cdc_mortality_pct       2.2933224       0.1931416      11.8737868       0.0000000\n",
      "------------------------------------------------------------------------------------\n",
      "================================ END OF REPORT =====================================\n"
     ]
    }
   ],
   "source": [
    "print(model_ml_lag.summary)"
   ]
  },
  {
   "cell_type": "code",
   "execution_count": 94,
   "metadata": {},
   "outputs": [
    {
     "data": {
      "text/plain": [
       "(33, 1)"
      ]
     },
     "execution_count": 94,
     "metadata": {},
     "output_type": "execute_result"
    }
   ],
   "source": [
    "model_gm_lag.betas.shape"
   ]
  },
  {
   "attachments": {},
   "cell_type": "markdown",
   "metadata": {},
   "source": [
    "Model shape je 33 zato sto ima coefs for: `constant`, `covariates` and `W_outcome`."
   ]
  },
  {
   "cell_type": "code",
   "execution_count": 95,
   "metadata": {},
   "outputs": [
    {
     "data": {
      "text/plain": [
       "(33, 1)"
      ]
     },
     "execution_count": 95,
     "metadata": {},
     "output_type": "execute_result"
    }
   ],
   "source": [
    "model_ml_lag.betas.shape"
   ]
  },
  {
   "cell_type": "markdown",
   "metadata": {},
   "source": [
    "## Predictions"
   ]
  },
  {
   "cell_type": "code",
   "execution_count": 96,
   "metadata": {},
   "outputs": [],
   "source": [
    "# predict counterfactuals\n",
    "tvals = dataset.treatment_values\n",
    "counterfactuals_ml = []\n",
    "counterfactuals_gl = []\n",
    "for tval in tvals:\n",
    "    trainmat = np.hstack(\n",
    "        [np.ones(treatment.shape), \n",
    "         covariates, \n",
    "         np.full_like(treatment, tval),\n",
    "         np.ones(treatment.shape)])\n",
    "    counterfactuals_ml.append(\n",
    "        np.dot(trainmat, model_ml_lag.betas)\n",
    "    )\n",
    "    counterfactuals_gl.append(\n",
    "        np.dot(trainmat, model_gm_lag.betas)\n",
    "    )\n",
    "counterfactuals_ml = np.stack(counterfactuals_ml, axis=1)\n",
    "counterfactuals_gl = np.stack(counterfactuals_gl, axis=1)"
   ]
  },
  {
   "cell_type": "code",
   "execution_count": 97,
   "metadata": {},
   "outputs": [],
   "source": [
    "erf_ml = counterfactuals_ml.mean(0)\n",
    "erf_gl = counterfactuals_gl.mean(0)"
   ]
  },
  {
   "cell_type": "code",
   "execution_count": 98,
   "metadata": {},
   "outputs": [
    {
     "data": {
      "image/png": "[encoded data removed]",
      "text/plain": [
       "<Figure size 400x300 with 1 Axes>"
      ]
     },
     "metadata": {},
     "output_type": "display_data"
    }
   ],
   "source": [
    "# plot comparing estimated and true erf\n",
    "erf_true = dataset.erf()\n",
    "\n",
    "fig, ax = plt.subplots(1, 1, figsize=(4, 3))\n",
    "ax.plot(dataset.treatment_values, erf_ml, label=\"estimated with ML_Lag\")\n",
    "ax.plot(dataset.treatment_values, erf_gl, label=\"estimated with GM_Lag\")\n",
    "ax.plot(dataset.treatment_values, erf_true, label=\"true ERF\", linestyle=\"--\", color=\"k\")\n",
    "ax.set_xlabel(\"treatment\")\n",
    "ax.set_ylabel(\"outcome\")\n",
    "ax.legend();"
   ]
  },
  {
   "cell_type": "markdown",
   "metadata": {},
   "source": []
  }
 ],
 "metadata": {
  "kernelspec": {
   "display_name": ".venv",
   "language": "python",
   "name": "python3"
  },
  "language_info": {
   "codemirror_mode": {
    "name": "ipython",
    "version": 3
   },
   "file_extension": ".py",
   "mimetype": "text/x-python",
   "name": "python",
   "nbconvert_exporter": "python",
   "pygments_lexer": "ipython3",
   "version": "3.10.4"
  },
  "orig_nbformat": 4
 },
 "nbformat": 4,
 "nbformat_minor": 2
}
