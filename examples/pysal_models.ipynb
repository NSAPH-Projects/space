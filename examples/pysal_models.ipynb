{
 "cells": [
  {
   "attachments": {},
   "cell_type": "markdown",
   "metadata": {},
   "source": [
    "# `PySal` Spatial Regression Models"
   ]
  },
  {
   "cell_type": "code",
   "execution_count": 2,
   "metadata": {},
   "outputs": [],
   "source": [
    "from pysal.model import spreg\n",
    "import matplotlib.pyplot as plt\n",
    "import libpysal as lp\n",
    "import numpy as np\n",
    "import pandas as pd"
   ]
  },
  {
   "attachments": {},
   "cell_type": "markdown",
   "metadata": {},
   "source": [
    "We will use the following libraties from spacebench."
   ]
  },
  {
   "cell_type": "code",
   "execution_count": 3,
   "metadata": {},
   "outputs": [],
   "source": [
    "from spacebench import (\n",
    "    SpaceEnv,\n",
    "    SpaceDataset,\n",
    "    DataMaster,\n",
    "    DatasetEvaluator,\n",
    "    EnvEvaluator,\n",
    ")"
   ]
  },
  {
   "attachments": {},
   "cell_type": "markdown",
   "metadata": {},
   "source": [
    "Load the datamaster to list available datasets"
   ]
  },
  {
   "cell_type": "code",
   "execution_count": 4,
   "metadata": {},
   "outputs": [
    {
     "data": {
      "text/plain": [
       "['healthd_dmgrcs_mortality_disc',\n",
       " 'cdcsvi_limteng_hburdic_cont',\n",
       " 'climate_relhum_wfsmoke_cont',\n",
       " 'climate_wfsmoke_minrty_disc',\n",
       " 'healthd_hhinco_mortality_cont',\n",
       " 'healthd_pollutn_mortality_cont',\n",
       " 'county_educatn_election_cont',\n",
       " 'county_phyactiv_lifexpcy_cont',\n",
       " 'county_dmgrcs_election_disc',\n",
       " 'cdcsvi_nohsdp_poverty_cont',\n",
       " 'cdcsvi_nohsdp_poverty_disc']"
      ]
     },
     "execution_count": 4,
     "metadata": {},
     "output_type": "execute_result"
    }
   ],
   "source": [
    "DataMaster().list_datasets()"
   ]
  },
  {
   "attachments": {},
   "cell_type": "markdown",
   "metadata": {},
   "source": [
    "Create the environment."
   ]
  },
  {
   "cell_type": "code",
   "execution_count": 5,
   "metadata": {},
   "outputs": [
    {
     "data": {
      "text/plain": [
       "dict_keys(['name', 'datamaster', 'api', 'dir', 'config', 'synthetic_data', 'metadata', 'graph', 'confounding_score_dict', 'smoothness_score_dict'])"
      ]
     },
     "execution_count": 5,
     "metadata": {},
     "output_type": "execute_result"
    }
   ],
   "source": [
    "envname = \"healthd_dmgrcs_mortality_disc\"\n",
    "env = SpaceEnv(envname, dir=\"downloads\")\n",
    "env.__dict__.keys()"
   ]
  },
  {
   "attachments": {},
   "cell_type": "markdown",
   "metadata": {},
   "source": [
    "Example of generating a dataset."
   ]
  },
  {
   "cell_type": "code",
   "execution_count": 6,
   "metadata": {},
   "outputs": [
    {
     "name": "stdout",
     "output_type": "stream",
     "text": [
      "treatment shape (3109,)\n",
      "covariates shape (3109, 30)\n",
      "num. edges 9237\n",
      "smoothness of missing confounder 0.9172865697469724\n",
      "confounding of missing confounder 0.0031897470194030358\n"
     ]
    }
   ],
   "source": [
    "dataset = env.make()\n",
    "print(\"treatment shape\", dataset.treatment.shape)\n",
    "print(\"covariates shape\", dataset.covariates.shape)\n",
    "print(\"num. edges\", len(dataset.edges)) \n",
    "print(\"smoothness of missing confounder\", dataset.smoothness_of_missing)\n",
    "print(\"confounding of missing confounder\", dataset.confounding_of_missing)\n"
   ]
  },
  {
   "attachments": {},
   "cell_type": "markdown",
   "metadata": {},
   "source": [
    "Now we use pySal models:"
   ]
  },
  {
   "cell_type": "code",
   "execution_count": 7,
   "metadata": {},
   "outputs": [],
   "source": [
    "\n",
    "W = lp.weights.full2W(dataset.adjacency_matrix()) "
   ]
  },
  {
   "cell_type": "code",
   "execution_count": 8,
   "metadata": {},
   "outputs": [],
   "source": [
    "treatment = dataset.treatment[:, None]\n",
    "covariates = dataset.covariates\n",
    "outcome = dataset.outcome\n",
    "\n",
    "# make train matrix\n",
    "trainmat = np.hstack([covariates, treatment])"
   ]
  },
  {
   "cell_type": "code",
   "execution_count": 9,
   "metadata": {},
   "outputs": [],
   "source": [
    "\n",
    "model_gm_lag = spreg.GM_Lag(\n",
    "    outcome,\n",
    "    trainmat,\n",
    "    w=W\n",
    ")"
   ]
  },
  {
   "cell_type": "code",
   "execution_count": 10,
   "metadata": {},
   "outputs": [
    {
     "name": "stderr",
     "output_type": "stream",
     "text": [
      "/Users/ant746/PycharmProjects/space/.venv/lib/python3.10/site-packages/scipy/optimize/_minimize.py:892: RuntimeWarning: Method 'bounded' does not support relative tolerance in x; defaulting to absolute tolerance.\n",
      "  warn(\"Method 'bounded' does not support relative tolerance in x; \"\n",
      "/Users/ant746/PycharmProjects/space/.venv/lib/python3.10/site-packages/spreg/ml_lag.py:608: RuntimeWarning: invalid value encountered in log\n",
      "  jacob = np.log(np.linalg.det(a))\n"
     ]
    }
   ],
   "source": [
    "model_ml_lag = spreg.ML_Lag(\n",
    "    outcome,\n",
    "    trainmat,\n",
    "    w=W\n",
    ")"
   ]
  },
  {
   "cell_type": "code",
   "execution_count": 11,
   "metadata": {},
   "outputs": [
    {
     "name": "stderr",
     "output_type": "stream",
     "text": [
      "/Users/ant746/PycharmProjects/space/.venv/lib/python3.10/site-packages/spreg/ml_error.py:509: RuntimeWarning: invalid value encountered in log\n",
      "  jacob = np.log(np.linalg.det(a))\n"
     ]
    }
   ],
   "source": [
    "model_ml_error = spreg.ML_Error(\n",
    "    outcome,\n",
    "    trainmat,\n",
    "    w=W\n",
    ")"
   ]
  },
  {
   "cell_type": "code",
   "execution_count": 12,
   "metadata": {},
   "outputs": [
    {
     "name": "stdout",
     "output_type": "stream",
     "text": [
      "REGRESSION\n",
      "----------\n",
      "SUMMARY OF OUTPUT: MAXIMUM LIKELIHOOD SPATIAL LAG (METHOD = FULL)\n",
      "-----------------------------------------------------------------\n",
      "Data set            :     unknown\n",
      "Weights matrix      :     unknown\n",
      "Dependent Variable  :     dep_var                Number of Observations:        3109\n",
      "Mean dependent var  :     21.2983                Number of Variables   :          33\n",
      "S.D. dependent var  :      4.5544                Degrees of Freedom    :        3076\n",
      "Pseudo R-squared    :      0.2534\n",
      "Spatial Pseudo R-squared:  0.2497\n",
      "Sigma-square ML     :      15.482                Log likelihood        :   -8671.132\n",
      "S.E of regression   :       3.935                Akaike info criterion :   17408.265\n",
      "                                                 Schwarz criterion     :   17607.652\n",
      "\n",
      "------------------------------------------------------------------------------------\n",
      "            Variable     Coefficient       Std.Error     z-Statistic     Probability\n",
      "------------------------------------------------------------------------------------\n",
      "            CONSTANT    -147.4514878      30.0449349      -4.9076987       0.0000009\n",
      "               var_1       2.1517313       0.4182127       5.1450646       0.0000003\n",
      "               var_2       0.5334540       0.3077922       1.7331631       0.0830667\n",
      "               var_3       0.8605404       0.5260992       1.6356998       0.1019024\n",
      "               var_4       0.0006105       0.0002351       2.5961988       0.0094261\n",
      "               var_5      -0.9894297       1.4348600      -0.6895653       0.4904676\n",
      "               var_6       0.6592144       1.2129919       0.5434615       0.5868121\n",
      "               var_7      10.8316421       6.3523455       1.7051406       0.0881682\n",
      "               var_8      -1.3938250       1.1163712      -1.2485318       0.2118364\n",
      "               var_9       0.0935089       2.3145284       0.0404009       0.9677735\n",
      "              var_10       2.8630851       1.1498888       2.4898800       0.0127786\n",
      "              var_11      -0.0000762       0.0000185      -4.1182183       0.0000382\n",
      "              var_12      -0.0000114       0.0000016      -7.1903713       0.0000000\n",
      "              var_13      11.6389344       7.9636777       1.4615024       0.1438776\n",
      "              var_14       0.0001197       0.0000474       2.5234326       0.0116215\n",
      "              var_15      -1.2997934       2.2048157      -0.5895248       0.5555093\n",
      "              var_16      -0.0087262       0.1258118      -0.0693590       0.9447039\n",
      "              var_17       0.1196369       0.0495918       2.4124331       0.0158464\n",
      "              var_18    -2839.9210870     890.7184600      -3.1883487       0.0014309\n",
      "              var_19      -0.0561169       0.0759236      -0.7391235       0.4598320\n",
      "              var_20    1083.6323818     420.8897695       2.5746228       0.0100349\n",
      "              var_21      -0.7804673       0.2570326      -3.0364520       0.0023938\n",
      "              var_22       0.7112790       0.3109938       2.2871163       0.0221890\n",
      "              var_23       1.6959935       0.4227801       4.0115268       0.0000603\n",
      "              var_24      -0.9928685       0.5031316      -1.9733774       0.0484526\n",
      "              var_25       0.0147487       0.0579528       0.2544951       0.7991131\n",
      "              var_26       0.0792372       0.0404621       1.9583053       0.0501942\n",
      "              var_27     471.9305832     616.3129588       0.7657320       0.4438358\n",
      "              var_28      -0.3046619       0.1845203      -1.6511023       0.0987177\n",
      "              var_29       0.2344963       0.2660425       0.8814242       0.3780883\n",
      "              var_30       0.1280990       0.0564694       2.2684654       0.0233009\n",
      "           W_dep_var       2.3237729       0.1930850      12.0349734       0.0000000\n",
      "------------------------------------------------------------------------------------\n",
      "================================ END OF REPORT =====================================\n"
     ]
    }
   ],
   "source": [
    "print(model_ml_lag.summary)"
   ]
  },
  {
   "cell_type": "code",
   "execution_count": 13,
   "metadata": {},
   "outputs": [
    {
     "data": {
      "text/plain": [
       "(33, 1)"
      ]
     },
     "execution_count": 13,
     "metadata": {},
     "output_type": "execute_result"
    }
   ],
   "source": [
    "model_gm_lag.betas.shape"
   ]
  },
  {
   "attachments": {},
   "cell_type": "markdown",
   "metadata": {},
   "source": [
    "Model shape je 33 zato sto ima coefs for: `constant`, `covariates` and `W_outcome`."
   ]
  },
  {
   "cell_type": "code",
   "execution_count": 14,
   "metadata": {},
   "outputs": [
    {
     "data": {
      "text/plain": [
       "(3109, 31)"
      ]
     },
     "execution_count": 14,
     "metadata": {},
     "output_type": "execute_result"
    }
   ],
   "source": [
    "trainmat.shape"
   ]
  },
  {
   "cell_type": "markdown",
   "metadata": {},
   "source": [
    "## Predictions"
   ]
  },
  {
   "cell_type": "code",
   "execution_count": 15,
   "metadata": {},
   "outputs": [],
   "source": [
    "# predict counterfactuals\n",
    "tvals = dataset.treatment_values\n",
    "counterfactuals_ml = []\n",
    "counterfactuals_gm = []\n",
    "counterfactuals_ml_er = []\n",
    "for tval in tvals:\n",
    "    treatment_beta_ml = model_ml_lag.betas[-2]\n",
    "    treatment_beta_gm = model_gm_lag.betas[-2]\n",
    "    treatment_beta_ml_er = model_ml_error.betas[-2]\n",
    "\n",
    "    diff = np.squeeze(tval-treatment, axis=-1)\n",
    "\n",
    "    counterfactuals_ml.append(outcome + treatment_beta_ml*(diff))\n",
    "    counterfactuals_gm.append(outcome + treatment_beta_gm*(diff))\n",
    "    counterfactuals_ml_er.append(outcome + treatment_beta_ml_er*(diff))\n",
    "\n",
    "\n",
    "counterfactuals_ml = np.stack(counterfactuals_ml, axis=1)\n",
    "counterfactuals_gm = np.stack(counterfactuals_gm, axis=1)\n",
    "counterfactuals_ml_er = np.stack(counterfactuals_ml_er, axis=1)"
   ]
  },
  {
   "cell_type": "code",
   "execution_count": 16,
   "metadata": {},
   "outputs": [],
   "source": [
    "erf_ml = counterfactuals_ml.mean(0)\n",
    "erf_gm = counterfactuals_gm.mean(0)\n",
    "erf_ml_er = counterfactuals_ml_er.mean(0)\n"
   ]
  },
  {
   "cell_type": "code",
   "execution_count": 17,
   "metadata": {},
   "outputs": [
    {
     "data": {
      "text/plain": [
       "(2,)"
      ]
     },
     "execution_count": 17,
     "metadata": {},
     "output_type": "execute_result"
    }
   ],
   "source": [
    "erf_gm.shape"
   ]
  },
  {
   "cell_type": "code",
   "execution_count": 18,
   "metadata": {},
   "outputs": [
    {
     "data": {
      "text/plain": [
       "array([20.36852325, 22.69229618])"
      ]
     },
     "execution_count": 18,
     "metadata": {},
     "output_type": "execute_result"
    }
   ],
   "source": [
    "erf_ml"
   ]
  },
  {
   "cell_type": "code",
   "execution_count": 19,
   "metadata": {},
   "outputs": [
    {
     "data": {
      "text/plain": [
       "array([20.38476808, 22.66794199])"
      ]
     },
     "execution_count": 19,
     "metadata": {},
     "output_type": "execute_result"
    }
   ],
   "source": [
    "erf_ml_er"
   ]
  },
  {
   "cell_type": "code",
   "execution_count": 20,
   "metadata": {},
   "outputs": [
    {
     "data": {
      "image/png": "[encoded data removed]",
      "text/plain": [
       "<Figure size 400x300 with 1 Axes>"
      ]
     },
     "metadata": {},
     "output_type": "display_data"
    }
   ],
   "source": [
    "# plot comparing estimated and true erf\n",
    "erf_true = dataset.erf()\n",
    "\n",
    "fig, ax = plt.subplots(1, 1, figsize=(4, 3))\n",
    "ax.plot(dataset.treatment_values, erf_ml, label=\"estimated with ML_Lag\")\n",
    "# ax.plot(dataset.treatment_values, erf_gm, label=\"estimated with GM_Lag\")\n",
    "ax.plot(dataset.treatment_values, erf_ml_er, label=\"estimated with ML Error\")\n",
    "\n",
    "ax.plot(dataset.treatment_values, erf_true, label=\"true ERF\", linestyle=\"--\", color=\"k\")\n",
    "ax.set_xlabel(\"treatment\")\n",
    "ax.set_ylabel(\"outcome\")\n",
    "ax.legend();"
   ]
  },
  {
   "cell_type": "markdown",
   "metadata": {},
   "source": []
  }
 ],
 "metadata": {
  "kernelspec": {
   "display_name": ".venv",
   "language": "python",
   "name": "python3"
  },
  "language_info": {
   "codemirror_mode": {
    "name": "ipython",
    "version": 3
   },
   "file_extension": ".py",
   "mimetype": "text/x-python",
   "name": "python",
   "nbconvert_exporter": "python",
   "pygments_lexer": "ipython3",
   "version": "3.10.4"
  },
  "orig_nbformat": 4
 },
 "nbformat": 4,
 "nbformat_minor": 2
}
