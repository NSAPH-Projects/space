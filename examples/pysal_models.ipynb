{
 "cells": [
  {
   "attachments": {},
   "cell_type": "markdown",
   "metadata": {},
   "source": [
    "# `PySal` Spatial Regression Models"
   ]
  },
  {
   "cell_type": "code",
   "execution_count": 6,
   "metadata": {},
   "outputs": [],
   "source": [
    "from pysal.model import spreg\n",
    "import matplotlib.pyplot as plt\n",
    "import libpysal as lp\n",
    "import numpy as np\n",
    "import pandas as pd"
   ]
  },
  {
   "attachments": {},
   "cell_type": "markdown",
   "metadata": {},
   "source": [
    "We will use the following libraties from spacebench."
   ]
  },
  {
   "cell_type": "code",
   "execution_count": 2,
   "metadata": {},
   "outputs": [],
   "source": [
    "from spacebench import (\n",
    "    SpaceEnv,\n",
    "    SpaceDataset,\n",
    "    DataMaster,\n",
    "    DatasetEvaluator,\n",
    "    EnvEvaluator,\n",
    ")"
   ]
  },
  {
   "attachments": {},
   "cell_type": "markdown",
   "metadata": {},
   "source": [
    "Load the datamaster to list available datasets"
   ]
  },
  {
   "cell_type": "code",
   "execution_count": 3,
   "metadata": {},
   "outputs": [
    {
     "data": {
      "text/plain": [
       "['healthd_dmgrcs_mortality_disc',\n",
       " 'cdcsvi_limteng_hburdic_cont',\n",
       " 'climate_relhum_wfsmoke_cont',\n",
       " 'climate_wfsmoke_minrty_disc',\n",
       " 'healthd_hhinco_mortality_cont',\n",
       " 'healthd_pollutn_mortality_cont',\n",
       " 'county_educatn_election_cont',\n",
       " 'county_phyactiv_lifexpcy_cont',\n",
       " 'county_dmgrcs_election_disc',\n",
       " 'cdcsvi_nohsdp_poverty_cont',\n",
       " 'cdcsvi_nohsdp_poverty_disc']"
      ]
     },
     "execution_count": 3,
     "metadata": {},
     "output_type": "execute_result"
    }
   ],
   "source": [
    "DataMaster().list_datasets()"
   ]
  },
  {
   "attachments": {},
   "cell_type": "markdown",
   "metadata": {},
   "source": [
    "Create the environment."
   ]
  },
  {
   "cell_type": "code",
   "execution_count": 4,
   "metadata": {},
   "outputs": [
    {
     "data": {
      "text/plain": [
       "dict_keys(['name', 'datamaster', 'api', 'dir', 'config', 'synthetic_data', 'metadata', 'graph', 'confounding_score_dict', 'smoothness_score_dict'])"
      ]
     },
     "execution_count": 4,
     "metadata": {},
     "output_type": "execute_result"
    }
   ],
   "source": [
    "envname = \"healthd_dmgrcs_mortality_disc\"\n",
    "env = SpaceEnv(envname, dir=\"downloads\")\n",
    "env.__dict__.keys()"
   ]
  },
  {
   "attachments": {},
   "cell_type": "markdown",
   "metadata": {},
   "source": [
    "Example of generating a dataset."
   ]
  },
  {
   "cell_type": "code",
   "execution_count": 5,
   "metadata": {},
   "outputs": [
    {
     "name": "stdout",
     "output_type": "stream",
     "text": [
      "treatment shape (3109,)\n",
      "covariates shape (3109, 30)\n",
      "num. edges 9237\n",
      "smoothness of missing confounder 0.9336731373766155\n",
      "confounding of missing confounder 0.006034317449569775\n"
     ]
    }
   ],
   "source": [
    "dataset = env.make()\n",
    "print(\"treatment shape\", dataset.treatment.shape)\n",
    "print(\"covariates shape\", dataset.covariates.shape)\n",
    "print(\"num. edges\", len(dataset.edges)) \n",
    "print(\"smoothness of missing confounder\", dataset.smoothness_of_missing)\n",
    "print(\"confounding of missing confounder\", dataset.confounding_of_missing)\n"
   ]
  },
  {
   "attachments": {},
   "cell_type": "markdown",
   "metadata": {},
   "source": [
    "Now we use pySal models:"
   ]
  },
  {
   "cell_type": "code",
   "execution_count": 7,
   "metadata": {},
   "outputs": [],
   "source": [
    "\n",
    "W = lp.weights.full2W(dataset.adjacency_matrix()) "
   ]
  },
  {
   "cell_type": "code",
   "execution_count": 8,
   "metadata": {},
   "outputs": [],
   "source": [
    "treatment = dataset.treatment[:, None]\n",
    "covariates = dataset.covariates\n",
    "outcome = dataset.outcome\n",
    "\n",
    "# make train matrix\n",
    "trainmat = np.hstack([covariates, treatment])"
   ]
  },
  {
   "cell_type": "code",
   "execution_count": 9,
   "metadata": {},
   "outputs": [],
   "source": [
    "\n",
    "model_gm_lag = spreg.GM_Lag(\n",
    "    outcome,\n",
    "    trainmat,\n",
    "    w=W\n",
    ")"
   ]
  },
  {
   "cell_type": "code",
   "execution_count": 11,
   "metadata": {},
   "outputs": [],
   "source": [
    "model_ml_lag = spreg.ML_Lag(\n",
    "    outcome,\n",
    "    trainmat,\n",
    "    w=W\n",
    ")"
   ]
  },
  {
   "cell_type": "code",
   "execution_count": 12,
   "metadata": {},
   "outputs": [
    {
     "name": "stderr",
     "output_type": "stream",
     "text": [
      "/Users/ant746/PycharmProjects/space/.venv/lib/python3.10/site-packages/spreg/ml_error.py:509: RuntimeWarning: invalid value encountered in log\n",
      "  jacob = np.log(np.linalg.det(a))\n"
     ]
    }
   ],
   "source": [
    "model_ml_error = spreg.ML_Error(\n",
    "    outcome,\n",
    "    trainmat,\n",
    "    w=W\n",
    ")"
   ]
  },
  {
   "cell_type": "code",
   "execution_count": 13,
   "metadata": {},
   "outputs": [
    {
     "name": "stdout",
     "output_type": "stream",
     "text": [
      "REGRESSION\n",
      "----------\n",
      "SUMMARY OF OUTPUT: MAXIMUM LIKELIHOOD SPATIAL LAG (METHOD = FULL)\n",
      "-----------------------------------------------------------------\n",
      "Data set            :     unknown\n",
      "Weights matrix      :     unknown\n",
      "Dependent Variable  :     dep_var                Number of Observations:        3109\n",
      "Mean dependent var  :     21.2983                Number of Variables   :          33\n",
      "S.D. dependent var  :      4.5544                Degrees of Freedom    :        3076\n",
      "Pseudo R-squared    :      0.2554\n",
      "Spatial Pseudo R-squared:  0.2516\n",
      "Sigma-square ML     :      15.440                Log likelihood        :   -8666.892\n",
      "S.E of regression   :       3.929                Akaike info criterion :   17399.785\n",
      "                                                 Schwarz criterion     :   17599.173\n",
      "\n",
      "------------------------------------------------------------------------------------\n",
      "            Variable     Coefficient       Std.Error     z-Statistic     Probability\n",
      "------------------------------------------------------------------------------------\n",
      "            CONSTANT    -159.2727836      29.8144133      -5.3421405       0.0000001\n",
      "               var_1       2.2509186       0.4180526       5.3842954       0.0000001\n",
      "               var_2       0.5735536       0.3061019       1.8737341       0.0609671\n",
      "               var_3       0.3938474       0.5433610       0.7248358       0.4685528\n",
      "               var_4       0.0006159       0.0002347       2.6240154       0.0086900\n",
      "               var_5      -0.8808229       1.4332562      -0.6145607       0.5388449\n",
      "               var_6       0.7588200       1.2105105       0.6268595       0.5307513\n",
      "               var_7      10.6500483       6.3423989       1.6791830       0.0931164\n",
      "               var_8      -1.4049584       1.1134200      -1.2618405       0.2070062\n",
      "               var_9       0.3270040       2.3125839       0.1414020       0.8875524\n",
      "              var_10       2.8721275       1.1416814       2.5156996       0.0118796\n",
      "              var_11      -0.0000732       0.0000185      -3.9518316       0.0000776\n",
      "              var_12      -0.0000119       0.0000016      -7.4974184       0.0000000\n",
      "              var_13      11.4557030       7.9374086       1.4432548       0.1489487\n",
      "              var_14       0.0001218       0.0000473       2.5737598       0.0100600\n",
      "              var_15      -1.3035412       2.1993600      -0.5926911       0.5533879\n",
      "              var_16       0.3964441       0.1053533       3.7629976       0.0001679\n",
      "              var_17    -5152.9475088    1112.5340149      -4.6317213       0.0000036\n",
      "              var_18      -0.0755180       0.0422154      -1.7888728       0.0736353\n",
      "              var_19      -0.1785034       0.0612344      -2.9150822       0.0035559\n",
      "              var_20    2193.1200851     519.5234712       4.2214071       0.0000243\n",
      "              var_21      -1.2730189       0.3008721      -4.2310964       0.0000233\n",
      "              var_22       0.3802144       0.2439772       1.5584015       0.1191381\n",
      "              var_23       2.6162687       0.5014743       5.2171545       0.0000002\n",
      "              var_24      -0.5083125       0.3396956      -1.4963765       0.1345556\n",
      "              var_25      -0.0317876       0.0416080      -0.7639765       0.4448812\n",
      "              var_26       0.0161242       0.0453694       0.3553983       0.7222912\n",
      "              var_27    1420.2308288     655.3920619       2.1669942       0.0302353\n",
      "              var_28      -0.5751774       0.2003962      -2.8702006       0.0041021\n",
      "              var_29      -0.0205722       0.2362475      -0.0870790       0.9306087\n",
      "              var_30       0.1189627       0.0561639       2.1181366       0.0341635\n",
      "           W_dep_var       2.2920473       0.1930268      11.8742426       0.0000000\n",
      "------------------------------------------------------------------------------------\n",
      "================================ END OF REPORT =====================================\n"
     ]
    }
   ],
   "source": [
    "print(model_ml_lag.summary)"
   ]
  },
  {
   "cell_type": "code",
   "execution_count": 14,
   "metadata": {},
   "outputs": [
    {
     "data": {
      "text/plain": [
       "(33, 1)"
      ]
     },
     "execution_count": 14,
     "metadata": {},
     "output_type": "execute_result"
    }
   ],
   "source": [
    "model_gm_lag.betas.shape"
   ]
  },
  {
   "attachments": {},
   "cell_type": "markdown",
   "metadata": {},
   "source": [
    "Model shape je 33 zato sto ima coefs for: `constant`, `covariates` and `W_outcome`."
   ]
  },
  {
   "cell_type": "code",
   "execution_count": 15,
   "metadata": {},
   "outputs": [
    {
     "data": {
      "text/plain": [
       "(3109, 31)"
      ]
     },
     "execution_count": 15,
     "metadata": {},
     "output_type": "execute_result"
    }
   ],
   "source": [
    "trainmat.shape"
   ]
  },
  {
   "cell_type": "markdown",
   "metadata": {},
   "source": [
    "## Predictions"
   ]
  },
  {
   "cell_type": "code",
   "execution_count": 141,
   "metadata": {},
   "outputs": [],
   "source": [
    "# predict counterfactuals\n",
    "tvals = dataset.treatment_values\n",
    "counterfactuals_ml = []\n",
    "counterfactuals_gm = []\n",
    "counterfactuals_ml_er = []\n",
    "for tval in tvals:\n",
    "    treatment_beta_ml = model_ml_lag.betas[-2]\n",
    "    treatment_beta_gm = model_gm_lag.betas[-2]\n",
    "    treatment_beta_ml_er = model_ml_error.betas[-2]\n",
    "\n",
    "    diff = np.squeeze(tval-treatment, axis=-1)\n",
    "\n",
    "    counterfactuals_ml.append(outcome + treatment_beta_ml*(diff))\n",
    "    counterfactuals_gm.append(outcome + treatment_beta_gm*(diff))\n",
    "    counterfactuals_ml_er.append(outcome + treatment_beta_ml_er*(diff))\n",
    "\n",
    "\n",
    "counterfactuals_ml = np.stack(counterfactuals_ml, axis=1)\n",
    "counterfactuals_gm = np.stack(counterfactuals_gm, axis=1)\n",
    "counterfactuals_ml_er = np.stack(counterfactuals_ml_er, axis=1)"
   ]
  },
  {
   "cell_type": "code",
   "execution_count": 142,
   "metadata": {},
   "outputs": [],
   "source": [
    "erf_ml = counterfactuals_ml.mean(0)\n",
    "erf_gm = counterfactuals_gm.mean(0)\n",
    "erf_ml_er = counterfactuals_ml_er.mean(0)\n"
   ]
  },
  {
   "cell_type": "code",
   "execution_count": 143,
   "metadata": {},
   "outputs": [
    {
     "data": {
      "text/plain": [
       "(2,)"
      ]
     },
     "execution_count": 143,
     "metadata": {},
     "output_type": "execute_result"
    }
   ],
   "source": [
    "erf_gm.shape"
   ]
  },
  {
   "cell_type": "code",
   "execution_count": 146,
   "metadata": {},
   "outputs": [
    {
     "data": {
      "text/plain": [
       "array([20.3812176 , 22.67326486])"
      ]
     },
     "execution_count": 146,
     "metadata": {},
     "output_type": "execute_result"
    }
   ],
   "source": [
    "erf_ml"
   ]
  },
  {
   "cell_type": "code",
   "execution_count": 148,
   "metadata": {},
   "outputs": [
    {
     "data": {
      "text/plain": [
       "array([20.3977635, 22.6484593])"
      ]
     },
     "execution_count": 148,
     "metadata": {},
     "output_type": "execute_result"
    }
   ],
   "source": [
    "erf_ml_er"
   ]
  },
  {
   "cell_type": "code",
   "execution_count": 149,
   "metadata": {},
   "outputs": [
    {
     "data": {
      "image/png": "[encoded data removed]",
      "text/plain": [
       "<Figure size 400x300 with 1 Axes>"
      ]
     },
     "metadata": {},
     "output_type": "display_data"
    }
   ],
   "source": [
    "# plot comparing estimated and true erf\n",
    "erf_true = dataset.erf()\n",
    "\n",
    "fig, ax = plt.subplots(1, 1, figsize=(4, 3))\n",
    "ax.plot(dataset.treatment_values, erf_ml, label=\"estimated with ML_Lag\")\n",
    "# ax.plot(dataset.treatment_values, erf_gm, label=\"estimated with GM_Lag\")\n",
    "ax.plot(dataset.treatment_values, erf_ml_er, label=\"estimated with ML Error\")\n",
    "\n",
    "ax.plot(dataset.treatment_values, erf_true, label=\"true ERF\", linestyle=\"--\", color=\"k\")\n",
    "ax.set_xlabel(\"treatment\")\n",
    "ax.set_ylabel(\"outcome\")\n",
    "ax.legend();"
   ]
  },
  {
   "cell_type": "markdown",
   "metadata": {},
   "source": []
  }
 ],
 "metadata": {
  "kernelspec": {
   "display_name": ".venv",
   "language": "python",
   "name": "python3"
  },
  "language_info": {
   "codemirror_mode": {
    "name": "ipython",
    "version": 3
   },
   "file_extension": ".py",
   "mimetype": "text/x-python",
   "name": "python",
   "nbconvert_exporter": "python",
   "pygments_lexer": "ipython3",
   "version": "3.10.4"
  },
  "orig_nbformat": 4
 },
 "nbformat": 4,
 "nbformat_minor": 2
}
