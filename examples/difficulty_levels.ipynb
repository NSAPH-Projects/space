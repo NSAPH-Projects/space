{
 "cells": [
  {
   "attachments": {},
   "cell_type": "markdown",
   "metadata": {},
   "source": [
    "# Space datasets description"
   ]
  },
  {
   "cell_type": "code",
   "execution_count": 1,
   "metadata": {},
   "outputs": [
    {
     "name": "stdout",
     "output_type": "stream",
     "text": [
      "WARNING ⚠️ : this package contains data with synthetic outcomes!\n",
      "No inferences about the source data collection can be made.\n",
      "By using it, you agree to understand its limitations and purpose.\n",
      "The sole objective of SpaCE is to support the development of new\n",
      "spatial confounding methods.\n",
      "\n"
     ]
    }
   ],
   "source": [
    "import numpy as np\n",
    "from spacebench import SpaceEnv, DataMaster\n",
    "import matplotlib.pyplot as plt"
   ]
  },
  {
   "cell_type": "code",
   "execution_count": 2,
   "metadata": {},
   "outputs": [
    {
     "data": {
      "text/plain": [
       "Available datasets (total: 11):\n",
       "\n",
       "  healthd_dmgrcs_mortality_disc\n",
       "  cdcsvi_limteng_hburdic_cont\n",
       "  climate_relhum_wfsmoke_cont\n",
       "  climate_wfsmoke_minrty_disc\n",
       "  healthd_hhinco_mortality_cont\n",
       "  ...\n",
       "  county_educatn_election_cont\n",
       "  county_phyactiv_lifexpcy_cont\n",
       "  county_dmgrcs_election_disc\n",
       "  cdcsvi_nohsdp_poverty_cont\n",
       "  cdcsvi_nohsdp_poverty_disc"
      ]
     },
     "execution_count": 2,
     "metadata": {},
     "output_type": "execute_result"
    }
   ],
   "source": [
    "space_master = DataMaster()\n",
    "space_master"
   ]
  },
  {
   "cell_type": "code",
   "execution_count": 3,
   "metadata": {},
   "outputs": [
    {
     "data": {
      "text/html": [
       "<div>\n",
       "<style scoped>\n",
       "    .dataframe tbody tr th:only-of-type {\n",
       "        vertical-align: middle;\n",
       "    }\n",
       "\n",
       "    .dataframe tbody tr th {\n",
       "        vertical-align: top;\n",
       "    }\n",
       "\n",
       "    .dataframe thead th {\n",
       "        text-align: right;\n",
       "    }\n",
       "</style>\n",
       "<table border=\"1\" class=\"dataframe\">\n",
       "  <thead>\n",
       "    <tr style=\"text-align: right;\">\n",
       "      <th></th>\n",
       "      <th>treatment_type</th>\n",
       "      <th>collection</th>\n",
       "    </tr>\n",
       "    <tr>\n",
       "      <th>environments</th>\n",
       "      <th></th>\n",
       "      <th></th>\n",
       "    </tr>\n",
       "  </thead>\n",
       "  <tbody>\n",
       "    <tr>\n",
       "      <th>healthd_dmgrcs_mortality_disc</th>\n",
       "      <td>binary</td>\n",
       "      <td>Air Pollution and Mortality</td>\n",
       "    </tr>\n",
       "    <tr>\n",
       "      <th>cdcsvi_limteng_hburdic_cont</th>\n",
       "      <td>continuous</td>\n",
       "      <td>Social Vulnerability and Welfare</td>\n",
       "    </tr>\n",
       "    <tr>\n",
       "      <th>climate_relhum_wfsmoke_cont</th>\n",
       "      <td>continuous</td>\n",
       "      <td>Heat Exposure and Wildfires</td>\n",
       "    </tr>\n",
       "    <tr>\n",
       "      <th>climate_wfsmoke_minrty_disc</th>\n",
       "      <td>binary</td>\n",
       "      <td>Heat Exposure and Wildfires</td>\n",
       "    </tr>\n",
       "    <tr>\n",
       "      <th>healthd_hhinco_mortality_cont</th>\n",
       "      <td>continuous</td>\n",
       "      <td>Air Pollution and Mortality</td>\n",
       "    </tr>\n",
       "    <tr>\n",
       "      <th>healthd_pollutn_mortality_cont</th>\n",
       "      <td>continuous</td>\n",
       "      <td>Air Pollution and Mortality</td>\n",
       "    </tr>\n",
       "    <tr>\n",
       "      <th>county_educatn_election_cont</th>\n",
       "      <td>continuous</td>\n",
       "      <td>Welfare and Elections</td>\n",
       "    </tr>\n",
       "    <tr>\n",
       "      <th>county_phyactiv_lifexpcy_cont</th>\n",
       "      <td>continuous</td>\n",
       "      <td>Welfare and Elections</td>\n",
       "    </tr>\n",
       "    <tr>\n",
       "      <th>county_dmgrcs_election_disc</th>\n",
       "      <td>binary</td>\n",
       "      <td>Welfare and Elections</td>\n",
       "    </tr>\n",
       "    <tr>\n",
       "      <th>cdcsvi_nohsdp_poverty_cont</th>\n",
       "      <td>continuous</td>\n",
       "      <td>Social Vulnerability and Welfare</td>\n",
       "    </tr>\n",
       "    <tr>\n",
       "      <th>cdcsvi_nohsdp_poverty_disc</th>\n",
       "      <td>binary</td>\n",
       "      <td>Social Vulnerability and Welfare</td>\n",
       "    </tr>\n",
       "  </tbody>\n",
       "</table>\n",
       "</div>"
      ],
      "text/plain": [
       "                               treatment_type  \\\n",
       "environments                                    \n",
       "healthd_dmgrcs_mortality_disc          binary   \n",
       "cdcsvi_limteng_hburdic_cont        continuous   \n",
       "climate_relhum_wfsmoke_cont        continuous   \n",
       "climate_wfsmoke_minrty_disc            binary   \n",
       "healthd_hhinco_mortality_cont      continuous   \n",
       "healthd_pollutn_mortality_cont     continuous   \n",
       "county_educatn_election_cont       continuous   \n",
       "county_phyactiv_lifexpcy_cont      continuous   \n",
       "county_dmgrcs_election_disc            binary   \n",
       "cdcsvi_nohsdp_poverty_cont         continuous   \n",
       "cdcsvi_nohsdp_poverty_disc             binary   \n",
       "\n",
       "                                                      collection  \n",
       "environments                                                      \n",
       "healthd_dmgrcs_mortality_disc        Air Pollution and Mortality  \n",
       "cdcsvi_limteng_hburdic_cont     Social Vulnerability and Welfare  \n",
       "climate_relhum_wfsmoke_cont          Heat Exposure and Wildfires  \n",
       "climate_wfsmoke_minrty_disc          Heat Exposure and Wildfires  \n",
       "healthd_hhinco_mortality_cont        Air Pollution and Mortality  \n",
       "healthd_pollutn_mortality_cont       Air Pollution and Mortality  \n",
       "county_educatn_election_cont               Welfare and Elections  \n",
       "county_phyactiv_lifexpcy_cont              Welfare and Elections  \n",
       "county_dmgrcs_election_disc                Welfare and Elections  \n",
       "cdcsvi_nohsdp_poverty_cont      Social Vulnerability and Welfare  \n",
       "cdcsvi_nohsdp_poverty_disc      Social Vulnerability and Welfare  "
      ]
     },
     "execution_count": 3,
     "metadata": {},
     "output_type": "execute_result"
    }
   ],
   "source": [
    "space_master.master"
   ]
  },
  {
   "cell_type": "code",
   "execution_count": 4,
   "metadata": {},
   "outputs": [
    {
     "data": {
      "text/plain": [
       "['Air Pollution and Mortality',\n",
       " 'Social Vulnerability and Welfare',\n",
       " 'Heat Exposure and Wildfires',\n",
       " 'Welfare and Elections']"
      ]
     },
     "execution_count": 4,
     "metadata": {},
     "output_type": "execute_result"
    }
   ],
   "source": [
    "collections = space_master.list_collections()\n",
    "collections"
   ]
  },
  {
   "cell_type": "code",
   "execution_count": 5,
   "metadata": {},
   "outputs": [
    {
     "data": {
      "text/plain": [
       "['healthd_dmgrcs_mortality_disc',\n",
       " 'cdcsvi_limteng_hburdic_cont',\n",
       " 'climate_relhum_wfsmoke_cont',\n",
       " 'climate_wfsmoke_minrty_disc',\n",
       " 'healthd_hhinco_mortality_cont',\n",
       " 'healthd_pollutn_mortality_cont',\n",
       " 'county_educatn_election_cont',\n",
       " 'county_phyactiv_lifexpcy_cont',\n",
       " 'county_dmgrcs_election_disc',\n",
       " 'cdcsvi_nohsdp_poverty_cont',\n",
       " 'cdcsvi_nohsdp_poverty_disc']"
      ]
     },
     "execution_count": 5,
     "metadata": {},
     "output_type": "execute_result"
    }
   ],
   "source": [
    "space_envs = space_master.list_envs()\n",
    "space_envs"
   ]
  },
  {
   "cell_type": "code",
   "execution_count": 6,
   "metadata": {},
   "outputs": [
    {
     "data": {
      "text/plain": [
       "SpaceEnv with birth certificate config:\n",
       "{\n",
       "  \"spaceenv\": {\n",
       "    \"base_name\": \"healthd_dmgrcs_mortality_disc\",\n",
       "    \"data_path\": \"data/air_pollution_mortality.tab\",\n",
       "    \"graph_path\": \"data/counties.graphml\",\n",
       "    \"covariates\": [\n",
       "      \"qd_mean_pm25\",\n",
       "      \"cs_poverty\",\n",
       "      \"cs_ed_below_highschool\",\n",
       "      \"cs_household_income\",\n",
       "      \"cs_median_house_value\",\n",
       "      \"cs_other\",\n",
       "      \"cs_population_density\",\n",
       "      \"cdc_mean_bmi\",\n",
       "      \"cdc_pct_cusmoker\",\n",
       "      \"cdc_pct_sdsmoker\",\n",
       "      \"cdc_pct_fmsmoker\",\n",
       "      \"cdc_pct_nvsmoker\",\n",
       "      \"cdc_pct_nnsmoker\",\n",
       "      \"gmet_mean_tmmn\",\n",
       "      \"gmet_mean_summer_tmmn\",\n",
       "      \"gmet_mean_winter_tmmn\",\n",
       "      \"gmet_mean_tmmx\",\n",
       "      \"gmet_mean_summer_tmmx\",\n",
       "      \"gmet_mean_winter_tmmx\",\n",
       "      \"gmet_mean_rmn\",\n",
       "      \"gmet_mean_summer_rmn\",\n",
       "      \"gmet_mean_winter_rmn\",\n",
       "      \"gmet_mean_rmx\",\n",
       "      \"gmet_mean_summer_rmx\",\n",
       "      \"gmet_mean_winter_rmx\",\n",
       "      \"gmet_mean_sph\",\n",
       "      \"gmet_mean_summer_sph\",\n",
       "      \"gmet_mean_winter_sph\",\n",
       "      \"bin_NORTHEAST\",\n",
       "      \"bin_SOUTH\",\n",
       "      \"bin_WEST\"\n",
       "    ],\n",
       "    \"outcome\": \"cdc_mortality_pct\",\n",
       "    \"treament\": \"???\",\n",
       "    \"index_col\": \"0\",\n",
       "    \"treatment_max_bins\": \"100\",\n",
       "    \"scaling\": {\n",
       "      \"outcome\": \"null\",\n",
       "      \"treatment\": \"null\",\n",
       "      \"covariates\": \"null\"\n",
       "    },\n",
       "    \"transforms\": {\n",
       "      \"outcome\": \"null\",\n",
       "      \"treatment\": \"qbinary(0.60)\",\n",
       "      \"covariates\": \"null\"\n",
       "    },\n",
       "    \"seed\": \"42\",\n",
       "    \"autogluon\": {\n",
       "      \"fit\": {\n",
       "        \"presets\": \"best_quality\",\n",
       "        \"time_limit\": \"120\"\n",
       "      }\n",
       "    },\n",
       "    \"spatial_tuning\": {\n",
       "      \"frac\": \"0.05\",\n",
       "      \"levels\": \"0\",\n",
       "      \"buffer\": \"2\"\n",
       "    },\n",
       "    \"treatment\": \"cs_white\"\n",
       "  },\n",
       "  \"num_plot_samples\": \"50\",\n",
       "  \"debug_subsample\": \"null\",\n",
       "  \"dataverse\": {\n",
       "    \"baseurl\": \"https://dataverse.harvard.edu\",\n",
       "    \"pid\": \"doi:10.7910/DVN/SYNPBS\",\n",
       "    \"token\": \"null\"\n",
       "  }\n",
       "}\n",
       "WARNING ⚠️ : this env contains data with a (realistic) synthetic outcome!\n",
       "No inferences about the source data collection can be made.\n",
       "By using it, you agree to understand its limitations."
      ]
     },
     "execution_count": 6,
     "metadata": {},
     "output_type": "execute_result"
    }
   ],
   "source": [
    "envname = space_envs[0]\n",
    "env = SpaceEnv(envname)\n",
    "env"
   ]
  },
  {
   "cell_type": "code",
   "execution_count": 7,
   "metadata": {},
   "outputs": [],
   "source": [
    "for s in space_envs:\n",
    "    env = SpaceEnv(s)"
   ]
  },
  {
   "attachments": {},
   "cell_type": "markdown",
   "metadata": {},
   "source": [
    "## Summarize number of covariates"
   ]
  },
  {
   "cell_type": "code",
   "execution_count": 8,
   "metadata": {},
   "outputs": [
    {
     "data": {
      "text/plain": [
       "{'healthd_dmgrcs_mortality_disc': 31,\n",
       " 'cdcsvi_limteng_hburdic_cont': 12,\n",
       " 'climate_relhum_wfsmoke_cont': 10,\n",
       " 'climate_wfsmoke_minrty_disc': 22,\n",
       " 'healthd_hhinco_mortality_cont': 34,\n",
       " 'healthd_pollutn_mortality_cont': 35,\n",
       " 'county_educatn_election_cont': 40,\n",
       " 'county_phyactiv_lifexpcy_cont': 41,\n",
       " 'county_dmgrcs_election_disc': 41,\n",
       " 'cdcsvi_nohsdp_poverty_cont': 10,\n",
       " 'cdcsvi_nohsdp_poverty_disc': 10}"
      ]
     },
     "execution_count": 8,
     "metadata": {},
     "output_type": "execute_result"
    }
   ],
   "source": [
    "num_covars = dict()\n",
    "for s in space_envs:\n",
    "    env = SpaceEnv(s)\n",
    "    num_covars[s] = len(env.metadata[\"covariates\"])\n",
    "num_covars"
   ]
  },
  {
   "cell_type": "code",
   "execution_count": 9,
   "metadata": {},
   "outputs": [
    {
     "data": {
      "text/plain": [
       "{'Air Pollution and Mortality': 111,\n",
       " 'Social Vulnerability and Welfare': 111,\n",
       " 'Heat Exposure and Wildfires': 111,\n",
       " 'Welfare and Elections': 111}"
      ]
     },
     "execution_count": 9,
     "metadata": {},
     "output_type": "execute_result"
    }
   ],
   "source": [
    "num_covars = dict()\n",
    "for c in collections:\n",
    "    environments = space_master.list_envs(collection=c)\n",
    "    covars = list()\n",
    "    for e in environments:\n",
    "        env = SpaceEnv(e)\n",
    "        covars.extend(env.metadata[\"covariates\"])\n",
    "    num_covars[c] = len(set(covars))\n",
    "num_covars"
   ]
  },
  {
   "attachments": {},
   "cell_type": "markdown",
   "metadata": {},
   "source": [
    "## Summarize graph nodes and edges"
   ]
  },
  {
   "cell_type": "code",
   "execution_count": 17,
   "metadata": {},
   "outputs": [
    {
     "data": {
      "text/plain": [
       "{'healthd_dmgrcs_mortality_disc': {'nodes': 3109, 'edges': 9237},\n",
       " 'cdcsvi_limteng_hburdic_cont': {'nodes': 6828, 'edges': 21585},\n",
       " 'climate_relhum_wfsmoke_cont': {'nodes': 8616, 'edges': 26695},\n",
       " 'climate_wfsmoke_minrty_disc': {'nodes': 8616, 'edges': 26695},\n",
       " 'healthd_hhinco_mortality_cont': {'nodes': 3109, 'edges': 9237},\n",
       " 'healthd_pollutn_mortality_cont': {'nodes': 3109, 'edges': 9237},\n",
       " 'county_educatn_election_cont': {'nodes': 3108, 'edges': 9236},\n",
       " 'county_phyactiv_lifexpcy_cont': {'nodes': 3107, 'edges': 9231},\n",
       " 'county_dmgrcs_election_disc': {'nodes': 3108, 'edges': 9236},\n",
       " 'cdcsvi_nohsdp_poverty_cont': {'nodes': 6828, 'edges': 21585},\n",
       " 'cdcsvi_nohsdp_poverty_disc': {'nodes': 6828, 'edges': 21585}}"
      ]
     },
     "execution_count": 17,
     "metadata": {},
     "output_type": "execute_result"
    }
   ],
   "source": [
    "num_nodes = dict()\n",
    "for s in space_envs:\n",
    "    env = SpaceEnv(s, dir=\"downloads\")\n",
    "    num_nodes[s] = {\n",
    "        'nodes': env.graph.number_of_nodes(), #len(list(env.graph))\n",
    "        'edges': env.graph.number_of_edges() \n",
    "    }\n",
    "num_nodes"
   ]
  },
  {
   "attachments": {},
   "cell_type": "markdown",
   "metadata": {},
   "source": [
    "##"
   ]
  },
  {
   "attachments": {},
   "cell_type": "markdown",
   "metadata": {},
   "source": [
    "## Summarize feature importance"
   ]
  },
  {
   "cell_type": "code",
   "execution_count": 11,
   "metadata": {},
   "outputs": [
    {
     "data": {
      "text/plain": [
       "{'EP_NOINT': '2.822646393572124',\n",
       " 'EP_DISABL': '1.6235692236084387',\n",
       " 'EP_AGE17': '1.4695298624718613',\n",
       " 'EP_NOVEH': '1.3965648372607187',\n",
       " 'EP_NOHSDP': '1.2632656819081014',\n",
       " 'EP_LIMENG': '1.162969002748668',\n",
       " 'EP_SNGPNT': '1.1185575962103491',\n",
       " 'EP_AGE65': '0.8608152098576362',\n",
       " 'EP_MINRTY': '0.8257770764441151',\n",
       " 'EP_MUNIT': '0.7079269805466126',\n",
       " 'EP_UNEMP': '0.53526090496491'}"
      ]
     },
     "execution_count": 11,
     "metadata": {},
     "output_type": "execute_result"
    }
   ],
   "source": [
    "env.metadata[\"outcome_importance\"]"
   ]
  },
  {
   "cell_type": "code",
   "execution_count": 12,
   "metadata": {},
   "outputs": [
    {
     "data": {
      "text/plain": [
       "{'EP_LIMENG': '0.33568092161641155',\n",
       " 'EP_NOINT': '0.1494404102906236',\n",
       " 'EP_MUNIT': '0.08024022030058642',\n",
       " 'EP_DISABL': '0.03896010696548912',\n",
       " 'EP_MINRTY': '0.034320094226272684',\n",
       " 'EP_NOVEH': '0.021280058424681877',\n",
       " 'EP_AGE65': '0.016720045905107228',\n",
       " 'EP_AGE17': '0.01368003755872403',\n",
       " 'EP_SNGPNT': '0.00640001757133288',\n",
       " 'EP_UNEMP': '0.0053600147159912175'}"
      ]
     },
     "execution_count": 12,
     "metadata": {},
     "output_type": "execute_result"
    }
   ],
   "source": [
    "env.metadata[\"treatment_importance\"]"
   ]
  },
  {
   "cell_type": "code",
   "execution_count": 13,
   "metadata": {},
   "outputs": [
    {
     "data": {
      "text/plain": [
       "{'EP_NOINT': '0.1494404102906236',\n",
       " 'EP_LIMENG': '0.06958546308363311',\n",
       " 'EP_MUNIT': '0.04235833169612017',\n",
       " 'EP_DISABL': '0.03896010696548912',\n",
       " 'EP_MINRTY': '0.034320094226272684',\n",
       " 'EP_NOVEH': '0.021280058424681877',\n",
       " 'EP_AGE65': '0.016720045905107228',\n",
       " 'EP_AGE17': '0.01368003755872403',\n",
       " 'EP_SNGPNT': '0.00640001757133288',\n",
       " 'EP_UNEMP': '0.0053600147159912175'}"
      ]
     },
     "execution_count": 13,
     "metadata": {},
     "output_type": "execute_result"
    }
   ],
   "source": [
    "env.metadata[\"confounding_score\"]"
   ]
  },
  {
   "cell_type": "code",
   "execution_count": 15,
   "metadata": {},
   "outputs": [
    {
     "data": {
      "text/plain": [
       "{'healthd_dmgrcs_mortality_disc': {'min': '-0.0020631389201740446',\n",
       "  'max': '0.03894166356775765'},\n",
       " 'cdcsvi_limteng_hburdic_cont': {'min': '0.011070371878297649',\n",
       "  'max': '0.11507197526784825'},\n",
       " 'climate_relhum_wfsmoke_cont': {'min': '0.09331443630395377',\n",
       "  'max': '0.3556097249352253'},\n",
       " 'climate_wfsmoke_minrty_disc': {'min': '0.00653333333333328',\n",
       "  'max': '0.06253333333333326'},\n",
       " 'healthd_hhinco_mortality_cont': {'min': '0.0036904787008346296',\n",
       "  'max': '0.04571776388187819'},\n",
       " 'healthd_pollutn_mortality_cont': {'min': '0.005912432630215656',\n",
       "  'max': '0.04936122992686385'},\n",
       " 'county_educatn_election_cont': {'min': '0.0009286561948704933',\n",
       "  'max': '0.053742471351045075'},\n",
       " 'county_phyactiv_lifexpcy_cont': {'min': '0.0008399222515778157',\n",
       "  'max': '0.07534169583912828'},\n",
       " 'county_dmgrcs_election_disc': {'min': '-0.0006435391517509737',\n",
       "  'max': '0.09485767096808603'},\n",
       " 'cdcsvi_nohsdp_poverty_cont': {'min': '0.022899802891527554',\n",
       "  'max': '0.12201006346348209'},\n",
       " 'cdcsvi_nohsdp_poverty_disc': {'min': '0.0053600147159912175',\n",
       "  'max': '0.1494404102906236'}}"
      ]
     },
     "execution_count": 15,
     "metadata": {},
     "output_type": "execute_result"
    }
   ],
   "source": [
    "conf_score = dict()\n",
    "for s in space_envs:\n",
    "    env = SpaceEnv(s, dir=\"downloads\")\n",
    "    conf_score[s] = {\n",
    "        'min': min(env.metadata[\"confounding_score\"].values()), #len(list(env.graph))\n",
    "        'max': max(env.metadata[\"confounding_score\"].values())\n",
    "    }\n",
    "conf_score"
   ]
  },
  {
   "cell_type": "code",
   "execution_count": 17,
   "metadata": {},
   "outputs": [],
   "source": [
    "conf_score_list = list()\n",
    "for s in space_envs:\n",
    "    env = SpaceEnv(s)\n",
    "    conf_score_list.extend(list(env.metadata[\"confounding_score\"].values()))\n",
    "conf_score = np.array(conf_score_list, dtype=float)"
   ]
  },
  {
   "cell_type": "code",
   "execution_count": 18,
   "metadata": {},
   "outputs": [
    {
     "name": "stdout",
     "output_type": "stream",
     "text": [
      "min: -0.003475111419455089\n",
      "q25: 0.009098026810474715\n",
      "median: 0.013891074298352644\n",
      "mean: 0.024600302003953457\n",
      "q75: 0.023124950722881805\n",
      "max: 0.3556097249352253\n"
     ]
    }
   ],
   "source": [
    "print(f\"min: {conf_score.min()}\")\n",
    "print(f\"q25: {np.quantile(conf_score, 0.25)}\")\n",
    "print(f\"median: {np.median(conf_score)}\")\n",
    "print(f\"mean: {conf_score.mean()}\")\n",
    "print(f\"q75: {np.quantile(conf_score, 0.75)}\")\n",
    "print(f\"max: {conf_score.max()}\")"
   ]
  },
  {
   "cell_type": "code",
   "execution_count": 19,
   "metadata": {},
   "outputs": [
    {
     "data": {
      "image/png": "[encoded data removed]",
      "text/plain": [
       "<Figure size 640x480 with 1 Axes>"
      ]
     },
     "metadata": {},
     "output_type": "display_data"
    }
   ],
   "source": [
    "# make a histogram of the confounding scores\n",
    "plt.hist(conf_score, bins=20);"
   ]
  },
  {
   "attachments": {},
   "cell_type": "markdown",
   "metadata": {},
   "source": [
    "## Summarize Spatial Smoothness"
   ]
  },
  {
   "cell_type": "code",
   "execution_count": 20,
   "metadata": {},
   "outputs": [
    {
     "data": {
      "text/plain": [
       "{'EP_MINRTY': '0.7783039108312028',\n",
       " 'EP_LIMENG': '0.6458485779671742',\n",
       " 'EP_NOINT': '0.5434431399935832',\n",
       " 'EP_MUNIT': '0.5140301190081674',\n",
       " 'EP_DISABL': '0.42582719120076135',\n",
       " 'EP_AGE17': '0.3747199252001685',\n",
       " 'EP_AGE65': '0.37254954934640044',\n",
       " 'EP_NOVEH': '0.33559351815687305',\n",
       " 'EP_SNGPNT': '0.23762480186475463',\n",
       " 'EP_UNEMP': '0.17238520088112147'}"
      ]
     },
     "execution_count": 20,
     "metadata": {},
     "output_type": "execute_result"
    }
   ],
   "source": [
    "env.metadata[\"spatial_scores\"]"
   ]
  },
  {
   "cell_type": "code",
   "execution_count": 21,
   "metadata": {},
   "outputs": [],
   "source": [
    "spatial_score_list = list()\n",
    "for s in space_envs:\n",
    "    env = SpaceEnv(s, dir=\"downloads\")\n",
    "    spatial_score_list.extend(list(env.metadata[\"spatial_scores\"].values()))\n",
    "spatial_score = np.array(spatial_score_list)\n",
    "spatial_score = spatial_score.astype(float)"
   ]
  },
  {
   "cell_type": "code",
   "execution_count": 22,
   "metadata": {},
   "outputs": [
    {
     "name": "stdout",
     "output_type": "stream",
     "text": [
      "min: 0.02737651003533779\n",
      "q25: 0.3720776672219303\n",
      "median: 0.6213007201984886\n",
      "mean: 0.5876175933063786\n",
      "q75: 0.8863877698046329\n",
      "max: 0.9625116382134303\n"
     ]
    }
   ],
   "source": [
    "print(f\"min: {spatial_score.min()}\")\n",
    "print(f\"q25: {np.quantile(spatial_score, 0.25)}\")\n",
    "print(f\"median: {np.median(spatial_score)}\")\n",
    "print(f\"mean: {spatial_score.mean()}\")\n",
    "print(f\"q75: {np.quantile(spatial_score, 0.75)}\")\n",
    "print(f\"max: {spatial_score.max()}\")"
   ]
  },
  {
   "cell_type": "code",
   "execution_count": 14,
   "metadata": {},
   "outputs": [
    {
     "data": {
      "text/plain": [
       "(array([ 9., 17.,  0.,  4.,  9., 22.,  6., 20.,  9., 15.,  6., 18., 17.,\n",
       "        29.,  8., 10.,  7.,  0., 18., 62.]),\n",
       " array([0.02737651, 0.07413327, 0.12089002, 0.16764678, 0.21440354,\n",
       "        0.26116029, 0.30791705, 0.3546738 , 0.40143056, 0.44818732,\n",
       "        0.49494407, 0.54170083, 0.58845759, 0.63521434, 0.6819711 ,\n",
       "        0.72872786, 0.77548461, 0.82224137, 0.86899813, 0.91575488,\n",
       "        0.96251164]),\n",
       " <BarContainer object of 20 artists>)"
      ]
     },
     "execution_count": 14,
     "metadata": {},
     "output_type": "execute_result"
    },
    {
     "data": {
      "image/png": "[encoded data removed]",
      "text/plain": [
       "<Figure size 432x288 with 1 Axes>"
      ]
     },
     "metadata": {
      "needs_background": "light"
     },
     "output_type": "display_data"
    }
   ],
   "source": [
    "# make a histogram of the confounding scores\n",
    "plt.hist(spatial_score, bins=20)"
   ]
  },
  {
   "attachments": {},
   "cell_type": "markdown",
   "metadata": {},
   "source": [
    "## Number of datasets for each level of difficulty"
   ]
  },
  {
   "cell_type": "code",
   "execution_count": 29,
   "metadata": {},
   "outputs": [
    {
     "name": "stdout",
     "output_type": "stream",
     "text": [
      "conf.   spatial  #\n",
      "easy    low      100\n",
      "hard    high     56\n",
      "easy    high     119\n",
      "hard    low      11\n"
     ]
    }
   ],
   "source": [
    "print(\"conf.   spatial  #\")\n",
    "print(f\"easy    low      {np.sum((conf_score < 0.025) & (spatial_score < 0.5))}\")\n",
    "print(f\"hard    high     {np.sum((conf_score > 0.025) & (spatial_score > 0.5))}\")\n",
    "print(f\"easy    high     {np.sum((conf_score < 0.025) & (spatial_score > 0.5))}\")\n",
    "print(f\"hard    low      {np.sum((conf_score > 0.025) & (spatial_score < 0.5))}\")\n"
   ]
  },
  {
   "cell_type": "code",
   "execution_count": 30,
   "metadata": {},
   "outputs": [
    {
     "data": {
      "text/plain": [
       "286"
      ]
     },
     "execution_count": 30,
     "metadata": {},
     "output_type": "execute_result"
    }
   ],
   "source": [
    "len(conf_score)"
   ]
  }
 ],
 "metadata": {
  "kernelspec": {
   "display_name": "Python 3",
   "language": "python",
   "name": "python3"
  },
  "language_info": {
   "codemirror_mode": {
    "name": "ipython",
    "version": 3
   },
   "file_extension": ".py",
   "mimetype": "text/x-python",
   "name": "python",
   "nbconvert_exporter": "python",
   "pygments_lexer": "ipython3",
   "version": "3.10.10"
  },
  "orig_nbformat": 4
 },
 "nbformat": 4,
 "nbformat_minor": 2
}
