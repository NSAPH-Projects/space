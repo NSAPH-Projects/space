{
 "cells": [
  {
   "attachments": {},
   "cell_type": "markdown",
   "metadata": {},
   "source": [
    "# Space datasets description"
   ]
  },
  {
   "cell_type": "code",
   "execution_count": 31,
   "metadata": {},
   "outputs": [],
   "source": [
    "import numpy as np\n",
    "from spacebench import SpaceEnv, DataMaster\n",
    "import matplotlib.pyplot as plt\n",
    "import proplot as pplt"
   ]
  },
  {
   "cell_type": "code",
   "execution_count": 32,
   "metadata": {},
   "outputs": [
    {
     "data": {
      "text/plain": [
       "Available datasets (total: 11):\n",
       "\n",
       "  healthd_dmgrcs_mortality_disc\n",
       "  cdcsvi_limteng_hburdic_cont\n",
       "  climate_relhum_wfsmoke_cont\n",
       "  climate_wfsmoke_minrty_disc\n",
       "  healthd_hhinco_mortality_cont\n",
       "  ...\n",
       "  county_educatn_election_cont\n",
       "  county_phyactiv_lifexpcy_cont\n",
       "  county_dmgrcs_election_disc\n",
       "  cdcsvi_nohsdp_poverty_cont\n",
       "  cdcsvi_nohsdp_poverty_disc"
      ]
     },
     "execution_count": 32,
     "metadata": {},
     "output_type": "execute_result"
    }
   ],
   "source": [
    "space_master = DataMaster()\n",
    "space_master"
   ]
  },
  {
   "cell_type": "code",
   "execution_count": 34,
   "metadata": {},
   "outputs": [
    {
     "data": {
      "text/html": [
       "<div>\n",
       "<style scoped>\n",
       "    .dataframe tbody tr th:only-of-type {\n",
       "        vertical-align: middle;\n",
       "    }\n",
       "\n",
       "    .dataframe tbody tr th {\n",
       "        vertical-align: top;\n",
       "    }\n",
       "\n",
       "    .dataframe thead th {\n",
       "        text-align: right;\n",
       "    }\n",
       "</style>\n",
       "<table border=\"1\" class=\"dataframe\">\n",
       "  <thead>\n",
       "    <tr style=\"text-align: right;\">\n",
       "      <th></th>\n",
       "      <th>treatment_type</th>\n",
       "      <th>collection</th>\n",
       "    </tr>\n",
       "    <tr>\n",
       "      <th>environments</th>\n",
       "      <th></th>\n",
       "      <th></th>\n",
       "    </tr>\n",
       "  </thead>\n",
       "  <tbody>\n",
       "    <tr>\n",
       "      <th>healthd_dmgrcs_mortality_disc</th>\n",
       "      <td>binary</td>\n",
       "      <td>Air Pollution and Mortality</td>\n",
       "    </tr>\n",
       "    <tr>\n",
       "      <th>cdcsvi_limteng_hburdic_cont</th>\n",
       "      <td>continuous</td>\n",
       "      <td>Social Vulnerability and Welfare</td>\n",
       "    </tr>\n",
       "    <tr>\n",
       "      <th>climate_relhum_wfsmoke_cont</th>\n",
       "      <td>continuous</td>\n",
       "      <td>Heat Exposure and Wildfires</td>\n",
       "    </tr>\n",
       "    <tr>\n",
       "      <th>climate_wfsmoke_minrty_disc</th>\n",
       "      <td>binary</td>\n",
       "      <td>Heat Exposure and Wildfires</td>\n",
       "    </tr>\n",
       "    <tr>\n",
       "      <th>healthd_hhinco_mortality_cont</th>\n",
       "      <td>continuous</td>\n",
       "      <td>Air Pollution and Mortality</td>\n",
       "    </tr>\n",
       "    <tr>\n",
       "      <th>healthd_pollutn_mortality_cont</th>\n",
       "      <td>continuous</td>\n",
       "      <td>Air Pollution and Mortality</td>\n",
       "    </tr>\n",
       "    <tr>\n",
       "      <th>county_educatn_election_cont</th>\n",
       "      <td>continuous</td>\n",
       "      <td>Welfare and Elections</td>\n",
       "    </tr>\n",
       "    <tr>\n",
       "      <th>county_phyactiv_lifexpcy_cont</th>\n",
       "      <td>continuous</td>\n",
       "      <td>Welfare and Elections</td>\n",
       "    </tr>\n",
       "    <tr>\n",
       "      <th>county_dmgrcs_election_disc</th>\n",
       "      <td>binary</td>\n",
       "      <td>Welfare and Elections</td>\n",
       "    </tr>\n",
       "    <tr>\n",
       "      <th>cdcsvi_nohsdp_poverty_cont</th>\n",
       "      <td>continuous</td>\n",
       "      <td>Social Vulnerability and Welfare</td>\n",
       "    </tr>\n",
       "    <tr>\n",
       "      <th>cdcsvi_nohsdp_poverty_disc</th>\n",
       "      <td>binary</td>\n",
       "      <td>Social Vulnerability and Welfare</td>\n",
       "    </tr>\n",
       "  </tbody>\n",
       "</table>\n",
       "</div>"
      ],
      "text/plain": [
       "                               treatment_type  \\\n",
       "environments                                    \n",
       "healthd_dmgrcs_mortality_disc          binary   \n",
       "cdcsvi_limteng_hburdic_cont        continuous   \n",
       "climate_relhum_wfsmoke_cont        continuous   \n",
       "climate_wfsmoke_minrty_disc            binary   \n",
       "healthd_hhinco_mortality_cont      continuous   \n",
       "healthd_pollutn_mortality_cont     continuous   \n",
       "county_educatn_election_cont       continuous   \n",
       "county_phyactiv_lifexpcy_cont      continuous   \n",
       "county_dmgrcs_election_disc            binary   \n",
       "cdcsvi_nohsdp_poverty_cont         continuous   \n",
       "cdcsvi_nohsdp_poverty_disc             binary   \n",
       "\n",
       "                                                      collection  \n",
       "environments                                                      \n",
       "healthd_dmgrcs_mortality_disc        Air Pollution and Mortality  \n",
       "cdcsvi_limteng_hburdic_cont     Social Vulnerability and Welfare  \n",
       "climate_relhum_wfsmoke_cont          Heat Exposure and Wildfires  \n",
       "climate_wfsmoke_minrty_disc          Heat Exposure and Wildfires  \n",
       "healthd_hhinco_mortality_cont        Air Pollution and Mortality  \n",
       "healthd_pollutn_mortality_cont       Air Pollution and Mortality  \n",
       "county_educatn_election_cont               Welfare and Elections  \n",
       "county_phyactiv_lifexpcy_cont              Welfare and Elections  \n",
       "county_dmgrcs_election_disc                Welfare and Elections  \n",
       "cdcsvi_nohsdp_poverty_cont      Social Vulnerability and Welfare  \n",
       "cdcsvi_nohsdp_poverty_disc      Social Vulnerability and Welfare  "
      ]
     },
     "execution_count": 34,
     "metadata": {},
     "output_type": "execute_result"
    }
   ],
   "source": [
    "master = space_master.master.copy()\n",
    "master"
   ]
  },
  {
   "cell_type": "code",
   "execution_count": 4,
   "metadata": {},
   "outputs": [
    {
     "data": {
      "text/plain": [
       "['Air Pollution and Mortality',\n",
       " 'Social Vulnerability and Welfare',\n",
       " 'Heat Exposure and Wildfires',\n",
       " 'Welfare and Elections']"
      ]
     },
     "execution_count": 4,
     "metadata": {},
     "output_type": "execute_result"
    }
   ],
   "source": [
    "collections = space_master.list_collections()\n",
    "collections"
   ]
  },
  {
   "cell_type": "code",
   "execution_count": 5,
   "metadata": {},
   "outputs": [
    {
     "data": {
      "text/plain": [
       "['healthd_dmgrcs_mortality_disc',\n",
       " 'cdcsvi_limteng_hburdic_cont',\n",
       " 'climate_relhum_wfsmoke_cont',\n",
       " 'climate_wfsmoke_minrty_disc',\n",
       " 'healthd_hhinco_mortality_cont',\n",
       " 'healthd_pollutn_mortality_cont',\n",
       " 'county_educatn_election_cont',\n",
       " 'county_phyactiv_lifexpcy_cont',\n",
       " 'county_dmgrcs_election_disc',\n",
       " 'cdcsvi_nohsdp_poverty_cont',\n",
       " 'cdcsvi_nohsdp_poverty_disc']"
      ]
     },
     "execution_count": 5,
     "metadata": {},
     "output_type": "execute_result"
    }
   ],
   "source": [
    "space_envs = space_master.list_envs()\n",
    "space_envs"
   ]
  },
  {
   "cell_type": "code",
   "execution_count": 6,
   "metadata": {},
   "outputs": [
    {
     "data": {
      "text/plain": [
       "11"
      ]
     },
     "execution_count": 6,
     "metadata": {},
     "output_type": "execute_result"
    }
   ],
   "source": [
    "len(space_envs)"
   ]
  },
  {
   "cell_type": "code",
   "execution_count": 7,
   "metadata": {},
   "outputs": [
    {
     "data": {
      "text/plain": [
       "SpaceEnv with birth certificate config:\n",
       "{\n",
       "  \"spaceenv\": {\n",
       "    \"base_name\": \"${hydra:runtime.choices.spaceenv}\",\n",
       "    \"covariates\": [\n",
       "      \"qd_mean_pm25\",\n",
       "      {\n",
       "        \"poverty\": [\n",
       "          \"cs_poverty\",\n",
       "          \"cs_ed_below_highschool\"\n",
       "        ]\n",
       "      },\n",
       "      \"cs_population_density\",\n",
       "      \"cdc_mean_bmi\",\n",
       "      {\n",
       "        \"smoking\": [\n",
       "          \"cdc_pct_cusmoker\",\n",
       "          \"cdc_pct_sdsmoker\",\n",
       "          \"cdc_pct_fmsmoker\",\n",
       "          \"cdc_pct_nvsmoker\",\n",
       "          \"cdc_pct_nnsmoker\"\n",
       "        ]\n",
       "      },\n",
       "      {\n",
       "        \"temperature\": [\n",
       "          \"gmet_mean_tmmn\",\n",
       "          \"gmet_mean_summer_tmmn\",\n",
       "          \"gmet_mean_winter_tmmn\",\n",
       "          \"gmet_mean_tmmx\",\n",
       "          \"gmet_mean_summer_tmmx\",\n",
       "          \"gmet_mean_winter_tmmx\"\n",
       "        ]\n",
       "      },\n",
       "      {\n",
       "        \"relative_humidity\": [\n",
       "          \"gmet_mean_rmn\",\n",
       "          \"gmet_mean_summer_rmn\",\n",
       "          \"gmet_mean_winter_rmn\",\n",
       "          \"gmet_mean_rmx\",\n",
       "          \"gmet_mean_summer_rmx\",\n",
       "          \"gmet_mean_winter_rmx\"\n",
       "        ]\n",
       "      },\n",
       "      {\n",
       "        \"specific_humidity\": [\n",
       "          \"gmet_mean_sph\",\n",
       "          \"gmet_mean_summer_sph\",\n",
       "          \"gmet_mean_winter_sph\"\n",
       "        ]\n",
       "      },\n",
       "      {\n",
       "        \"region\": [\n",
       "          \"bin_NORTHEAST\",\n",
       "          \"bin_SOUTH\",\n",
       "          \"bin_WEST\"\n",
       "        ]\n",
       "      }\n",
       "    ],\n",
       "    \"outcome\": \"cdc_mortality_pct\",\n",
       "    \"treament\": \"???\",\n",
       "    \"index_col\": \"0\",\n",
       "    \"treatment_max_bins\": \"100\",\n",
       "    \"scaling\": {\n",
       "      \"outcome\": \"null\",\n",
       "      \"treatment\": \"null\",\n",
       "      \"covariates\": \"null\"\n",
       "    },\n",
       "    \"transforms\": {\n",
       "      \"outcome\": \"null\",\n",
       "      \"treatment\": \"qbinary(0.60)\",\n",
       "      \"covariates\": \"null\"\n",
       "    },\n",
       "    \"fill_missing_covariate_values\": \"true\",\n",
       "    \"bsplines\": \"false\",\n",
       "    \"bsplines_degree\": \"3\",\n",
       "    \"bsplines_df\": \"5\",\n",
       "    \"binary_treatment_iteractions\": \"false\",\n",
       "    \"seed\": \"42\",\n",
       "    \"autogluon\": {\n",
       "      \"fit\": {\n",
       "        \"presets\": \"high_quality\",\n",
       "        \"time_limit\": \"1800\",\n",
       "        \"hyperparameters\": \"null\"\n",
       "      },\n",
       "      \"leave_out_fit\": {\n",
       "        \"presets\": \"high_quality\",\n",
       "        \"time_limit\": \"1800\",\n",
       "        \"hyperparameters\": \"null\"\n",
       "      },\n",
       "      \"feat_importance\": {\n",
       "        \"time_limit\": \"1800\"\n",
       "      }\n",
       "    },\n",
       "    \"spatial_tuning\": {\n",
       "      \"init_frac\": \"0.05\",\n",
       "      \"levels\": \"1\",\n",
       "      \"buffer\": \"1\"\n",
       "    },\n",
       "    \"collection\": \"air_pollution_mortality_us\",\n",
       "    \"treatment\": \"cs_white\"\n",
       "  },\n",
       "  \"num_plot_samples\": \"50\",\n",
       "  \"debug_subsample\": \"null\"\n",
       "}\n",
       "WARNING ⚠️ : this env contains data with a (realistic) synthetic outcome!\n",
       "No inferences about the source data collection can be made.\n",
       "By using it, you agree to understand its limitations."
      ]
     },
     "execution_count": 7,
     "metadata": {},
     "output_type": "execute_result"
    }
   ],
   "source": [
    "envname = space_envs[0]\n",
    "env = SpaceEnv(envname)\n",
    "env"
   ]
  },
  {
   "cell_type": "code",
   "execution_count": 25,
   "metadata": {},
   "outputs": [
    {
     "name": "stdout",
     "output_type": "stream",
     "text": [
      "Downloaded: filename healthd_dmgrcs_mortality_disc.zip, id 7317967, saved to downloads/healthd_dmgrcs_mortality_disc.zip\n",
      "Downloaded: filename cdcsvi_limteng_hburdic_cont.zip, id 7327550, saved to downloads/cdcsvi_limteng_hburdic_cont.zip\n",
      "Downloaded: filename climate_relhum_wfsmoke_cont.zip, id 7331304, saved to downloads/climate_relhum_wfsmoke_cont.zip\n",
      "Downloaded: filename climate_wfsmoke_minrty_disc.zip, id 7318000, saved to downloads/climate_wfsmoke_minrty_disc.zip\n",
      "Downloaded: filename healthd_hhinco_mortality_cont.zip, id 7317978, saved to downloads/healthd_hhinco_mortality_cont.zip\n",
      "Downloaded: filename healthd_pollutn_mortality_cont.zip, id 7317966, saved to downloads/healthd_pollutn_mortality_cont.zip\n",
      "Downloaded: filename county_educatn_election_cont.zip, id 7317965, saved to downloads/county_educatn_election_cont.zip\n",
      "Downloaded: filename county_phyactiv_lifexpcy_cont.zip, id 7317975, saved to downloads/county_phyactiv_lifexpcy_cont.zip\n",
      "Downloaded: filename county_dmgrcs_election_disc.zip, id 7317970, saved to downloads/county_dmgrcs_election_disc.zip\n",
      "Downloaded: filename cdcsvi_nohsdp_poverty_cont.zip, id 7327552, saved to downloads/cdcsvi_nohsdp_poverty_cont.zip\n",
      "Downloaded: filename cdcsvi_nohsdp_poverty_disc.zip, id 7327546, saved to downloads/cdcsvi_nohsdp_poverty_disc.zip\n"
     ]
    }
   ],
   "source": [
    "for s in space_envs:\n",
    "    env = SpaceEnv(s, dir=\"downloads\") # to download all environments"
   ]
  },
  {
   "attachments": {},
   "cell_type": "markdown",
   "metadata": {},
   "source": [
    "## Summarize number of covariates"
   ]
  },
  {
   "cell_type": "code",
   "execution_count": 18,
   "metadata": {},
   "outputs": [
    {
     "data": {
      "text/plain": [
       "{'healthd_dmgrcs_mortality_disc': 9,\n",
       " 'cdcsvi_limteng_hburdic_cont': 12,\n",
       " 'climate_relhum_wfsmoke_cont': 8,\n",
       " 'climate_wfsmoke_minrty_disc': 10,\n",
       " 'healthd_hhinco_mortality_cont': 10,\n",
       " 'healthd_pollutn_mortality_cont': 9,\n",
       " 'county_educatn_election_cont': 14,\n",
       " 'county_phyactiv_lifexpcy_cont': 16,\n",
       " 'county_dmgrcs_election_disc': 14,\n",
       " 'cdcsvi_nohsdp_poverty_cont': 11,\n",
       " 'cdcsvi_nohsdp_poverty_disc': 11}"
      ]
     },
     "execution_count": 18,
     "metadata": {},
     "output_type": "execute_result"
    }
   ],
   "source": [
    "num_covars = dict()\n",
    "for s in space_envs:\n",
    "    env = SpaceEnv(s)\n",
    "    num_covars[s] = len(env.metadata[\"covariate_groups\"])\n",
    "num_covars"
   ]
  },
  {
   "cell_type": "code",
   "execution_count": 43,
   "metadata": {},
   "outputs": [
    {
     "data": {
      "text/plain": [
       "117"
      ]
     },
     "execution_count": 43,
     "metadata": {},
     "output_type": "execute_result"
    }
   ],
   "source": [
    "sum(num_covars.values())"
   ]
  },
  {
   "cell_type": "code",
   "execution_count": 35,
   "metadata": {},
   "outputs": [
    {
     "name": "stdout",
     "output_type": "stream",
     "text": [
      "0     healthd_dmgrcs_mortality_disc\n",
      "4     healthd_hhinco_mortality_cont\n",
      "5    healthd_pollutn_mortality_cont\n",
      "Name: environments, dtype: object\n",
      "1     cdcsvi_limteng_hburdic_cont\n",
      "9      cdcsvi_nohsdp_poverty_cont\n",
      "10     cdcsvi_nohsdp_poverty_disc\n",
      "Name: environments, dtype: object\n",
      "2    climate_relhum_wfsmoke_cont\n",
      "3    climate_wfsmoke_minrty_disc\n",
      "Name: environments, dtype: object\n",
      "6     county_educatn_election_cont\n",
      "7    county_phyactiv_lifexpcy_cont\n",
      "8      county_dmgrcs_election_disc\n",
      "Name: environments, dtype: object\n"
     ]
    },
    {
     "data": {
      "text/plain": [
       "{'Air Pollution and Mortality': 34,\n",
       " 'Social Vulnerability and Welfare': 16,\n",
       " 'Heat Exposure and Wildfires': 22,\n",
       " 'Welfare and Elections': 45}"
      ]
     },
     "execution_count": 35,
     "metadata": {},
     "output_type": "execute_result"
    }
   ],
   "source": [
    "master = space_master.master.copy()\n",
    "master.reset_index(inplace=True)\n",
    "\n",
    "num_covars = dict()\n",
    "for c in collections:\n",
    "    environments = master.environments[master.collection == c]\n",
    "    print(environments)\n",
    "    covars = []\n",
    "    for e in environments:\n",
    "        env = SpaceEnv(e)\n",
    "        covars.extend(env.metadata[\"covariates\"])\n",
    "    num_covars[c] = len(set(covars))\n",
    "num_covars"
   ]
  },
  {
   "attachments": {},
   "cell_type": "markdown",
   "metadata": {},
   "source": [
    "## Summarize graph nodes and edges"
   ]
  },
  {
   "cell_type": "code",
   "execution_count": 36,
   "metadata": {},
   "outputs": [
    {
     "data": {
      "text/plain": [
       "{'healthd_dmgrcs_mortality_disc': {'nodes': 3109, 'edges': 9237},\n",
       " 'cdcsvi_limteng_hburdic_cont': {'nodes': 6828, 'edges': 21585},\n",
       " 'climate_relhum_wfsmoke_cont': {'nodes': 8612, 'edges': 26695},\n",
       " 'climate_wfsmoke_minrty_disc': {'nodes': 8612, 'edges': 26695},\n",
       " 'healthd_hhinco_mortality_cont': {'nodes': 3109, 'edges': 9237},\n",
       " 'healthd_pollutn_mortality_cont': {'nodes': 3109, 'edges': 9237},\n",
       " 'county_educatn_election_cont': {'nodes': 3108, 'edges': 9236},\n",
       " 'county_phyactiv_lifexpcy_cont': {'nodes': 3107, 'edges': 9231},\n",
       " 'county_dmgrcs_election_disc': {'nodes': 3108, 'edges': 9236},\n",
       " 'cdcsvi_nohsdp_poverty_cont': {'nodes': 6828, 'edges': 21585},\n",
       " 'cdcsvi_nohsdp_poverty_disc': {'nodes': 6828, 'edges': 21585}}"
      ]
     },
     "execution_count": 36,
     "metadata": {},
     "output_type": "execute_result"
    }
   ],
   "source": [
    "num_nodes = dict()\n",
    "for s in space_envs:\n",
    "    env = SpaceEnv(s)\n",
    "    num_nodes[s] = {\n",
    "        'nodes': env.graph.number_of_nodes(), #len(list(env.graph))\n",
    "        'edges': env.graph.number_of_edges() \n",
    "    }\n",
    "num_nodes"
   ]
  },
  {
   "attachments": {},
   "cell_type": "markdown",
   "metadata": {},
   "source": [
    "##"
   ]
  },
  {
   "attachments": {},
   "cell_type": "markdown",
   "metadata": {},
   "source": [
    "## Summarize feature importance"
   ]
  },
  {
   "cell_type": "code",
   "execution_count": 44,
   "metadata": {},
   "outputs": [
    {
     "data": {
      "text/plain": [
       "{'treatment': '1.2912177442864834',\n",
       " 'EP_NOINT': '0.17869793536744208',\n",
       " 'EP_AGE17': '0.09967032359457394',\n",
       " 'EP_DISABL': '0.09875362806045487',\n",
       " 'EP_NOVEH': '0.0814727318854329',\n",
       " 'EP_LIMENG': '0.0655948301130956',\n",
       " 'EP_SNGPNT': '0.06392577211701786',\n",
       " 'EP_AGE65': '0.05495417319067479',\n",
       " 'RPL_THEME3': '0.051669917621441526',\n",
       " 'EP_MUNIT': '0.04203070335096153',\n",
       " 'EP_UNEMP': '0.035131609796660655',\n",
       " 'EP_MINRTY': '0.03023542556063022'}"
      ]
     },
     "execution_count": 44,
     "metadata": {},
     "output_type": "execute_result"
    }
   ],
   "source": [
    "env.metadata[\"outcome_importance\"]"
   ]
  },
  {
   "cell_type": "code",
   "execution_count": 45,
   "metadata": {},
   "outputs": [
    {
     "data": {
      "text/plain": [
       "{'EP_LIMENG': '0.334509512494607',\n",
       " 'EP_NOINT': '0.1723230821941914',\n",
       " 'EP_MUNIT': '0.09061285345044949',\n",
       " 'EP_DISABL': '0.04865592909012458',\n",
       " 'EP_NOVEH': '0.03790226360281446',\n",
       " 'EP_AGE65': '0.02565013653120691',\n",
       " 'RPL_THEME3': '0.02177176537184922',\n",
       " 'EP_AGE17': '0.019656290194017677',\n",
       " 'EP_UNEMP': '0.01692380142265202',\n",
       " 'EP_MINRTY': '0.016835656623575706',\n",
       " 'EP_SNGPNT': '0.015689774235583657'}"
      ]
     },
     "execution_count": 45,
     "metadata": {},
     "output_type": "execute_result"
    }
   ],
   "source": [
    "env.metadata[\"treatment_importance\"]"
   ]
  },
  {
   "cell_type": "code",
   "execution_count": 46,
   "metadata": {},
   "outputs": [
    {
     "data": {
      "text/plain": [
       "{'EP_NOINT': '0.1723230821941914',\n",
       " 'EP_LIMENG': '0.0655948301130956',\n",
       " 'EP_DISABL': '0.04865592909012458',\n",
       " 'EP_MUNIT': '0.04203070335096153',\n",
       " 'EP_NOVEH': '0.03790226360281446',\n",
       " 'EP_AGE65': '0.02565013653120691',\n",
       " 'RPL_THEME3': '0.02177176537184922',\n",
       " 'EP_AGE17': '0.019656290194017677',\n",
       " 'EP_UNEMP': '0.01692380142265202',\n",
       " 'EP_MINRTY': '0.016835656623575706',\n",
       " 'EP_SNGPNT': '0.015689774235583657'}"
      ]
     },
     "execution_count": 46,
     "metadata": {},
     "output_type": "execute_result"
    }
   ],
   "source": [
    "env.metadata[\"confounding_score\"]"
   ]
  },
  {
   "cell_type": "code",
   "execution_count": 47,
   "metadata": {},
   "outputs": [
    {
     "data": {
      "text/plain": [
       "{'healthd_dmgrcs_mortality_disc': {'min': '0.0005357302112927932',\n",
       "  'max': '0.13669170270491512'},\n",
       " 'cdcsvi_limteng_hburdic_cont': {'min': '0.016930633203702944',\n",
       "  'max': '0.14144644016357522'},\n",
       " 'climate_relhum_wfsmoke_cont': {'min': '0.0010006521701149103',\n",
       "  'max': '0.4130873138508454'},\n",
       " 'climate_wfsmoke_minrty_disc': {'min': '0.0', 'max': '0.07238058358006749'},\n",
       " 'healthd_hhinco_mortality_cont': {'min': '0.0036496840866591233',\n",
       "  'max': '0.0377467449812141'},\n",
       " 'healthd_pollutn_mortality_cont': {'min': '0.0005556794885295675',\n",
       "  'max': '0.047482491101395755'},\n",
       " 'county_educatn_election_cont': {'min': '-0.0006336729263370234',\n",
       "  'max': '0.06497194862251243'},\n",
       " 'county_phyactiv_lifexpcy_cont': {'min': '0.0010284461650039113',\n",
       "  'max': '0.12236077516409485'},\n",
       " 'county_dmgrcs_election_disc': {'min': '0.00017272190705018916',\n",
       "  'max': '0.24301972321969859'},\n",
       " 'cdcsvi_nohsdp_poverty_cont': {'min': '0.014155945805331764',\n",
       "  'max': '0.12966562629791276'},\n",
       " 'cdcsvi_nohsdp_poverty_disc': {'min': '0.015689774235583657',\n",
       "  'max': '0.1723230821941914'}}"
      ]
     },
     "execution_count": 47,
     "metadata": {},
     "output_type": "execute_result"
    }
   ],
   "source": [
    "conf_score = dict()\n",
    "for s in space_envs:\n",
    "    env = SpaceEnv(s)\n",
    "    conf_score[s] = {\n",
    "        'min': min(env.metadata[\"confounding_score\"].values()), #len(list(env.graph))\n",
    "        'max': max(env.metadata[\"confounding_score\"].values())\n",
    "    }\n",
    "conf_score"
   ]
  },
  {
   "cell_type": "code",
   "execution_count": 54,
   "metadata": {},
   "outputs": [
    {
     "name": "stdout",
     "output_type": "stream",
     "text": [
      "base_name\n",
      "treatment\n",
      "predicted_outcome\n",
      "synthetic_outcome\n",
      "confounding_score\n",
      "confounding_score_erf\n",
      "confounding_score_ite\n",
      "confounding_score_ate\n",
      "spatial_scores\n",
      "outcome_importance\n",
      "treatment_importance\n",
      "covariates\n",
      "treatment_values\n",
      "covariate_groups\n",
      "original_residual_spatial_score\n",
      "synthetic_residual_spatial_score\n",
      "original_nbrs_corr\n",
      "synthetic_nbrs_corr\n"
     ]
    }
   ],
   "source": [
    "print(\"\\n\".join(env.metadata.keys()))"
   ]
  },
  {
   "cell_type": "code",
   "execution_count": 79,
   "metadata": {},
   "outputs": [],
   "source": [
    "conf_score_list = list()\n",
    "for s in space_envs:\n",
    "    env = SpaceEnv(s)\n",
    "    conf_score_list.extend(list(env.metadata[\"confounding_score_erf\"].values()))\n",
    "conf_score = np.array(conf_score_list, dtype=float)"
   ]
  },
  {
   "cell_type": "code",
   "execution_count": 80,
   "metadata": {},
   "outputs": [
    {
     "data": {
      "text/plain": [
       "124"
      ]
     },
     "execution_count": 80,
     "metadata": {},
     "output_type": "execute_result"
    }
   ],
   "source": [
    "len(conf_score)"
   ]
  },
  {
   "cell_type": "code",
   "execution_count": 81,
   "metadata": {},
   "outputs": [
    {
     "name": "stdout",
     "output_type": "stream",
     "text": [
      "min: 0.002138136187568307\n",
      "q25: 0.01636991137638688\n",
      "median: 0.03158908151090145\n",
      "mean: 0.051407477358401184\n",
      "q75: 0.061821783892810345\n",
      "max: 0.38876694440841675\n"
     ]
    }
   ],
   "source": [
    "print(f\"min: {conf_score.min()}\")\n",
    "print(f\"q25: {np.quantile(conf_score, 0.25)}\")\n",
    "print(f\"median: {np.median(conf_score)}\")\n",
    "print(f\"mean: {conf_score.mean()}\")\n",
    "print(f\"q75: {np.quantile(conf_score, 0.75)}\")\n",
    "print(f\"max: {conf_score.max()}\")"
   ]
  },
  {
   "cell_type": "code",
   "execution_count": 98,
   "metadata": {},
   "outputs": [
    {
     "data": {
      "image/png": "[encoded data removed]",
      "text/plain": [
       "<Figure size 350x350 with 1 Axes>"
      ]
     },
     "metadata": {
      "image/png": {
       "height": 350,
       "width": 350
      }
     },
     "output_type": "display_data"
    }
   ],
   "source": [
    "# make a histogram of the confounding scores\n",
    "# plt.hist(conf_score, bins=20);\n",
    "\n",
    "# make a histogram of the confounding scores\n",
    "plt.figure(figsize=(3.5, 3.5))\n",
    "plt.hist(conf_score, bins=15, color=\"lightblue\");\n",
    "plt.xlabel(\"confounding scores\")\n",
    "plt.axvline(x=0.031, color=\"red\", linestyle=\"--\", label=\"Proposed easy/hard\\nthreshold\")\n",
    "plt.text(0.04, 10, \"harder\", color=\"black\", fontsize=9, rotation=90)\n",
    "plt.text(0.0, 10, \"easier\", color=\"black\", fontsize=9, rotation=90)\n",
    "plt.grid(False)\n",
    "plt.legend();\n",
    "plt.savefig(\"scores-conf.png\", bbox_inches=\"tight\")"
   ]
  },
  {
   "attachments": {},
   "cell_type": "markdown",
   "metadata": {},
   "source": [
    "## Summarize Spatial Smoothness"
   ]
  },
  {
   "cell_type": "code",
   "execution_count": 83,
   "metadata": {},
   "outputs": [
    {
     "data": {
      "text/plain": [
       "11"
      ]
     },
     "execution_count": 83,
     "metadata": {},
     "output_type": "execute_result"
    }
   ],
   "source": [
    "len(env.metadata[\"spatial_scores\"])"
   ]
  },
  {
   "cell_type": "code",
   "execution_count": 84,
   "metadata": {},
   "outputs": [
    {
     "data": {
      "text/plain": [
       "11"
      ]
     },
     "execution_count": 84,
     "metadata": {},
     "output_type": "execute_result"
    }
   ],
   "source": [
    "len(env.metadata[\"covariate_groups\"])"
   ]
  },
  {
   "cell_type": "code",
   "execution_count": 85,
   "metadata": {},
   "outputs": [],
   "source": [
    "spatial_score_list = list()\n",
    "for s in space_envs:\n",
    "    env = SpaceEnv(s)\n",
    "    for d in env.make_all():\n",
    "        spatial_score_list.append(d.smoothness_score)\n",
    "spatial_score = np.array(spatial_score_list)\n",
    "spatial_score = spatial_score.astype(float)"
   ]
  },
  {
   "cell_type": "code",
   "execution_count": 86,
   "metadata": {},
   "outputs": [
    {
     "data": {
      "text/plain": [
       "124"
      ]
     },
     "execution_count": 86,
     "metadata": {},
     "output_type": "execute_result"
    }
   ],
   "source": [
    "len(spatial_score)"
   ]
  },
  {
   "cell_type": "code",
   "execution_count": 87,
   "metadata": {},
   "outputs": [
    {
     "name": "stdout",
     "output_type": "stream",
     "text": [
      "min: 0.02737651003982136\n",
      "q25: 0.3074514491587701\n",
      "median: 0.4595133696160426\n",
      "mean: 0.508165155937094\n",
      "q75: 0.6968460129930749\n",
      "max: 0.95597385049487\n"
     ]
    }
   ],
   "source": [
    "print(f\"min: {spatial_score.min()}\")\n",
    "print(f\"q25: {np.quantile(spatial_score, 0.25)}\")\n",
    "print(f\"median: {np.median(spatial_score)}\")\n",
    "print(f\"mean: {spatial_score.mean()}\")\n",
    "print(f\"q75: {np.quantile(spatial_score, 0.75)}\")\n",
    "print(f\"max: {spatial_score.max()}\")"
   ]
  },
  {
   "cell_type": "code",
   "execution_count": 99,
   "metadata": {},
   "outputs": [
    {
     "data": {
      "image/png": "[encoded data removed]",
      "text/plain": [
       "<Figure size 350x350 with 1 Axes>"
      ]
     },
     "metadata": {
      "image/png": {
       "height": 350,
       "width": 350
      }
     },
     "output_type": "display_data"
    }
   ],
   "source": [
    "# make a histogram of the spatial smoothness scores\n",
    "plt.figure(figsize=(3.5, 3.5))\n",
    "plt.hist(spatial_score, bins=15, color=\"lightblue\")\n",
    "plt.xlabel(\"spatial scores\")\n",
    "plt.axvline(x=0.5, color=\"red\", linestyle=\"--\", label=\"Proposed easy/hard\\nthreshold\")\n",
    "plt.text(0.42, 5, \"harder\", color=\"black\", fontsize=9, rotation=90)\n",
    "plt.text(0.53, 5, \"easier\", color=\"black\", fontsize=9, rotation=90)\n",
    "plt.grid(False)\n",
    "plt.legend();\n",
    "plt.savefig(\"scores-spatial.png\", bbox_inches=\"tight\")"
   ]
  },
  {
   "attachments": {},
   "cell_type": "markdown",
   "metadata": {},
   "source": [
    "## Number of datasets for each level of difficulty"
   ]
  },
  {
   "cell_type": "code",
   "execution_count": 90,
   "metadata": {},
   "outputs": [
    {
     "name": "stdout",
     "output_type": "stream",
     "text": [
      "conf.   spatial  #\n",
      "easy    low      31\n",
      "hard    high     33\n",
      "easy    high     26\n",
      "hard    low      34\n"
     ]
    }
   ],
   "source": [
    "print(\"conf.   spatial  #\")\n",
    "print(f\"easy    low      {np.sum((conf_score < 0.03) & (spatial_score < 0.5))}\")\n",
    "print(f\"hard    high     {np.sum((conf_score > 0.03) & (spatial_score > 0.5))}\")\n",
    "print(f\"easy    high     {np.sum((conf_score < 0.03) & (spatial_score > 0.5))}\")\n",
    "print(f\"hard    low      {np.sum((conf_score > 0.03) & (spatial_score < 0.5))}\")\n"
   ]
  }
 ],
 "metadata": {
  "kernelspec": {
   "display_name": "Python 3",
   "language": "python",
   "name": "python3"
  },
  "language_info": {
   "codemirror_mode": {
    "name": "ipython",
    "version": 3
   },
   "file_extension": ".py",
   "mimetype": "text/x-python",
   "name": "python",
   "nbconvert_exporter": "python",
   "pygments_lexer": "ipython3",
   "version": "3.10.10"
  },
  "orig_nbformat": 4
 },
 "nbformat": 4,
 "nbformat_minor": 2
}
