{
 "cells": [
  {
   "attachments": {},
   "cell_type": "markdown",
   "metadata": {},
   "source": [
    "Load some standard libraries"
   ]
  },
  {
   "cell_type": "code",
   "execution_count": 1,
   "metadata": {},
   "outputs": [
    {
     "name": "stderr",
     "output_type": "stream",
     "text": [
      "/Users/sophie/opt/anaconda3/envs/space-env/lib/python3.10/site-packages/tqdm/auto.py:22: TqdmWarning: IProgress not found. Please update jupyter and ipywidgets. See https://ipywidgets.readthedocs.io/en/stable/user_install.html\n",
      "  from .autonotebook import tqdm as notebook_tqdm\n",
      "Global seed set to 42\n"
     ]
    }
   ],
   "source": [
    "from tqdm import tqdm\n",
    "\n",
    "import numpy as np\n",
    "import pandas as pd\n",
    "import matplotlib.pyplot as plt\n",
    "from pytorch_lightning import seed_everything\n",
    "from xgboost import XGBRegressor\n",
    "\n",
    "seed_everything(42);"
   ]
  },
  {
   "attachments": {},
   "cell_type": "markdown",
   "metadata": {},
   "source": [
    "We will use the following libraties from spacebench."
   ]
  },
  {
   "cell_type": "code",
   "execution_count": 2,
   "metadata": {},
   "outputs": [],
   "source": [
    "from spacebench import (\n",
    "    SpaceEnv,\n",
    "    SpaceDataset,\n",
    "    DataMaster,\n",
    "    DatasetEvaluator,\n",
    "    EnvEvaluator,\n",
    "    algorithms\n",
    ")\n",
    "from spacebench.algorithms import spatialplus\n",
    "from spacebench.algorithms import spatial\n"
   ]
  },
  {
   "attachments": {},
   "cell_type": "markdown",
   "metadata": {},
   "source": [
    "Load the datamaster to list available datasets"
   ]
  },
  {
   "cell_type": "code",
   "execution_count": 3,
   "metadata": {},
   "outputs": [
    {
     "data": {
      "text/plain": [
       "['spacec_elect_cs_ed_above_college_election_dem_pct']"
      ]
     },
     "execution_count": 3,
     "metadata": {},
     "output_type": "execute_result"
    }
   ],
   "source": [
    "DataMaster().list_datasets()"
   ]
  },
  {
   "attachments": {},
   "cell_type": "markdown",
   "metadata": {},
   "source": [
    "Create the environment."
   ]
  },
  {
   "cell_type": "code",
   "execution_count": 4,
   "metadata": {},
   "outputs": [
    {
     "data": {
      "text/plain": [
       "dict_keys(['name', 'datamaster', 'api', 'dir', 'config', 'synthetic_data', 'metadata', 'graph', 'confounding_score_dict', 'smoothness_score_dict'])"
      ]
     },
     "execution_count": 4,
     "metadata": {},
     "output_type": "execute_result"
    }
   ],
   "source": [
    "envname = \"spacec_elect_cs_ed_above_college_election_dem_pct\"\n",
    "env = SpaceEnv(envname)\n",
    "env.__dict__.keys()"
   ]
  },
  {
   "attachments": {},
   "cell_type": "markdown",
   "metadata": {},
   "source": [
    "Example of generating a dataset."
   ]
  },
  {
   "cell_type": "code",
   "execution_count": 5,
   "metadata": {},
   "outputs": [
    {
     "name": "stdout",
     "output_type": "stream",
     "text": [
      "treatment shape (2821,)\n",
      "covariates shape (2821, 44)\n",
      "num. edges 8263\n",
      "smoothness of missing confounder 0.9449527206623363\n",
      "confounding of missing confounder 0.06880235416329153\n"
     ]
    }
   ],
   "source": [
    "dataset = env.make()\n",
    "print(\"treatment shape\", dataset.treatment.shape)\n",
    "print(\"covariates shape\", dataset.covariates.shape)\n",
    "print(\"num. edges\", len(dataset.edges)) \n",
    "print(\"smoothness of missing confounder\", dataset.smoothness_of_missing)\n",
    "print(\"confounding of missing confounder\", dataset.confounding_of_missing)\n"
   ]
  },
  {
   "attachments": {},
   "cell_type": "markdown",
   "metadata": {},
   "source": [
    "We can loop over all possible datasets using the make_all method."
   ]
  },
  {
   "cell_type": "code",
   "execution_count": 6,
   "metadata": {},
   "outputs": [
    {
     "data": {
      "text/plain": [
       "Text(0.5, 0.98, 'Distribution of confounding and smoothness')"
      ]
     },
     "execution_count": 6,
     "metadata": {},
     "output_type": "execute_result"
    },
    {
     "data": {
      "image/png": "[encoded data removed]",
      "text/plain": [
       "<Figure size 600x200 with 2 Axes>"
      ]
     },
     "metadata": {},
     "output_type": "display_data"
    }
   ],
   "source": [
    "confounding_scores = []\n",
    "smoothness_scores = []\n",
    "for dataset in env.make_all():\n",
    "    confounding_scores.append(dataset.confounding_of_missing)\n",
    "    smoothness_scores.append(dataset.smoothness_of_missing)\n",
    "\n",
    "fig, ax = plt.subplots(1, 2, figsize=(6, 2))\n",
    "ax[0].hist(confounding_scores)\n",
    "ax[0].set_xlabel(\"confounding\")\n",
    "ax[1].hist(smoothness_scores)\n",
    "ax[1].set_xlabel(\"smoothness\")\n",
    "plt.suptitle(\"Distribution of confounding and smoothness\")"
   ]
  },
  {
   "attachments": {},
   "cell_type": "markdown",
   "metadata": {},
   "source": [
    "Let's now illustrate how to use the evaluator. On **one** dataset.\n",
    "We will compare two methods. These methods are not real competitive spatial confounding \n",
    "methods, but they are easy to implement and illustrate the use of the evaluator.\n",
    "\n",
    "One model is a simple xgboost regression model without any type of spatial confounding correction.\n",
    "The other model uses the coordinates (lon/lats) as features in the model."
   ]
  },
  {
   "cell_type": "code",
   "execution_count": 7,
   "metadata": {},
   "outputs": [],
   "source": [
    "def estimate_counterfactuals(model, dataset: SpaceDataset):\n",
    "    \"\"\"Helper function to fit a model and predict counterfactuals.\n",
    "    \n",
    "    Arguments\n",
    "    ---------\n",
    "    model: spatial or spatialplus\n",
    "        A model with a fit method.\n",
    "    dataset: SpaceDataset\n",
    "        A SpaceDataset object.\n",
    "        \n",
    "    Returns\n",
    "    -------\n",
    "    counterfactuals: np.ndarray\n",
    "        A n x m matrix of counterfactuals, where n is the number of units and m is the number of treatment values.\n",
    "    \"\"\"\n",
    "    treatment = dataset.treatment[:, None]\n",
    "    covariates = dataset.covariates\n",
    "    outcome = dataset.outcome\n",
    "    coords = np.array(dataset.coordinates)\n",
    "    covnames = ['cov' + str(i+1) for i in range(covariates.shape[1])]\n",
    "    df = pd.DataFrame(np.column_stack((coords, covariates, treatment, outcome)), \n",
    "                    columns=['coord1', 'coord2'] + covnames + ['X', 'Y'])\n",
    "    if model == spatialplus:\n",
    "        fit_bs_x, fit_bs_y = model.fit(treatment, outcome, coords, df, binary_treatment=False)\n",
    "        print(fit_bs_x.summary())\n",
    "        print(fit_bs_y.summary())\n",
    "        dfpred_x = pd.DataFrame(dataset.covariates,\n",
    "                        columns= covnames)\n",
    "        xpred = fit_bs_x.predict(dfpred_x, coords)\n",
    "    if model == spatial:\n",
    "        fit_bs_y = model.fit(treatment, outcome, coords, df)\n",
    "        print(fit_bs_y.summary())\n",
    "\n",
    "    tvals = dataset.treatment_values\n",
    "    counterfactuals = []\n",
    "    for tval in tvals:\n",
    "        if model == spatialplus:\n",
    "            dfpred_y = pd.DataFrame(np.column_stack((dataset.covariates, np.full_like(dataset.treatment[:, None], tval)-xpred.values.reshape(-1,1))), \n",
    "                        columns= covnames + ['r_X'])\n",
    "        if model == spatial:\n",
    "            dfpred_y = pd.DataFrame(np.column_stack((dataset.covariates, np.full_like(dataset.treatment[:, None], tval))), \n",
    "                        columns= covnames + ['X'])\n",
    "        counterfactuals.append(fit_bs_y.predict(dfpred_y, coords))\n",
    "    counterfactuals = np.stack(counterfactuals, axis=1)\n",
    "\n",
    "    return counterfactuals\n"
   ]
  },
  {
   "attachments": {},
   "cell_type": "markdown",
   "metadata": {},
   "source": [
    "Now use the `DatasetEvaluator` class."
   ]
  },
  {
   "attachments": {},
   "cell_type": "markdown",
   "metadata": {},
   "source": [
    "Let us know loop over all datasets and compare the two models. The `EnvEvaluator` evalautor is designed for this task. But we need an evaluator for each model."
   ]
  },
  {
   "attachments": {},
   "cell_type": "markdown",
   "metadata": {},
   "source": [
    "We may sometimes prefer to use the dataset evaluator and keep metrics in each loop for a more detailed analysis."
   ]
  },
  {
   "cell_type": "code",
   "execution_count": 8,
   "metadata": {},
   "outputs": [
    {
     "name": "stderr",
     "output_type": "stream",
     "text": [
      "/Users/sophie/opt/anaconda3/envs/space-env/lib/python3.10/site-packages/statsmodels/gam/generalized_additive_model.py:425: RuntimeWarning: invalid value encountered in sqrt\n",
      "  wexog = np.sqrt(weights)[:, None] * self.model.exog\n"
     ]
    },
    {
     "ename": "KeyboardInterrupt",
     "evalue": "",
     "output_type": "error",
     "traceback": [
      "\u001b[0;31m---------------------------------------------------------------------------\u001b[0m",
      "\u001b[0;31mKeyboardInterrupt\u001b[0m                         Traceback (most recent call last)",
      "Cell \u001b[0;32mIn[8], line 12\u001b[0m\n\u001b[1;32m      9\u001b[0m dataset \u001b[39m=\u001b[39m env\u001b[39m.\u001b[39mmake() \u001b[39m# change\u001b[39;00m\n\u001b[1;32m     10\u001b[0m evaluator \u001b[39m=\u001b[39m DatasetEvaluator(dataset)\n\u001b[0;32m---> 12\u001b[0m cfs_spatial \u001b[39m=\u001b[39m estimate_counterfactuals(spatial, dataset)\n\u001b[1;32m     13\u001b[0m erf_spatial \u001b[39m=\u001b[39m cfs_spatial\u001b[39m.\u001b[39mmean(\u001b[39m0\u001b[39m)\n\u001b[1;32m     14\u001b[0m cfs_spatialplus \u001b[39m=\u001b[39m estimate_counterfactuals(spatialplus, dataset)\n",
      "Cell \u001b[0;32mIn[7], line 31\u001b[0m, in \u001b[0;36mestimate_counterfactuals\u001b[0;34m(model, dataset)\u001b[0m\n\u001b[1;32m     29\u001b[0m     xpred \u001b[39m=\u001b[39m fit_bs_x\u001b[39m.\u001b[39mpredict(dfpred_x, coords)\n\u001b[1;32m     30\u001b[0m \u001b[39mif\u001b[39;00m model \u001b[39m==\u001b[39m spatial:\n\u001b[0;32m---> 31\u001b[0m     fit_bs_y \u001b[39m=\u001b[39m model\u001b[39m.\u001b[39;49mfit(treatment, outcome, coords, df)\n\u001b[1;32m     32\u001b[0m     \u001b[39mprint\u001b[39m(fit_bs_y\u001b[39m.\u001b[39msummary())\n\u001b[1;32m     34\u001b[0m tvals \u001b[39m=\u001b[39m dataset\u001b[39m.\u001b[39mtreatment_values\n",
      "File \u001b[0;32m~/Documents/space/spacebench/algorithms/spatial.py:42\u001b[0m, in \u001b[0;36mfit\u001b[0;34m(X, Y, coord, df)\u001b[0m\n\u001b[1;32m     39\u001b[0m gam_bs \u001b[39m=\u001b[39m GLMGam\u001b[39m.\u001b[39mfrom_formula(formula\u001b[39m=\u001b[39mformula, data \u001b[39m=\u001b[39m df,\n\u001b[1;32m     40\u001b[0m                             smoother\u001b[39m=\u001b[39mbs) \u001b[39m# fit outcome model without penalty\u001b[39;00m\n\u001b[1;32m     41\u001b[0m fit_bs_y \u001b[39m=\u001b[39m gam_bs\u001b[39m.\u001b[39mfit()\n\u001b[0;32m---> 42\u001b[0m alphay \u001b[39m=\u001b[39m gam_bs\u001b[39m.\u001b[39;49mselect_penweight(criterion\u001b[39m=\u001b[39;49m\u001b[39m\"\u001b[39;49m\u001b[39mgcv\u001b[39;49m\u001b[39m\"\u001b[39;49m)[\u001b[39m0\u001b[39m] \u001b[39m# select penalty\u001b[39;00m\n\u001b[1;32m     43\u001b[0m gam_bs \u001b[39m=\u001b[39m GLMGam\u001b[39m.\u001b[39mfrom_formula(formula\u001b[39m=\u001b[39mformula, data \u001b[39m=\u001b[39m df,\n\u001b[1;32m     44\u001b[0m                             smoother\u001b[39m=\u001b[39mbs, alpha\u001b[39m=\u001b[39malphay) \u001b[39m# fit outcome model with penalty\u001b[39;00m\n\u001b[1;32m     45\u001b[0m fit_bs_y \u001b[39m=\u001b[39m gam_bs\u001b[39m.\u001b[39mfit()\n",
      "File \u001b[0;32m~/opt/anaconda3/envs/space-env/lib/python3.10/site-packages/statsmodels/gam/generalized_additive_model.py:849\u001b[0m, in \u001b[0;36mGLMGam.select_penweight\u001b[0;34m(self, criterion, start_params, start_model_params, method, **fit_kwds)\u001b[0m\n\u001b[1;32m    845\u001b[0m     kwds \u001b[39m=\u001b[39m \u001b[39mdict\u001b[39m(minimizer_kwargs\u001b[39m=\u001b[39m{\u001b[39m'\u001b[39m\u001b[39mmethod\u001b[39m\u001b[39m'\u001b[39m: \u001b[39m'\u001b[39m\u001b[39mNelder-Mead\u001b[39m\u001b[39m'\u001b[39m,\n\u001b[1;32m    846\u001b[0m                 \u001b[39m'\u001b[39m\u001b[39moptions\u001b[39m\u001b[39m'\u001b[39m: {\u001b[39m'\u001b[39m\u001b[39mmaxiter\u001b[39m\u001b[39m'\u001b[39m: \u001b[39m100\u001b[39m, \u001b[39m'\u001b[39m\u001b[39mmaxfev\u001b[39m\u001b[39m'\u001b[39m: \u001b[39m500\u001b[39m}},\n\u001b[1;32m    847\u001b[0m                 niter\u001b[39m=\u001b[39m\u001b[39m10\u001b[39m)\n\u001b[1;32m    848\u001b[0m     kwds\u001b[39m.\u001b[39mupdate(fit_kwds)\n\u001b[0;32m--> 849\u001b[0m     fit_res \u001b[39m=\u001b[39m optimize\u001b[39m.\u001b[39;49mbasinhopping(fun, start_params, \u001b[39m*\u001b[39;49m\u001b[39m*\u001b[39;49mkwds)\n\u001b[1;32m    850\u001b[0m     opt \u001b[39m=\u001b[39m fit_res\u001b[39m.\u001b[39mx\n\u001b[1;32m    851\u001b[0m \u001b[39melif\u001b[39;00m method \u001b[39m==\u001b[39m \u001b[39m'\u001b[39m\u001b[39mminimize\u001b[39m\u001b[39m'\u001b[39m:\n",
      "File \u001b[0;32m~/opt/anaconda3/envs/space-env/lib/python3.10/site-packages/scipy/optimize/_basinhopping.py:702\u001b[0m, in \u001b[0;36mbasinhopping\u001b[0;34m(func, x0, niter, T, stepsize, minimizer_kwargs, take_step, accept_test, callback, interval, disp, niter_success, seed, target_accept_rate, stepwise_factor)\u001b[0m\n\u001b[1;32m    699\u001b[0m \u001b[39mif\u001b[39;00m niter_success \u001b[39mis\u001b[39;00m \u001b[39mNone\u001b[39;00m:\n\u001b[1;32m    700\u001b[0m     niter_success \u001b[39m=\u001b[39m niter \u001b[39m+\u001b[39m \u001b[39m2\u001b[39m\n\u001b[0;32m--> 702\u001b[0m bh \u001b[39m=\u001b[39m BasinHoppingRunner(x0, wrapped_minimizer, take_step_wrapped,\n\u001b[1;32m    703\u001b[0m                         accept_tests, disp\u001b[39m=\u001b[39;49mdisp)\n\u001b[1;32m    705\u001b[0m \u001b[39m# The wrapped minimizer is called once during construction of\u001b[39;00m\n\u001b[1;32m    706\u001b[0m \u001b[39m# BasinHoppingRunner, so run the callback\u001b[39;00m\n\u001b[1;32m    707\u001b[0m \u001b[39mif\u001b[39;00m \u001b[39mcallable\u001b[39m(callback):\n",
      "File \u001b[0;32m~/opt/anaconda3/envs/space-env/lib/python3.10/site-packages/scipy/optimize/_basinhopping.py:71\u001b[0m, in \u001b[0;36mBasinHoppingRunner.__init__\u001b[0;34m(self, x0, minimizer, step_taking, accept_tests, disp)\u001b[0m\n\u001b[1;32m     68\u001b[0m \u001b[39mself\u001b[39m\u001b[39m.\u001b[39mres\u001b[39m.\u001b[39mminimization_failures \u001b[39m=\u001b[39m \u001b[39m0\u001b[39m\n\u001b[1;32m     70\u001b[0m \u001b[39m# do initial minimization\u001b[39;00m\n\u001b[0;32m---> 71\u001b[0m minres \u001b[39m=\u001b[39m minimizer(\u001b[39mself\u001b[39;49m\u001b[39m.\u001b[39;49mx)\n\u001b[1;32m     72\u001b[0m \u001b[39mif\u001b[39;00m \u001b[39mnot\u001b[39;00m minres\u001b[39m.\u001b[39msuccess:\n\u001b[1;32m     73\u001b[0m     \u001b[39mself\u001b[39m\u001b[39m.\u001b[39mres\u001b[39m.\u001b[39mminimization_failures \u001b[39m+\u001b[39m\u001b[39m=\u001b[39m \u001b[39m1\u001b[39m\n",
      "File \u001b[0;32m~/opt/anaconda3/envs/space-env/lib/python3.10/site-packages/scipy/optimize/_basinhopping.py:291\u001b[0m, in \u001b[0;36mMinimizerWrapper.__call__\u001b[0;34m(self, x0)\u001b[0m\n\u001b[1;32m    289\u001b[0m     \u001b[39mreturn\u001b[39;00m \u001b[39mself\u001b[39m\u001b[39m.\u001b[39mminimizer(x0, \u001b[39m*\u001b[39m\u001b[39m*\u001b[39m\u001b[39mself\u001b[39m\u001b[39m.\u001b[39mkwargs)\n\u001b[1;32m    290\u001b[0m \u001b[39melse\u001b[39;00m:\n\u001b[0;32m--> 291\u001b[0m     \u001b[39mreturn\u001b[39;00m \u001b[39mself\u001b[39;49m\u001b[39m.\u001b[39;49mminimizer(\u001b[39mself\u001b[39;49m\u001b[39m.\u001b[39;49mfunc, x0, \u001b[39m*\u001b[39;49m\u001b[39m*\u001b[39;49m\u001b[39mself\u001b[39;49m\u001b[39m.\u001b[39;49mkwargs)\n",
      "File \u001b[0;32m~/opt/anaconda3/envs/space-env/lib/python3.10/site-packages/scipy/optimize/_minimize.py:684\u001b[0m, in \u001b[0;36mminimize\u001b[0;34m(fun, x0, args, method, jac, hess, hessp, bounds, constraints, tol, callback, options)\u001b[0m\n\u001b[1;32m    681\u001b[0m     bounds \u001b[39m=\u001b[39m standardize_bounds(bounds, x0, meth)\n\u001b[1;32m    683\u001b[0m \u001b[39mif\u001b[39;00m meth \u001b[39m==\u001b[39m \u001b[39m'\u001b[39m\u001b[39mnelder-mead\u001b[39m\u001b[39m'\u001b[39m:\n\u001b[0;32m--> 684\u001b[0m     res \u001b[39m=\u001b[39m _minimize_neldermead(fun, x0, args, callback, bounds\u001b[39m=\u001b[39;49mbounds,\n\u001b[1;32m    685\u001b[0m                                \u001b[39m*\u001b[39;49m\u001b[39m*\u001b[39;49moptions)\n\u001b[1;32m    686\u001b[0m \u001b[39melif\u001b[39;00m meth \u001b[39m==\u001b[39m \u001b[39m'\u001b[39m\u001b[39mpowell\u001b[39m\u001b[39m'\u001b[39m:\n\u001b[1;32m    687\u001b[0m     res \u001b[39m=\u001b[39m _minimize_powell(fun, x0, args, callback, bounds, \u001b[39m*\u001b[39m\u001b[39m*\u001b[39moptions)\n",
      "File \u001b[0;32m~/opt/anaconda3/envs/space-env/lib/python3.10/site-packages/scipy/optimize/_optimize.py:921\u001b[0m, in \u001b[0;36m_minimize_neldermead\u001b[0;34m(func, x0, args, callback, maxiter, maxfev, disp, return_all, initial_simplex, xatol, fatol, adaptive, bounds, **unknown_options)\u001b[0m\n\u001b[1;32m    918\u001b[0m                     \u001b[39mif\u001b[39;00m bounds \u001b[39mis\u001b[39;00m \u001b[39mnot\u001b[39;00m \u001b[39mNone\u001b[39;00m:\n\u001b[1;32m    919\u001b[0m                         sim[j] \u001b[39m=\u001b[39m np\u001b[39m.\u001b[39mclip(\n\u001b[1;32m    920\u001b[0m                             sim[j], lower_bound, upper_bound)\n\u001b[0;32m--> 921\u001b[0m                     fsim[j] \u001b[39m=\u001b[39m func(sim[j])\n\u001b[1;32m    922\u001b[0m     iterations \u001b[39m+\u001b[39m\u001b[39m=\u001b[39m \u001b[39m1\u001b[39m\n\u001b[1;32m    923\u001b[0m \u001b[39mexcept\u001b[39;00m _MaxFuncCallError:\n",
      "File \u001b[0;32m~/opt/anaconda3/envs/space-env/lib/python3.10/site-packages/scipy/optimize/_optimize.py:569\u001b[0m, in \u001b[0;36m_wrap_scalar_function_maxfun_validation.<locals>.function_wrapper\u001b[0;34m(x, *wrapper_args)\u001b[0m\n\u001b[1;32m    567\u001b[0m ncalls[\u001b[39m0\u001b[39m] \u001b[39m+\u001b[39m\u001b[39m=\u001b[39m \u001b[39m1\u001b[39m\n\u001b[1;32m    568\u001b[0m \u001b[39m# A copy of x is sent to the user function (gh13740)\u001b[39;00m\n\u001b[0;32m--> 569\u001b[0m fx \u001b[39m=\u001b[39m function(np\u001b[39m.\u001b[39;49mcopy(x), \u001b[39m*\u001b[39;49m(wrapper_args \u001b[39m+\u001b[39;49m args))\n\u001b[1;32m    570\u001b[0m \u001b[39m# Ideally, we'd like to a have a true scalar returned from f(x). For\u001b[39;00m\n\u001b[1;32m    571\u001b[0m \u001b[39m# backwards-compatibility, also allow np.array([1.3]),\u001b[39;00m\n\u001b[1;32m    572\u001b[0m \u001b[39m# np.array([[1.3]]) etc.\u001b[39;00m\n\u001b[1;32m    573\u001b[0m \u001b[39mif\u001b[39;00m \u001b[39mnot\u001b[39;00m np\u001b[39m.\u001b[39misscalar(fx):\n",
      "File \u001b[0;32m~/opt/anaconda3/envs/space-env/lib/python3.10/site-packages/statsmodels/gam/generalized_additive_model.py:833\u001b[0m, in \u001b[0;36mGLMGam.select_penweight.<locals>.fun\u001b[0;34m(p)\u001b[0m\n\u001b[1;32m    831\u001b[0m \u001b[39mdef\u001b[39;00m \u001b[39mfun\u001b[39m(p):\n\u001b[1;32m    832\u001b[0m     a \u001b[39m=\u001b[39m np\u001b[39m.\u001b[39mexp(p)\n\u001b[0;32m--> 833\u001b[0m     res_ \u001b[39m=\u001b[39m \u001b[39mself\u001b[39;49m\u001b[39m.\u001b[39;49m_fit_pirls(start_params\u001b[39m=\u001b[39;49mhistory[\u001b[39m'\u001b[39;49m\u001b[39mparams\u001b[39;49m\u001b[39m'\u001b[39;49m][\u001b[39m-\u001b[39;49m\u001b[39m1\u001b[39;49m],\n\u001b[1;32m    834\u001b[0m                            alpha\u001b[39m=\u001b[39;49ma)\n\u001b[1;32m    835\u001b[0m     history[\u001b[39m'\u001b[39m\u001b[39malpha\u001b[39m\u001b[39m'\u001b[39m]\u001b[39m.\u001b[39mappend(a)\n\u001b[1;32m    836\u001b[0m     history[\u001b[39m'\u001b[39m\u001b[39mparams\u001b[39m\u001b[39m'\u001b[39m]\u001b[39m.\u001b[39mappend(np\u001b[39m.\u001b[39masarray(res_\u001b[39m.\u001b[39mparams))\n",
      "File \u001b[0;32m~/opt/anaconda3/envs/space-env/lib/python3.10/site-packages/statsmodels/gam/generalized_additive_model.py:723\u001b[0m, in \u001b[0;36mGLMGam._fit_pirls\u001b[0;34m(self, alpha, start_params, maxiter, tol, scale, cov_type, cov_kwds, use_t, weights)\u001b[0m\n\u001b[1;32m    719\u001b[0m wlsendog \u001b[39m=\u001b[39m (lin_pred \u001b[39m+\u001b[39m \u001b[39mself\u001b[39m\u001b[39m.\u001b[39mfamily\u001b[39m.\u001b[39mlink\u001b[39m.\u001b[39mderiv(mu) \u001b[39m*\u001b[39m (endog \u001b[39m-\u001b[39m mu)\n\u001b[1;32m    720\u001b[0m             \u001b[39m-\u001b[39m \u001b[39mself\u001b[39m\u001b[39m.\u001b[39m_offset_exposure)\n\u001b[1;32m    722\u001b[0m \u001b[39m# this defines the augmented matrix point 2a on page 136\u001b[39;00m\n\u001b[0;32m--> 723\u001b[0m wls_results \u001b[39m=\u001b[39m penalized_wls(wlsendog, wlsexog, spl_s, \u001b[39mself\u001b[39;49m\u001b[39m.\u001b[39;49mweights)\n\u001b[1;32m    724\u001b[0m lin_pred \u001b[39m=\u001b[39m np\u001b[39m.\u001b[39mdot(wlsexog, wls_results\u001b[39m.\u001b[39mparams)\u001b[39m.\u001b[39mravel()\n\u001b[1;32m    725\u001b[0m lin_pred \u001b[39m+\u001b[39m\u001b[39m=\u001b[39m \u001b[39mself\u001b[39m\u001b[39m.\u001b[39m_offset_exposure\n",
      "File \u001b[0;32m~/opt/anaconda3/envs/space-env/lib/python3.10/site-packages/statsmodels/gam/generalized_additive_model.py:966\u001b[0m, in \u001b[0;36mpenalized_wls\u001b[0;34m(endog, exog, penalty_matrix, weights)\u001b[0m\n\u001b[1;32m    964\u001b[0m \u001b[39m# TODO: I do not understand why I need 2 * s\u001b[39;00m\n\u001b[1;32m    965\u001b[0m aug_y, aug_x, aug_weights \u001b[39m=\u001b[39m make_augmented_matrix(y, x, \u001b[39m2\u001b[39m \u001b[39m*\u001b[39m s, weights)\n\u001b[0;32m--> 966\u001b[0m wls_results \u001b[39m=\u001b[39m lm\u001b[39m.\u001b[39;49mWLS(aug_y, aug_x, aug_weights)\u001b[39m.\u001b[39;49mfit()\n\u001b[1;32m    967\u001b[0m \u001b[39m# TODO: use MinimalWLS during iterations, less overhead\u001b[39;00m\n\u001b[1;32m    968\u001b[0m \u001b[39m# However, MinimalWLS does not return normalized_cov_params\u001b[39;00m\n\u001b[1;32m    969\u001b[0m \u001b[39m#   which we need at the end of the iterations\u001b[39;00m\n\u001b[1;32m    970\u001b[0m \u001b[39m# call would be\u001b[39;00m\n\u001b[1;32m    971\u001b[0m \u001b[39m# wls_results = reg_tools._MinimalWLS(aug_y, aug_x, aug_weights).fit()\u001b[39;00m\n\u001b[1;32m    972\u001b[0m wls_results\u001b[39m.\u001b[39mparams \u001b[39m=\u001b[39m wls_results\u001b[39m.\u001b[39mparams\u001b[39m.\u001b[39mravel()\n",
      "File \u001b[0;32m~/opt/anaconda3/envs/space-env/lib/python3.10/site-packages/statsmodels/regression/linear_model.py:335\u001b[0m, in \u001b[0;36mRegressionModel.fit\u001b[0;34m(self, method, cov_type, cov_kwds, use_t, **kwargs)\u001b[0m\n\u001b[1;32m    330\u001b[0m \u001b[39mif\u001b[39;00m method \u001b[39m==\u001b[39m \u001b[39m\"\u001b[39m\u001b[39mpinv\u001b[39m\u001b[39m\"\u001b[39m:\n\u001b[1;32m    331\u001b[0m     \u001b[39mif\u001b[39;00m \u001b[39mnot\u001b[39;00m (\u001b[39mhasattr\u001b[39m(\u001b[39mself\u001b[39m, \u001b[39m'\u001b[39m\u001b[39mpinv_wexog\u001b[39m\u001b[39m'\u001b[39m) \u001b[39mand\u001b[39;00m\n\u001b[1;32m    332\u001b[0m             \u001b[39mhasattr\u001b[39m(\u001b[39mself\u001b[39m, \u001b[39m'\u001b[39m\u001b[39mnormalized_cov_params\u001b[39m\u001b[39m'\u001b[39m) \u001b[39mand\u001b[39;00m\n\u001b[1;32m    333\u001b[0m             \u001b[39mhasattr\u001b[39m(\u001b[39mself\u001b[39m, \u001b[39m'\u001b[39m\u001b[39mrank\u001b[39m\u001b[39m'\u001b[39m)):\n\u001b[0;32m--> 335\u001b[0m         \u001b[39mself\u001b[39m\u001b[39m.\u001b[39mpinv_wexog, singular_values \u001b[39m=\u001b[39m pinv_extended(\u001b[39mself\u001b[39;49m\u001b[39m.\u001b[39;49mwexog)\n\u001b[1;32m    336\u001b[0m         \u001b[39mself\u001b[39m\u001b[39m.\u001b[39mnormalized_cov_params \u001b[39m=\u001b[39m np\u001b[39m.\u001b[39mdot(\n\u001b[1;32m    337\u001b[0m             \u001b[39mself\u001b[39m\u001b[39m.\u001b[39mpinv_wexog, np\u001b[39m.\u001b[39mtranspose(\u001b[39mself\u001b[39m\u001b[39m.\u001b[39mpinv_wexog))\n\u001b[1;32m    339\u001b[0m         \u001b[39m# Cache these singular values for use later.\u001b[39;00m\n",
      "File \u001b[0;32m~/opt/anaconda3/envs/space-env/lib/python3.10/site-packages/statsmodels/tools/tools.py:264\u001b[0m, in \u001b[0;36mpinv_extended\u001b[0;34m(x, rcond)\u001b[0m\n\u001b[1;32m    262\u001b[0m x \u001b[39m=\u001b[39m np\u001b[39m.\u001b[39masarray(x)\n\u001b[1;32m    263\u001b[0m x \u001b[39m=\u001b[39m x\u001b[39m.\u001b[39mconjugate()\n\u001b[0;32m--> 264\u001b[0m u, s, vt \u001b[39m=\u001b[39m np\u001b[39m.\u001b[39;49mlinalg\u001b[39m.\u001b[39;49msvd(x, \u001b[39mFalse\u001b[39;49;00m)\n\u001b[1;32m    265\u001b[0m s_orig \u001b[39m=\u001b[39m np\u001b[39m.\u001b[39mcopy(s)\n\u001b[1;32m    266\u001b[0m m \u001b[39m=\u001b[39m u\u001b[39m.\u001b[39mshape[\u001b[39m0\u001b[39m]\n",
      "File \u001b[0;32m<__array_function__ internals>:200\u001b[0m, in \u001b[0;36msvd\u001b[0;34m(*args, **kwargs)\u001b[0m\n",
      "File \u001b[0;32m~/opt/anaconda3/envs/space-env/lib/python3.10/site-packages/numpy/linalg/linalg.py:1642\u001b[0m, in \u001b[0;36msvd\u001b[0;34m(a, full_matrices, compute_uv, hermitian)\u001b[0m\n\u001b[1;32m   1639\u001b[0m         gufunc \u001b[39m=\u001b[39m _umath_linalg\u001b[39m.\u001b[39msvd_n_s\n\u001b[1;32m   1641\u001b[0m signature \u001b[39m=\u001b[39m \u001b[39m'\u001b[39m\u001b[39mD->DdD\u001b[39m\u001b[39m'\u001b[39m \u001b[39mif\u001b[39;00m isComplexType(t) \u001b[39melse\u001b[39;00m \u001b[39m'\u001b[39m\u001b[39md->ddd\u001b[39m\u001b[39m'\u001b[39m\n\u001b[0;32m-> 1642\u001b[0m u, s, vh \u001b[39m=\u001b[39m gufunc(a, signature\u001b[39m=\u001b[39;49msignature, extobj\u001b[39m=\u001b[39;49mextobj)\n\u001b[1;32m   1643\u001b[0m u \u001b[39m=\u001b[39m u\u001b[39m.\u001b[39mastype(result_t, copy\u001b[39m=\u001b[39m\u001b[39mFalse\u001b[39;00m)\n\u001b[1;32m   1644\u001b[0m s \u001b[39m=\u001b[39m s\u001b[39m.\u001b[39mastype(_realType(result_t), copy\u001b[39m=\u001b[39m\u001b[39mFalse\u001b[39;00m)\n",
      "\u001b[0;31mKeyboardInterrupt\u001b[0m: "
     ]
    }
   ],
   "source": [
    "# for each masked variable\n",
    "smoothness_scores = []\n",
    "confounding_scores = []\n",
    "erf_error_spatial = []\n",
    "erf_error_spatialplus = []\n",
    "\n",
    "for dataset in tqdm(env.make_all()):\n",
    "    evaluator = DatasetEvaluator(dataset)\n",
    "\n",
    "    cfs_spatial = estimate_counterfactuals(spatial, dataset)\n",
    "    erf_spatial = cfs_spatial.mean(0)\n",
    "    cfs_spatialplus = estimate_counterfactuals(spatialplus, dataset)\n",
    "    erf_spatialplus = cfs_spatialplus.mean(0)\n",
    "\n",
    "    err_spatial = evaluator.eval(erf=erf_spatial)\n",
    "    err_spatialplus = evaluator.eval(erf=erf_spatialplus)\n",
    "\n",
    "    erf_error_spatial.append(np.square(err_spatial[\"erf_error\"]).mean())\n",
    "    erf_error_spatialplus.append(np.square(err_spatialplus[\"erf_error\"]).mean())\n",
    "\n",
    "    smoothness_scores.append(dataset.smoothness_of_missing)\n",
    "    confounding_scores.append(dataset.confounding_of_missing)"
   ]
  },
  {
   "cell_type": "code",
   "execution_count": null,
   "metadata": {},
   "outputs": [],
   "source": [
    "erf_errors = dict(\n",
    "    smoothness=[\"low\" if x < 0.5 else \"high\" for x in smoothness_scores],\n",
    "    confounding=[\"low\" if x < 0.1 else \"high\" for x in confounding_scores],\n",
    "    spatial=erf_error_spatial,\n",
    "    spatialplus=erf_error_spatialplus,\n",
    ")\n",
    "erf_errors = pd.DataFrame(erf_errors)\n",
    "erf_errors.groupby([\"smoothness\", \"confounding\"]).agg([\"mean\", \"std\"])"
   ]
  },
  {
   "attachments": {},
   "cell_type": "markdown",
   "metadata": {},
   "source": [
    "We can see that adding coordinates gives worse results when smoothnes is low. Both models do a bit betteror about the same when confounding is low."
   ]
  }
 ],
 "metadata": {
  "kernelspec": {
   "display_name": "spaceenv2",
   "language": "python",
   "name": "python3"
  },
  "language_info": {
   "codemirror_mode": {
    "name": "ipython",
    "version": 3
   },
   "file_extension": ".py",
   "mimetype": "text/x-python",
   "name": "python",
   "nbconvert_exporter": "python",
   "pygments_lexer": "ipython3",
   "version": "3.10.11"
  },
  "orig_nbformat": 4
 },
 "nbformat": 4,
 "nbformat_minor": 2
}
