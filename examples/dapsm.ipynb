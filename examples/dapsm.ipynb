{
 "cells": [
  {
   "cell_type": "code",
   "execution_count": 15,
   "metadata": {},
   "outputs": [],
   "source": [
    "import numpy as np\n",
    "import pandas as pd\n",
    "\n",
    "from spacebench.algorithms import DAPSm\n",
    "from spacebench import SpaceDataset, DatasetEvaluator"
   ]
  },
  {
   "cell_type": "code",
   "execution_count": 16,
   "metadata": {},
   "outputs": [],
   "source": [
    "df = pd.read_csv(\"examples/data/dapsm_toydata.csv\", index_col=0)\n",
    "X = df[[c for c in df.columns if c.startswith(\"X\")]].values\n",
    "A = df.Z.values\n",
    "beta = np.ones(X.shape[1])\n",
    "Y0 = X @ beta\n",
    "Y1 = Y0 + 10\n",
    "Y = Y0 * (1 - A) + Y1 * A\n",
    "long = df.long.values\n",
    "lat = df.lat.values\n",
    "dataset = SpaceDataset(\n",
    "    treatment=A,\n",
    "    covariates=X,\n",
    "    outcome=Y,\n",
    "    counterfactuals=np.stack([Y0, Y1], axis=1),\n",
    "    coordinates=np.stack([long, lat], axis=1),\n",
    "    edges=None,\n",
    "    treatment_values=[0, 1],\n",
    ")\n"
   ]
  },
  {
   "cell_type": "code",
   "execution_count": 24,
   "metadata": {},
   "outputs": [
    {
     "name": "stdout",
     "output_type": "stream",
     "text": [
      "Estimated ATE:\n",
      " 5.081947774369604\n",
      "True ATE:\n",
      " 10.0\n",
      "Naive ATE estimate:\n",
      " 2.21141735563144\n",
      "Evaluator errros: {'ate_error': -0.08525807568842865, 'ate': 0.08525807568842865, 'atc_error': -0.08525807568842865, 'atc': 0.08525807568842865, 'att_error': -0.08525807568842865, 'att': 0.08525807568842865, 'ite_curve': array([0.04934668, 0.06952586]), 'ite': 0.05943626781226076, 'erf_error': array([ 0.02856146, -0.05669662]), 'erf': 0.04262903784421415}\n"
     ]
    }
   ],
   "source": [
    "method = DAPSm(spatial_weight=0.1)\n",
    "evaluator = DatasetEvaluator(dataset)\n",
    "method.fit(dataset)\n",
    "effects = method.eval(dataset)\n",
    "errors = evaluator.eval(**effects)\n",
    "\n",
    "print(\"Estimated ATE:\\n\", effects['ate'])\n",
    "print(\"True ATE:\\n\", Y1.mean() - Y0.mean())\n",
    "print(\"Naive ATE estimate:\\n\", Y[A == 1].mean() - Y[A == 0].mean())\n",
    "print(\"Evaluator errros:\", errors)\n"
   ]
  },
  {
   "cell_type": "code",
   "execution_count": null,
   "metadata": {},
   "outputs": [],
   "source": []
  }
 ],
 "metadata": {
  "kernelspec": {
   "display_name": "benchmarks",
   "language": "python",
   "name": "python3"
  },
  "language_info": {
   "codemirror_mode": {
    "name": "ipython",
    "version": 3
   },
   "file_extension": ".py",
   "mimetype": "text/x-python",
   "name": "python",
   "nbconvert_exporter": "python",
   "pygments_lexer": "ipython3",
   "version": "3.10.12"
  },
  "orig_nbformat": 4
 },
 "nbformat": 4,
 "nbformat_minor": 2
}
