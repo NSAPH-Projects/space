{
 "cells": [
  {
   "cell_type": "markdown",
   "metadata": {},
   "source": [
    "## Example to use the different algorithms"
   ]
  },
  {
   "cell_type": "code",
   "execution_count": 14,
   "metadata": {},
   "outputs": [],
   "source": [
    "import warnings\n",
    "\n",
    "warnings.filterwarnings(\"ignore\")\n",
    "\n",
    "import matplotlib.pyplot as plt\n",
    "import logging\n",
    "from copy import deepcopy\n",
    "import numpy as np\n",
    "import random\n",
    "\n",
    "from spacebench import SpaceEnv\n",
    "from spacebench import algorithms\n",
    "\n",
    "# configure logging to print time\n",
    "logging.basicConfig(\n",
    "    format=\"%(asctime)s %(levelname)s %(message)s\",\n",
    "    datefmt=\"%H:%M:%S\",\n",
    "    level=logging.INFO,\n",
    ")\n",
    "\n",
    "# np.random.seed(3)å\n",
    "# random.seed(3)"
   ]
  },
  {
   "cell_type": "code",
   "execution_count": 15,
   "metadata": {},
   "outputs": [
    {
     "name": "stderr",
     "output_type": "stream",
     "text": [
      "18:42:53 DEBUG Missing covariate group (selected at random): poverty\n",
      "18:42:53 INFO Masked model covariates shape: (8616, 14)\n",
      "18:42:53 INFO Full model covariates shape: (8616, 17)\n",
      "18:42:53 INFO Confounding score: {'erf': 0.23180703818798065, 'ate': nan, 'ite': 0.5167921185493469, 'importance': 0.002502416432017438}\n"
     ]
    }
   ],
   "source": [
    "env_name = \"climate_relhum_wfsmoke_cont\"\n",
    "env = SpaceEnv(env_name, dir=\"downloads\")\n",
    "\n",
    "# randomly mask a covariate group to induce spatial confounding\n",
    "# dataset = env.make(missing_group=\"cs_population_density\")\n",
    "dataset = env.make()\n",
    "dataset_full = dataset.unmask()\n",
    "\n",
    "tmin = np.quantile(dataset.treatment, 0.025)\n",
    "tmax = np.quantile(dataset.treatment, 0.975)\n",
    "# dataset = dataset[(dataset.treatment > tmin) & (dataset.treatment < tmax)]\n",
    "# dataset_full = dataset_full[(dataset_full.treatment > tmin) & (dataset_full.treatment < tmax)]\n",
    "\n",
    "# mask even further for visualization/demo purposes\n",
    "# dataset.covariates = dataset.covariates[:, :8]\n",
    "\n",
    "logging.info(f\"Masked model covariates shape: {dataset.covariates.shape}\")\n",
    "logging.info(f\"Full model covariates shape: {dataset_full.covariates.shape}\")\n",
    "\n",
    "# print confounding score\n",
    "logging.info(f\"Confounding score: {dataset.confounding_score}\")"
   ]
  },
  {
   "cell_type": "code",
   "execution_count": null,
   "metadata": {},
   "outputs": [],
   "source": []
  },
  {
   "cell_type": "code",
   "execution_count": 16,
   "metadata": {},
   "outputs": [
    {
     "name": "stderr",
     "output_type": "stream",
     "text": [
      "18:42:53 INFO Fitting OLS...\n",
      "18:42:53 INFO Fitting GNN...\n",
      "18:42:53 DEBUG Building GCN model...\n",
      "18:42:53 DEBUG Preparing torch geometric data loader...\n",
      "18:42:53 DEBUG Preparing trainer...\n",
      "GPU available: True (mps), used: False\n",
      "TPU available: False, using: 0 TPU cores\n",
      "IPU available: False, using: 0 IPUs\n",
      "HPU available: False, using: 0 HPUs\n",
      "18:42:53 DEBUG Training GCN model...\n"
     ]
    },
    {
     "data": {
      "application/vnd.jupyter.widget-view+json": {
       "model_id": "2dea0505c0bc4ba4b2a77a11a112268c",
       "version_major": 2,
       "version_minor": 0
      },
      "text/plain": [
       "Finding best initial lr:   0%|          | 0/100 [00:00<?, ?it/s]"
      ]
     },
     "metadata": {},
     "output_type": "display_data"
    },
    {
     "name": "stderr",
     "output_type": "stream",
     "text": [
      "`Trainer.fit` stopped: `max_steps=100` reached.\n",
      "Learning rate set to 0.007079457843841375\n",
      "Restoring states from the checkpoint path at /Users/mag7273/Github/space_58/.lr_find_d5b5ed35-8916-4876-a7a4-a448318ee028.ckpt\n",
      "Restored all states from the checkpoint at /Users/mag7273/Github/space_58/.lr_find_d5b5ed35-8916-4876-a7a4-a448318ee028.ckpt\n",
      "Restored all states from the checkpoint at /Users/mag7273/Github/space_58/.lr_find_d5b5ed35-8916-4876-a7a4-a448318ee028.ckpt\n",
      "`Trainer.fit` stopped: `max_epochs=1000` reached.\n",
      "18:43:08 DEBUG Finished training GCN model.\n",
      "18:43:08 INFO Fitting DRNet...\n",
      "18:43:23 INFO Fitting OLS on full dataset...\n",
      "18:43:23 INFO Fitting GNN on full dataset...\n",
      "18:43:23 DEBUG Building GCN model...\n",
      "18:43:23 DEBUG Preparing torch geometric data loader...\n",
      "18:43:23 DEBUG Preparing trainer...\n",
      "GPU available: True (mps), used: False\n",
      "TPU available: False, using: 0 TPU cores\n",
      "IPU available: False, using: 0 IPUs\n",
      "HPU available: False, using: 0 HPUs\n",
      "18:43:23 DEBUG Training GCN model...\n"
     ]
    },
    {
     "data": {
      "application/vnd.jupyter.widget-view+json": {
       "model_id": "88034f1a35ce4ccd97606f437e621e08",
       "version_major": 2,
       "version_minor": 0
      },
      "text/plain": [
       "Finding best initial lr:   0%|          | 0/100 [00:00<?, ?it/s]"
      ]
     },
     "metadata": {},
     "output_type": "display_data"
    },
    {
     "name": "stderr",
     "output_type": "stream",
     "text": [
      "`Trainer.fit` stopped: `max_steps=100` reached.\n",
      "Learning rate set to 0.0022387211385683386\n",
      "Restoring states from the checkpoint path at /Users/mag7273/Github/space_58/.lr_find_82802baf-a3d4-4029-8d04-231777d14dd3.ckpt\n",
      "Restored all states from the checkpoint at /Users/mag7273/Github/space_58/.lr_find_82802baf-a3d4-4029-8d04-231777d14dd3.ckpt\n",
      "Restored all states from the checkpoint at /Users/mag7273/Github/space_58/.lr_find_82802baf-a3d4-4029-8d04-231777d14dd3.ckpt\n",
      "`Trainer.fit` stopped: `max_epochs=1000` reached.\n",
      "18:43:39 DEBUG Finished training GCN model.\n",
      "18:43:39 INFO Fitting DRNet on full dataset...\n"
     ]
    }
   ],
   "source": [
    "# init models\n",
    "models = {\n",
    "    \"OLS\": algorithms.OLS(),\n",
    "    # \"XGBoost\": algorithms.XGBoost(n_estimators=50, learning_rate=0.25, max_depth=2),\n",
    "    # \"MLPSpatial\": algorithms.MLPSpatial(max_iter=2_500, dropout=0.01)\n",
    "    \"GNN\": algorithms.GCN(epochs=1000, dropout=0.1, verbose=False),\n",
    "    \"DRNet\": algorithms.DrnetSpatial(max_iter=1000, dropout=0.1, n_cutpoints=4),\n",
    "}\n",
    "# make to store the solutions without missing confounders\n",
    "models_full = deepcopy(models)\n",
    "\n",
    "# fit all models\n",
    "for name, model in models.items():\n",
    "    logging.info(f\"Fitting {name}...\")\n",
    "    model.fit(dataset)\n",
    "\n",
    "# fit all models on the full dataset\n",
    "for name, model in models_full.items():\n",
    "    logging.info(f\"Fitting {name} on full dataset...\")\n",
    "    model.fit(dataset_full)   "
   ]
  },
  {
   "cell_type": "code",
   "execution_count": 17,
   "metadata": {},
   "outputs": [
    {
     "name": "stderr",
     "output_type": "stream",
     "text": [
      "18:43:54 INFO Predicting OLS...\n",
      "18:43:54 INFO Predicting GNN...\n",
      "18:43:54 DEBUG Preparing torch geometric data loader with existing scaler...\n",
      "18:43:54 DEBUG Computing counterfactuals...\n",
      "18:43:55 INFO Predicting DRNet...\n",
      "18:43:56 INFO Predicting OLS on full dataset...\n",
      "18:43:56 INFO Predicting GNN on full dataset...\n",
      "18:43:56 DEBUG Preparing torch geometric data loader with existing scaler...\n",
      "18:43:56 DEBUG Computing counterfactuals...\n",
      "18:43:58 INFO Predicting DRNet on full dataset...\n"
     ]
    }
   ],
   "source": [
    "# estimate causal effects\n",
    "preds = {}\n",
    "preds_full = {}\n",
    "\n",
    "for name, model in models.items():\n",
    "    logging.info(f\"Predicting {name}...\")\n",
    "    preds[name] = model.eval(dataset)\n",
    "\n",
    "for name, model in models_full.items():\n",
    "    logging.info(f\"Predicting {name} on full dataset...\")\n",
    "    preds_full[name] = model.eval(dataset_full)"
   ]
  },
  {
   "cell_type": "code",
   "execution_count": 18,
   "metadata": {},
   "outputs": [
    {
     "data": {
      "image/png": "[encoded data removed]",
      "text/plain": [
       "<Figure size 900x300 with 3 Axes>"
      ]
     },
     "metadata": {},
     "output_type": "display_data"
    }
   ],
   "source": [
    "pal = plt.get_cmap(\"tab10\")\n",
    "\n",
    "treatment_values = dataset.treatment_values\n",
    "# ground_truth = np.quantile(dataset.counterfactuals, 0.5, axis=0)\n",
    "ground_truth = dataset.counterfactuals.mean(axis=0)\n",
    "\n",
    "K = len(preds)\n",
    "fig, ax = plt.subplots(1, K, figsize=(3 * K, 3), sharey=True, sharex=True)\n",
    "for i, (name, values) in enumerate(preds.items()):\n",
    "    ax[i].plot(treatment_values, values[\"erf\"], label=\"missing spatial conf.\", c=pal(i))\n",
    "    pass\n",
    "\n",
    "for i, (name, values) in enumerate(preds_full.items()):\n",
    "    ax[i].plot(treatment_values, values[\"erf\"], label=\"no unobserved conf.\", linestyle=\":\", c=pal(i))\n",
    "    ax[i].plot(treatment_values, ground_truth, label=\"Ground Truth\", linestyle=\"--\", c=\"k\")\n",
    "    ax[i].legend(loc=\"upper left\", frameon=False)\n",
    "    ax[i].set_xlabel(\"Treatment\")\n",
    "    ax[i].set_title(name)\n",
    "    if i == 0:\n",
    "        ax[i].set_ylabel(\"Outcome\")\n",
    "    ax[i].set_xlim([tmin, tmax])\n",
    "\n",
    "# reduce space\n",
    "plt.tight_layout()\n",
    "plt.savefig(\"examples/figures/example_fit.png\", dpi=300)"
   ]
  },
  {
   "cell_type": "code",
   "execution_count": null,
   "metadata": {},
   "outputs": [],
   "source": []
  }
 ],
 "metadata": {
  "kernelspec": {
   "display_name": "benchmarks",
   "language": "python",
   "name": "python3"
  },
  "language_info": {
   "codemirror_mode": {
    "name": "ipython",
    "version": 3
   },
   "file_extension": ".py",
   "mimetype": "text/x-python",
   "name": "python",
   "nbconvert_exporter": "python",
   "pygments_lexer": "ipython3",
   "version": "3.10.12"
  },
  "orig_nbformat": 4
 },
 "nbformat": 4,
 "nbformat_minor": 2
}
