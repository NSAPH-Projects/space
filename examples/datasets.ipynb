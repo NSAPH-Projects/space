{
 "cells": [
  {
   "attachments": {},
   "cell_type": "markdown",
   "metadata": {},
   "source": [
    "# Space datasets description"
   ]
  },
  {
   "cell_type": "code",
   "execution_count": 3,
   "metadata": {},
   "outputs": [],
   "source": [
    "import os\n",
    "import numpy as np\n",
    "from spacebench import SpaceEnv, SpaceDataset, DataMaster"
   ]
  },
  {
   "cell_type": "code",
   "execution_count": 4,
   "metadata": {},
   "outputs": [
    {
     "data": {
      "text/html": [
       "<div>\n",
       "<style scoped>\n",
       "    .dataframe tbody tr th:only-of-type {\n",
       "        vertical-align: middle;\n",
       "    }\n",
       "\n",
       "    .dataframe tbody tr th {\n",
       "        vertical-align: top;\n",
       "    }\n",
       "\n",
       "    .dataframe thead th {\n",
       "        text-align: right;\n",
       "    }\n",
       "</style>\n",
       "<table border=\"1\" class=\"dataframe\">\n",
       "  <thead>\n",
       "    <tr style=\"text-align: right;\">\n",
       "      <th></th>\n",
       "      <th>dataset</th>\n",
       "      <th>exposure</th>\n",
       "      <th>collection</th>\n",
       "    </tr>\n",
       "  </thead>\n",
       "  <tbody>\n",
       "    <tr>\n",
       "      <th>0</th>\n",
       "      <td>healthd_dmgrcs_mortality_disc</td>\n",
       "      <td>binary</td>\n",
       "      <td>Air Pollution and Mortality</td>\n",
       "    </tr>\n",
       "    <tr>\n",
       "      <th>1</th>\n",
       "      <td>cdcsvi_limteng_hburdic_cont</td>\n",
       "      <td>continuous</td>\n",
       "      <td>Social Vulnerability and Welfare</td>\n",
       "    </tr>\n",
       "    <tr>\n",
       "      <th>2</th>\n",
       "      <td>climate_relhum_wfsmoke_cont</td>\n",
       "      <td>continuous</td>\n",
       "      <td>Heat Exposure and Wildfires</td>\n",
       "    </tr>\n",
       "    <tr>\n",
       "      <th>3</th>\n",
       "      <td>climate_wfsmoke_minrty_disc</td>\n",
       "      <td>binary</td>\n",
       "      <td>Heat Exposure and Wildfires</td>\n",
       "    </tr>\n",
       "    <tr>\n",
       "      <th>4</th>\n",
       "      <td>healthd_hhinco_mortality_cont</td>\n",
       "      <td>continuous</td>\n",
       "      <td>Air Pollution and Mortality</td>\n",
       "    </tr>\n",
       "    <tr>\n",
       "      <th>5</th>\n",
       "      <td>healthd_pollutn_mortality_cont</td>\n",
       "      <td>continuous</td>\n",
       "      <td>Air Pollution and Mortality</td>\n",
       "    </tr>\n",
       "    <tr>\n",
       "      <th>6</th>\n",
       "      <td>county_educatn_election_cont</td>\n",
       "      <td>continuous</td>\n",
       "      <td>Welfare and Elections</td>\n",
       "    </tr>\n",
       "    <tr>\n",
       "      <th>7</th>\n",
       "      <td>county_phyactiv_lifexpcy_cont</td>\n",
       "      <td>continuous</td>\n",
       "      <td>Welfare and Elections</td>\n",
       "    </tr>\n",
       "    <tr>\n",
       "      <th>8</th>\n",
       "      <td>county_dmgrcs_election_disc</td>\n",
       "      <td>binary</td>\n",
       "      <td>Welfare and Elections</td>\n",
       "    </tr>\n",
       "    <tr>\n",
       "      <th>9</th>\n",
       "      <td>cdcsvi_nohsdp_poverty_cont</td>\n",
       "      <td>continuous</td>\n",
       "      <td>Social Vulnerability and Welfare</td>\n",
       "    </tr>\n",
       "    <tr>\n",
       "      <th>10</th>\n",
       "      <td>cdcsvi_nohsdp_poverty_disc</td>\n",
       "      <td>binary</td>\n",
       "      <td>Social Vulnerability and Welfare</td>\n",
       "    </tr>\n",
       "  </tbody>\n",
       "</table>\n",
       "</div>"
      ],
      "text/plain": [
       "                           dataset    exposure  \\\n",
       "0    healthd_dmgrcs_mortality_disc      binary   \n",
       "1      cdcsvi_limteng_hburdic_cont  continuous   \n",
       "2      climate_relhum_wfsmoke_cont  continuous   \n",
       "3      climate_wfsmoke_minrty_disc      binary   \n",
       "4    healthd_hhinco_mortality_cont  continuous   \n",
       "5   healthd_pollutn_mortality_cont  continuous   \n",
       "6     county_educatn_election_cont  continuous   \n",
       "7    county_phyactiv_lifexpcy_cont  continuous   \n",
       "8      county_dmgrcs_election_disc      binary   \n",
       "9       cdcsvi_nohsdp_poverty_cont  continuous   \n",
       "10      cdcsvi_nohsdp_poverty_disc      binary   \n",
       "\n",
       "                          collection  \n",
       "0        Air Pollution and Mortality  \n",
       "1   Social Vulnerability and Welfare  \n",
       "2        Heat Exposure and Wildfires  \n",
       "3        Heat Exposure and Wildfires  \n",
       "4        Air Pollution and Mortality  \n",
       "5        Air Pollution and Mortality  \n",
       "6              Welfare and Elections  \n",
       "7              Welfare and Elections  \n",
       "8              Welfare and Elections  \n",
       "9   Social Vulnerability and Welfare  \n",
       "10  Social Vulnerability and Welfare  "
      ]
     },
     "execution_count": 4,
     "metadata": {},
     "output_type": "execute_result"
    }
   ],
   "source": [
    "space_master = DataMaster().master\n",
    "space_master = space_master.reset_index()\n",
    "space_master"
   ]
  },
  {
   "cell_type": "code",
   "execution_count": 5,
   "metadata": {},
   "outputs": [
    {
     "data": {
      "text/plain": [
       "['Air Pollution and Mortality',\n",
       " 'Social Vulnerability and Welfare',\n",
       " 'Heat Exposure and Wildfires',\n",
       " 'Welfare and Elections']"
      ]
     },
     "execution_count": 5,
     "metadata": {},
     "output_type": "execute_result"
    }
   ],
   "source": [
    "collections = list(space_master.collection.unique())\n",
    "collections"
   ]
  },
  {
   "cell_type": "code",
   "execution_count": 6,
   "metadata": {},
   "outputs": [
    {
     "data": {
      "text/plain": [
       "['healthd_dmgrcs_mortality_disc',\n",
       " 'cdcsvi_limteng_hburdic_cont',\n",
       " 'climate_relhum_wfsmoke_cont',\n",
       " 'climate_wfsmoke_minrty_disc',\n",
       " 'healthd_hhinco_mortality_cont',\n",
       " 'healthd_pollutn_mortality_cont',\n",
       " 'county_educatn_election_cont',\n",
       " 'county_phyactiv_lifexpcy_cont',\n",
       " 'county_dmgrcs_election_disc',\n",
       " 'cdcsvi_nohsdp_poverty_cont',\n",
       " 'cdcsvi_nohsdp_poverty_disc']"
      ]
     },
     "execution_count": 6,
     "metadata": {},
     "output_type": "execute_result"
    }
   ],
   "source": [
    "space_datasets = DataMaster().list_datasets()\n",
    "space_datasets"
   ]
  },
  {
   "cell_type": "code",
   "execution_count": 7,
   "metadata": {},
   "outputs": [
    {
     "name": "stderr",
     "output_type": "stream",
     "text": [
      "mkdir: downloads: File exists\n"
     ]
    },
    {
     "data": {
      "text/plain": [
       "dict_keys(['name', 'datamaster', 'api', 'dir', 'config', 'synthetic_data', 'metadata', 'graph', 'confounding_score_dict', 'smoothness_score_dict'])"
      ]
     },
     "execution_count": 7,
     "metadata": {},
     "output_type": "execute_result"
    }
   ],
   "source": [
    "os.system(\"mkdir downloads\")\n",
    "envname = space_datasets[0]\n",
    "env = SpaceEnv(envname, dir=\"downloads\")\n",
    "env.__dict__.keys()"
   ]
  },
  {
   "cell_type": "code",
   "execution_count": 32,
   "metadata": {},
   "outputs": [
    {
     "name": "stdout",
     "output_type": "stream",
     "text": [
      "Downloaded: filename cdcsvi_limteng_hburdic_cont.zip, id 7140138, saved to downloads/cdcsvi_limteng_hburdic_cont.zip\n",
      "Downloaded: filename climate_relhum_wfsmoke_cont.zip, id 7140139, saved to downloads/climate_relhum_wfsmoke_cont.zip\n",
      "Downloaded: filename climate_wfsmoke_minrty_disc.zip, id 7140140, saved to downloads/climate_wfsmoke_minrty_disc.zip\n",
      "Downloaded: filename healthd_hhinco_mortality_cont.zip, id 7140141, saved to downloads/healthd_hhinco_mortality_cont.zip\n",
      "Downloaded: filename healthd_pollutn_mortality_cont.zip, id 7140142, saved to downloads/healthd_pollutn_mortality_cont.zip\n",
      "Downloaded: filename county_educatn_election_cont.zip, id 7140143, saved to downloads/county_educatn_election_cont.zip\n",
      "Downloaded: filename county_phyactiv_lifexpcy_cont.zip, id 7140144, saved to downloads/county_phyactiv_lifexpcy_cont.zip\n",
      "Downloaded: filename county_dmgrcs_election_disc.zip, id 7140145, saved to downloads/county_dmgrcs_election_disc.zip\n",
      "Downloaded: filename cdcsvi_nohsdp_poverty_cont.zip, id 7140146, saved to downloads/cdcsvi_nohsdp_poverty_cont.zip\n",
      "Downloaded: filename cdcsvi_nohsdp_poverty_disc.zip, id 7140594, saved to downloads/cdcsvi_nohsdp_poverty_disc.zip\n"
     ]
    }
   ],
   "source": [
    "for s in space_datasets:\n",
    "    env = SpaceEnv(s, dir=\"downloads\")"
   ]
  },
  {
   "attachments": {},
   "cell_type": "markdown",
   "metadata": {},
   "source": [
    "## Summarize number of covariates"
   ]
  },
  {
   "cell_type": "code",
   "execution_count": 35,
   "metadata": {},
   "outputs": [
    {
     "data": {
      "text/plain": [
       "{'healthd_dmgrcs_mortality_disc': 31,\n",
       " 'cdcsvi_limteng_hburdic_cont': 12,\n",
       " 'climate_relhum_wfsmoke_cont': 10,\n",
       " 'climate_wfsmoke_minrty_disc': 22,\n",
       " 'healthd_hhinco_mortality_cont': 34,\n",
       " 'healthd_pollutn_mortality_cont': 35,\n",
       " 'county_educatn_election_cont': 40,\n",
       " 'county_phyactiv_lifexpcy_cont': 41,\n",
       " 'county_dmgrcs_election_disc': 41,\n",
       " 'cdcsvi_nohsdp_poverty_cont': 13,\n",
       " 'cdcsvi_nohsdp_poverty_disc': 10}"
      ]
     },
     "execution_count": 35,
     "metadata": {},
     "output_type": "execute_result"
    }
   ],
   "source": [
    "num_covars = dict()\n",
    "for s in space_datasets:\n",
    "    env = SpaceEnv(s, dir=\"downloads\")\n",
    "    num_covars[s] = len(env.metadata[\"covariates\"])\n",
    "num_covars"
   ]
  },
  {
   "cell_type": "code",
   "execution_count": 84,
   "metadata": {},
   "outputs": [
    {
     "data": {
      "text/plain": [
       "{'Air Pollution and Mortality': 36,\n",
       " 'Social Vulnerability and Welfare': 15,\n",
       " 'Heat Exposure and Wildfires': 22,\n",
       " 'Welfare and Elections': 47}"
      ]
     },
     "execution_count": 84,
     "metadata": {},
     "output_type": "execute_result"
    }
   ],
   "source": [
    "num_covars = dict()\n",
    "for c in collections:\n",
    "    environments = list(space_master.dataset[space_master.collection == c])\n",
    "    covars = list()\n",
    "    for e in environments:\n",
    "        env = SpaceEnv(e, dir=\"downloads\")\n",
    "        covars.extend(env.metadata[\"covariates\"])\n",
    "    num_covars[c] = len(set(covars))\n",
    "num_covars"
   ]
  },
  {
   "attachments": {},
   "cell_type": "markdown",
   "metadata": {},
   "source": [
    "## Summarize graph nodes and edges"
   ]
  },
  {
   "cell_type": "code",
   "execution_count": 48,
   "metadata": {},
   "outputs": [
    {
     "data": {
      "text/plain": [
       "{'healthd_dmgrcs_mortality_disc': {'nodes': 3109, 'edges': 9237},\n",
       " 'cdcsvi_limteng_hburdic_cont': {'nodes': 6828, 'edges': 21585},\n",
       " 'climate_relhum_wfsmoke_cont': {'nodes': 8616, 'edges': 26695},\n",
       " 'climate_wfsmoke_minrty_disc': {'nodes': 8616, 'edges': 26695},\n",
       " 'healthd_hhinco_mortality_cont': {'nodes': 3109, 'edges': 9237},\n",
       " 'healthd_pollutn_mortality_cont': {'nodes': 3109, 'edges': 9237},\n",
       " 'county_educatn_election_cont': {'nodes': 3108, 'edges': 9236},\n",
       " 'county_phyactiv_lifexpcy_cont': {'nodes': 3107, 'edges': 9231},\n",
       " 'county_dmgrcs_election_disc': {'nodes': 3108, 'edges': 9236},\n",
       " 'cdcsvi_nohsdp_poverty_cont': {'nodes': 6828, 'edges': 21585},\n",
       " 'cdcsvi_nohsdp_poverty_disc': {'nodes': 6828, 'edges': 21585}}"
      ]
     },
     "execution_count": 48,
     "metadata": {},
     "output_type": "execute_result"
    }
   ],
   "source": [
    "num_nodes = dict()\n",
    "for s in space_datasets:\n",
    "    env = SpaceEnv(s, dir=\"downloads\")\n",
    "    num_nodes[s] = {\n",
    "        'nodes': env.graph.number_of_nodes(), #len(list(env.graph))\n",
    "        'edges': env.graph.number_of_edges() \n",
    "    }\n",
    "num_nodes"
   ]
  },
  {
   "attachments": {},
   "cell_type": "markdown",
   "metadata": {},
   "source": [
    "##"
   ]
  },
  {
   "attachments": {},
   "cell_type": "markdown",
   "metadata": {},
   "source": [
    "## Summarize feature importance"
   ]
  },
  {
   "cell_type": "code",
   "execution_count": 20,
   "metadata": {},
   "outputs": [
    {
     "data": {
      "text/plain": [
       "{'EP_NOINT': '3.4662152161092536',\n",
       " 'EP_NOHSDP': '1.8179462766183403',\n",
       " 'EP_NOVEH': '1.7656865450233283',\n",
       " 'EP_DISABL': '1.7584441492227767',\n",
       " 'EP_AGE17': '1.6592130847478355',\n",
       " 'EP_SNGPNT': '1.4202384892311593',\n",
       " 'EP_LIMENG': '1.3135713769337727',\n",
       " 'EP_MINRTY': '1.2188969691309663',\n",
       " 'EP_AGE65': '1.0563060053448783',\n",
       " 'EP_MUNIT': '0.8957315833727277',\n",
       " 'EP_UNEMP': '0.7132018763230198'}"
      ]
     },
     "execution_count": 20,
     "metadata": {},
     "output_type": "execute_result"
    }
   ],
   "source": [
    "env.metadata[\"feature_importance\"]"
   ]
  },
  {
   "cell_type": "code",
   "execution_count": 18,
   "metadata": {},
   "outputs": [
    {
     "data": {
      "text/plain": [
       "{'EP_LIMENG': '0.17563999999999996',\n",
       " 'EP_NOINT': '0.06824',\n",
       " 'EP_MUNIT': '0.04083999999999997',\n",
       " 'EP_DISABL': '0.024839999999999973',\n",
       " 'EP_MINRTY': '0.01651999999999998',\n",
       " 'EP_NOVEH': '0.01499999999999999',\n",
       " 'EP_AGE65': '0.012319999999999998',\n",
       " 'EP_AGE17': '0.00895999999999999',\n",
       " 'EP_UNEMP': '0.005159999999999987',\n",
       " 'EP_SNGPNT': '0.004799999999999982'}"
      ]
     },
     "execution_count": 18,
     "metadata": {},
     "output_type": "execute_result"
    }
   ],
   "source": [
    "env.metadata[\"confounding_score\"]"
   ]
  },
  {
   "cell_type": "code",
   "execution_count": 14,
   "metadata": {},
   "outputs": [
    {
     "data": {
      "text/plain": [
       "{'healthd_dmgrcs_mortality_disc': {'min': '0.009747280607745434',\n",
       "  'max': '1.323459376395186'},\n",
       " 'cdcsvi_limteng_hburdic_cont': {'min': '0.43082654688695604',\n",
       "  'max': '2.741491009718477'},\n",
       " 'climate_relhum_wfsmoke_cont': {'min': '0.009770981345976515',\n",
       "  'max': '0.04060395491102834'},\n",
       " 'climate_wfsmoke_minrty_disc': {'min': '0.429989473182664',\n",
       "  'max': '5.856974278382038'},\n",
       " 'healthd_hhinco_mortality_cont': {'min': '0.03502318368504191',\n",
       "  'max': '1.4301374881994822'},\n",
       " 'healthd_pollutn_mortality_cont': {'min': '0.010562957613506719',\n",
       "  'max': '1.3896818352086515'},\n",
       " 'county_educatn_election_cont': {'min': '0.0012584064992189337',\n",
       "  'max': '6.039701423477329'},\n",
       " 'county_phyactiv_lifexpcy_cont': {'min': '0.001964198738300915',\n",
       "  'max': '7.058624054794294e-05'},\n",
       " 'county_dmgrcs_election_disc': {'min': '0.0010479852944912603',\n",
       "  'max': '9.304917351094648'},\n",
       " 'cdcsvi_nohsdp_poverty_cont': {'min': '0.3372125854480615',\n",
       "  'max': '3.513431525919548'},\n",
       " 'cdcsvi_nohsdp_poverty_disc': {'min': '0.7132018763230198',\n",
       "  'max': '3.4662152161092536'}}"
      ]
     },
     "execution_count": 14,
     "metadata": {},
     "output_type": "execute_result"
    }
   ],
   "source": [
    "feat_imp = dict()\n",
    "for s in space_datasets:\n",
    "    env = SpaceEnv(s, dir=\"downloads\")\n",
    "    feat_imp[s] = {\n",
    "        'min': min(env.metadata[\"feature_importance\"].values()), #len(list(env.graph))\n",
    "        'max': max(env.metadata[\"feature_importance\"].values())\n",
    "    }\n",
    "feat_imp"
   ]
  },
  {
   "cell_type": "code",
   "execution_count": null,
   "metadata": {},
   "outputs": [],
   "source": []
  }
 ],
 "metadata": {
  "kernelspec": {
   "display_name": "Python 3",
   "language": "python",
   "name": "python3"
  },
  "language_info": {
   "codemirror_mode": {
    "name": "ipython",
    "version": 3
   },
   "file_extension": ".py",
   "mimetype": "text/x-python",
   "name": "python",
   "nbconvert_exporter": "python",
   "pygments_lexer": "ipython3",
   "version": "3.10.9"
  },
  "orig_nbformat": 4
 },
 "nbformat": 4,
 "nbformat_minor": 2
}
