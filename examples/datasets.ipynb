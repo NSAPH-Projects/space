{
 "cells": [
  {
   "attachments": {},
   "cell_type": "markdown",
   "metadata": {},
   "source": [
    "# Space datasets description"
   ]
  },
  {
   "cell_type": "code",
   "execution_count": 2,
   "metadata": {},
   "outputs": [],
   "source": [
    "import os\n",
    "import numpy as np\n",
    "from spacebench import SpaceEnv, DataMaster\n",
    "import matplotlib.pyplot as plt"
   ]
  },
  {
   "cell_type": "code",
   "execution_count": 3,
   "metadata": {},
   "outputs": [
    {
     "data": {
      "text/html": [
       "<div>\n",
       "<style scoped>\n",
       "    .dataframe tbody tr th:only-of-type {\n",
       "        vertical-align: middle;\n",
       "    }\n",
       "\n",
       "    .dataframe tbody tr th {\n",
       "        vertical-align: top;\n",
       "    }\n",
       "\n",
       "    .dataframe thead th {\n",
       "        text-align: right;\n",
       "    }\n",
       "</style>\n",
       "<table border=\"1\" class=\"dataframe\">\n",
       "  <thead>\n",
       "    <tr style=\"text-align: right;\">\n",
       "      <th></th>\n",
       "      <th>dataset</th>\n",
       "      <th>treatment_type</th>\n",
       "      <th>collection</th>\n",
       "    </tr>\n",
       "  </thead>\n",
       "  <tbody>\n",
       "    <tr>\n",
       "      <th>0</th>\n",
       "      <td>healthd_dmgrcs_mortality_disc</td>\n",
       "      <td>binary</td>\n",
       "      <td>Air Pollution and Mortality</td>\n",
       "    </tr>\n",
       "    <tr>\n",
       "      <th>1</th>\n",
       "      <td>cdcsvi_limteng_hburdic_cont</td>\n",
       "      <td>continuous</td>\n",
       "      <td>Social Vulnerability and Welfare</td>\n",
       "    </tr>\n",
       "    <tr>\n",
       "      <th>2</th>\n",
       "      <td>climate_relhum_wfsmoke_cont</td>\n",
       "      <td>continuous</td>\n",
       "      <td>Heat Exposure and Wildfires</td>\n",
       "    </tr>\n",
       "    <tr>\n",
       "      <th>3</th>\n",
       "      <td>climate_wfsmoke_minrty_disc</td>\n",
       "      <td>binary</td>\n",
       "      <td>Heat Exposure and Wildfires</td>\n",
       "    </tr>\n",
       "    <tr>\n",
       "      <th>4</th>\n",
       "      <td>healthd_hhinco_mortality_cont</td>\n",
       "      <td>continuous</td>\n",
       "      <td>Air Pollution and Mortality</td>\n",
       "    </tr>\n",
       "    <tr>\n",
       "      <th>5</th>\n",
       "      <td>healthd_pollutn_mortality_cont</td>\n",
       "      <td>continuous</td>\n",
       "      <td>Air Pollution and Mortality</td>\n",
       "    </tr>\n",
       "    <tr>\n",
       "      <th>6</th>\n",
       "      <td>county_educatn_election_cont</td>\n",
       "      <td>continuous</td>\n",
       "      <td>Welfare and Elections</td>\n",
       "    </tr>\n",
       "    <tr>\n",
       "      <th>7</th>\n",
       "      <td>county_phyactiv_lifexpcy_cont</td>\n",
       "      <td>continuous</td>\n",
       "      <td>Welfare and Elections</td>\n",
       "    </tr>\n",
       "    <tr>\n",
       "      <th>8</th>\n",
       "      <td>county_dmgrcs_election_disc</td>\n",
       "      <td>binary</td>\n",
       "      <td>Welfare and Elections</td>\n",
       "    </tr>\n",
       "    <tr>\n",
       "      <th>9</th>\n",
       "      <td>cdcsvi_nohsdp_poverty_cont</td>\n",
       "      <td>continuous</td>\n",
       "      <td>Social Vulnerability and Welfare</td>\n",
       "    </tr>\n",
       "    <tr>\n",
       "      <th>10</th>\n",
       "      <td>cdcsvi_nohsdp_poverty_disc</td>\n",
       "      <td>binary</td>\n",
       "      <td>Social Vulnerability and Welfare</td>\n",
       "    </tr>\n",
       "  </tbody>\n",
       "</table>\n",
       "</div>"
      ],
      "text/plain": [
       "                           dataset treatment_type  \\\n",
       "0    healthd_dmgrcs_mortality_disc         binary   \n",
       "1      cdcsvi_limteng_hburdic_cont     continuous   \n",
       "2      climate_relhum_wfsmoke_cont     continuous   \n",
       "3      climate_wfsmoke_minrty_disc         binary   \n",
       "4    healthd_hhinco_mortality_cont     continuous   \n",
       "5   healthd_pollutn_mortality_cont     continuous   \n",
       "6     county_educatn_election_cont     continuous   \n",
       "7    county_phyactiv_lifexpcy_cont     continuous   \n",
       "8      county_dmgrcs_election_disc         binary   \n",
       "9       cdcsvi_nohsdp_poverty_cont     continuous   \n",
       "10      cdcsvi_nohsdp_poverty_disc         binary   \n",
       "\n",
       "                          collection  \n",
       "0        Air Pollution and Mortality  \n",
       "1   Social Vulnerability and Welfare  \n",
       "2        Heat Exposure and Wildfires  \n",
       "3        Heat Exposure and Wildfires  \n",
       "4        Air Pollution and Mortality  \n",
       "5        Air Pollution and Mortality  \n",
       "6              Welfare and Elections  \n",
       "7              Welfare and Elections  \n",
       "8              Welfare and Elections  \n",
       "9   Social Vulnerability and Welfare  \n",
       "10  Social Vulnerability and Welfare  "
      ]
     },
     "execution_count": 3,
     "metadata": {},
     "output_type": "execute_result"
    }
   ],
   "source": [
    "space_master = DataMaster().master\n",
    "space_master = space_master.reset_index()\n",
    "space_master"
   ]
  },
  {
   "cell_type": "code",
   "execution_count": 4,
   "metadata": {},
   "outputs": [
    {
     "data": {
      "text/plain": [
       "['Air Pollution and Mortality',\n",
       " 'Social Vulnerability and Welfare',\n",
       " 'Heat Exposure and Wildfires',\n",
       " 'Welfare and Elections']"
      ]
     },
     "execution_count": 4,
     "metadata": {},
     "output_type": "execute_result"
    }
   ],
   "source": [
    "collections = list(space_master.collection.unique())\n",
    "collections"
   ]
  },
  {
   "cell_type": "code",
   "execution_count": 5,
   "metadata": {},
   "outputs": [
    {
     "data": {
      "text/plain": [
       "['healthd_dmgrcs_mortality_disc',\n",
       " 'cdcsvi_limteng_hburdic_cont',\n",
       " 'climate_relhum_wfsmoke_cont',\n",
       " 'climate_wfsmoke_minrty_disc',\n",
       " 'healthd_hhinco_mortality_cont',\n",
       " 'healthd_pollutn_mortality_cont',\n",
       " 'county_educatn_election_cont',\n",
       " 'county_phyactiv_lifexpcy_cont',\n",
       " 'county_dmgrcs_election_disc',\n",
       " 'cdcsvi_nohsdp_poverty_cont',\n",
       " 'cdcsvi_nohsdp_poverty_disc']"
      ]
     },
     "execution_count": 5,
     "metadata": {},
     "output_type": "execute_result"
    }
   ],
   "source": [
    "space_datasets = DataMaster().list_datasets()\n",
    "space_datasets"
   ]
  },
  {
   "cell_type": "code",
   "execution_count": 6,
   "metadata": {},
   "outputs": [
    {
     "name": "stderr",
     "output_type": "stream",
     "text": [
      "mkdir: downloads: File exists\n"
     ]
    },
    {
     "data": {
      "text/plain": [
       "dict_keys(['name', 'datamaster', 'api', 'dir', 'config', 'synthetic_data', 'metadata', 'graph', 'confounding_score_dict', 'smoothness_score_dict'])"
      ]
     },
     "execution_count": 6,
     "metadata": {},
     "output_type": "execute_result"
    }
   ],
   "source": [
    "os.system(\"mkdir downloads\")\n",
    "envname = space_datasets[0]\n",
    "env = SpaceEnv(envname, dir=\"downloads\")\n",
    "env.__dict__.keys()"
   ]
  },
  {
   "cell_type": "code",
   "execution_count": 6,
   "metadata": {},
   "outputs": [
    {
     "name": "stdout",
     "output_type": "stream",
     "text": [
      "Downloaded: filename cdcsvi_limteng_hburdic_cont.zip, id 7144201, saved to downloads/cdcsvi_limteng_hburdic_cont.zip\n",
      "Downloaded: filename climate_relhum_wfsmoke_cont.zip, id 7144210, saved to downloads/climate_relhum_wfsmoke_cont.zip\n",
      "Downloaded: filename climate_wfsmoke_minrty_disc.zip, id 7144211, saved to downloads/climate_wfsmoke_minrty_disc.zip\n",
      "Downloaded: filename healthd_hhinco_mortality_cont.zip, id 7144202, saved to downloads/healthd_hhinco_mortality_cont.zip\n",
      "Downloaded: filename healthd_pollutn_mortality_cont.zip, id 7144203, saved to downloads/healthd_pollutn_mortality_cont.zip\n",
      "Downloaded: filename county_educatn_election_cont.zip, id 7144204, saved to downloads/county_educatn_election_cont.zip\n",
      "Downloaded: filename county_phyactiv_lifexpcy_cont.zip, id 7144205, saved to downloads/county_phyactiv_lifexpcy_cont.zip\n",
      "Downloaded: filename county_dmgrcs_election_disc.zip, id 7144206, saved to downloads/county_dmgrcs_election_disc.zip\n",
      "Downloaded: filename cdcsvi_nohsdp_poverty_cont.zip, id 7144207, saved to downloads/cdcsvi_nohsdp_poverty_cont.zip\n",
      "Downloaded: filename cdcsvi_nohsdp_poverty_disc.zip, id 7144208, saved to downloads/cdcsvi_nohsdp_poverty_disc.zip\n"
     ]
    }
   ],
   "source": [
    "for s in space_datasets:\n",
    "    env = SpaceEnv(s, dir=\"downloads\")"
   ]
  },
  {
   "attachments": {},
   "cell_type": "markdown",
   "metadata": {},
   "source": [
    "## Summarize number of covariates"
   ]
  },
  {
   "cell_type": "code",
   "execution_count": 7,
   "metadata": {},
   "outputs": [
    {
     "data": {
      "text/plain": [
       "{'healthd_dmgrcs_mortality_disc': 31,\n",
       " 'cdcsvi_limteng_hburdic_cont': 12,\n",
       " 'climate_relhum_wfsmoke_cont': 10,\n",
       " 'climate_wfsmoke_minrty_disc': 22,\n",
       " 'healthd_hhinco_mortality_cont': 34,\n",
       " 'healthd_pollutn_mortality_cont': 35,\n",
       " 'county_educatn_election_cont': 40,\n",
       " 'county_phyactiv_lifexpcy_cont': 41,\n",
       " 'county_dmgrcs_election_disc': 41,\n",
       " 'cdcsvi_nohsdp_poverty_cont': 10,\n",
       " 'cdcsvi_nohsdp_poverty_disc': 10}"
      ]
     },
     "execution_count": 7,
     "metadata": {},
     "output_type": "execute_result"
    }
   ],
   "source": [
    "num_covars = dict()\n",
    "for s in space_datasets:\n",
    "    env = SpaceEnv(s, dir=\"downloads\")\n",
    "    num_covars[s] = len(env.metadata[\"covariates\"])\n",
    "num_covars"
   ]
  },
  {
   "cell_type": "code",
   "execution_count": 8,
   "metadata": {},
   "outputs": [
    {
     "data": {
      "text/plain": [
       "{'Air Pollution and Mortality': 36,\n",
       " 'Social Vulnerability and Welfare': 15,\n",
       " 'Heat Exposure and Wildfires': 22,\n",
       " 'Welfare and Elections': 47}"
      ]
     },
     "execution_count": 8,
     "metadata": {},
     "output_type": "execute_result"
    }
   ],
   "source": [
    "num_covars = dict()\n",
    "for c in collections:\n",
    "    environments = list(space_master.dataset[space_master.collection == c])\n",
    "    covars = list()\n",
    "    for e in environments:\n",
    "        env = SpaceEnv(e, dir=\"downloads\")\n",
    "        covars.extend(env.metadata[\"covariates\"])\n",
    "    num_covars[c] = len(set(covars))\n",
    "num_covars"
   ]
  },
  {
   "attachments": {},
   "cell_type": "markdown",
   "metadata": {},
   "source": [
    "## Summarize graph nodes and edges"
   ]
  },
  {
   "cell_type": "code",
   "execution_count": 17,
   "metadata": {},
   "outputs": [
    {
     "data": {
      "text/plain": [
       "{'healthd_dmgrcs_mortality_disc': {'nodes': 3109, 'edges': 9237},\n",
       " 'cdcsvi_limteng_hburdic_cont': {'nodes': 6828, 'edges': 21585},\n",
       " 'climate_relhum_wfsmoke_cont': {'nodes': 8616, 'edges': 26695},\n",
       " 'climate_wfsmoke_minrty_disc': {'nodes': 8616, 'edges': 26695},\n",
       " 'healthd_hhinco_mortality_cont': {'nodes': 3109, 'edges': 9237},\n",
       " 'healthd_pollutn_mortality_cont': {'nodes': 3109, 'edges': 9237},\n",
       " 'county_educatn_election_cont': {'nodes': 3108, 'edges': 9236},\n",
       " 'county_phyactiv_lifexpcy_cont': {'nodes': 3107, 'edges': 9231},\n",
       " 'county_dmgrcs_election_disc': {'nodes': 3108, 'edges': 9236},\n",
       " 'cdcsvi_nohsdp_poverty_cont': {'nodes': 6828, 'edges': 21585},\n",
       " 'cdcsvi_nohsdp_poverty_disc': {'nodes': 6828, 'edges': 21585}}"
      ]
     },
     "execution_count": 17,
     "metadata": {},
     "output_type": "execute_result"
    }
   ],
   "source": [
    "num_nodes = dict()\n",
    "for s in space_datasets:\n",
    "    env = SpaceEnv(s, dir=\"downloads\")\n",
    "    num_nodes[s] = {\n",
    "        'nodes': env.graph.number_of_nodes(), #len(list(env.graph))\n",
    "        'edges': env.graph.number_of_edges() \n",
    "    }\n",
    "num_nodes"
   ]
  },
  {
   "attachments": {},
   "cell_type": "markdown",
   "metadata": {},
   "source": [
    "##"
   ]
  },
  {
   "attachments": {},
   "cell_type": "markdown",
   "metadata": {},
   "source": [
    "## Summarize feature importance"
   ]
  },
  {
   "cell_type": "code",
   "execution_count": 18,
   "metadata": {},
   "outputs": [
    {
     "data": {
      "text/plain": [
       "{'EP_NOINT': '2.822646393572124',\n",
       " 'EP_DISABL': '1.6235692236084387',\n",
       " 'EP_AGE17': '1.4695298624718613',\n",
       " 'EP_NOVEH': '1.3965648372607187',\n",
       " 'EP_NOHSDP': '1.2632656819081014',\n",
       " 'EP_LIMENG': '1.162969002748668',\n",
       " 'EP_SNGPNT': '1.1185575962103491',\n",
       " 'EP_AGE65': '0.8608152098576362',\n",
       " 'EP_MINRTY': '0.8257770764441151',\n",
       " 'EP_MUNIT': '0.7079269805466126',\n",
       " 'EP_UNEMP': '0.53526090496491'}"
      ]
     },
     "execution_count": 18,
     "metadata": {},
     "output_type": "execute_result"
    }
   ],
   "source": [
    "env.metadata[\"outcome_importance\"]"
   ]
  },
  {
   "cell_type": "code",
   "execution_count": 19,
   "metadata": {},
   "outputs": [
    {
     "data": {
      "text/plain": [
       "{'EP_LIMENG': '0.33568092161641155',\n",
       " 'EP_NOINT': '0.1494404102906236',\n",
       " 'EP_MUNIT': '0.08024022030058642',\n",
       " 'EP_DISABL': '0.03896010696548912',\n",
       " 'EP_MINRTY': '0.034320094226272684',\n",
       " 'EP_NOVEH': '0.021280058424681877',\n",
       " 'EP_AGE65': '0.016720045905107228',\n",
       " 'EP_AGE17': '0.01368003755872403',\n",
       " 'EP_SNGPNT': '0.00640001757133288',\n",
       " 'EP_UNEMP': '0.0053600147159912175'}"
      ]
     },
     "execution_count": 19,
     "metadata": {},
     "output_type": "execute_result"
    }
   ],
   "source": [
    "env.metadata[\"treatment_importance\"]"
   ]
  },
  {
   "cell_type": "code",
   "execution_count": 20,
   "metadata": {},
   "outputs": [
    {
     "data": {
      "text/plain": [
       "{'EP_NOINT': '0.1494404102906236',\n",
       " 'EP_LIMENG': '0.06958546308363311',\n",
       " 'EP_MUNIT': '0.04235833169612017',\n",
       " 'EP_DISABL': '0.03896010696548912',\n",
       " 'EP_MINRTY': '0.034320094226272684',\n",
       " 'EP_NOVEH': '0.021280058424681877',\n",
       " 'EP_AGE65': '0.016720045905107228',\n",
       " 'EP_AGE17': '0.01368003755872403',\n",
       " 'EP_SNGPNT': '0.00640001757133288',\n",
       " 'EP_UNEMP': '0.0053600147159912175'}"
      ]
     },
     "execution_count": 20,
     "metadata": {},
     "output_type": "execute_result"
    }
   ],
   "source": [
    "env.metadata[\"confounding_score\"]"
   ]
  },
  {
   "cell_type": "code",
   "execution_count": 21,
   "metadata": {},
   "outputs": [
    {
     "data": {
      "text/plain": [
       "{'healthd_dmgrcs_mortality_disc': {'min': '-0.0020631389201740446',\n",
       "  'max': '0.03894166356775765'},\n",
       " 'cdcsvi_limteng_hburdic_cont': {'min': '0.011070371878297649',\n",
       "  'max': '0.11507197526784825'},\n",
       " 'climate_relhum_wfsmoke_cont': {'min': '0.09331443630395377',\n",
       "  'max': '0.3556097249352253'},\n",
       " 'climate_wfsmoke_minrty_disc': {'min': '0.00653333333333328',\n",
       "  'max': '0.06253333333333326'},\n",
       " 'healthd_hhinco_mortality_cont': {'min': '0.0036904787008346296',\n",
       "  'max': '0.04571776388187819'},\n",
       " 'healthd_pollutn_mortality_cont': {'min': '0.005912432630215656',\n",
       "  'max': '0.04936122992686385'},\n",
       " 'county_educatn_election_cont': {'min': '0.0009286561948704933',\n",
       "  'max': '0.053742471351045075'},\n",
       " 'county_phyactiv_lifexpcy_cont': {'min': '0.0008399222515778157',\n",
       "  'max': '0.07534169583912828'},\n",
       " 'county_dmgrcs_election_disc': {'min': '-0.0006435391517509737',\n",
       "  'max': '0.09485767096808603'},\n",
       " 'cdcsvi_nohsdp_poverty_cont': {'min': '0.022899802891527554',\n",
       "  'max': '0.12201006346348209'},\n",
       " 'cdcsvi_nohsdp_poverty_disc': {'min': '0.0053600147159912175',\n",
       "  'max': '0.1494404102906236'}}"
      ]
     },
     "execution_count": 21,
     "metadata": {},
     "output_type": "execute_result"
    }
   ],
   "source": [
    "conf_score = dict()\n",
    "for s in space_datasets:\n",
    "    env = SpaceEnv(s, dir=\"downloads\")\n",
    "    conf_score[s] = {\n",
    "        'min': min(env.metadata[\"confounding_score\"].values()), #len(list(env.graph))\n",
    "        'max': max(env.metadata[\"confounding_score\"].values())\n",
    "    }\n",
    "conf_score"
   ]
  },
  {
   "cell_type": "code",
   "execution_count": 22,
   "metadata": {},
   "outputs": [],
   "source": [
    "conf_score_list = list()\n",
    "for s in space_datasets:\n",
    "    env = SpaceEnv(s, dir=\"downloads\")\n",
    "    conf_score_list.extend(list(env.metadata[\"confounding_score\"].values()))\n",
    "conf_score = np.array(conf_score_list)\n",
    "conf_score = conf_score.astype(float)"
   ]
  },
  {
   "cell_type": "code",
   "execution_count": 23,
   "metadata": {},
   "outputs": [
    {
     "name": "stdout",
     "output_type": "stream",
     "text": [
      "min: -0.003475111419455089\n",
      "q25: 0.009098026810474715\n",
      "median: 0.013891074298352644\n",
      "mean: 0.024600302003953457\n",
      "q75: 0.023124950722881805\n",
      "max: 0.3556097249352253\n"
     ]
    }
   ],
   "source": [
    "print(f\"min: {conf_score.min()}\")\n",
    "print(f\"q25: {np.quantile(conf_score, 0.25)}\")\n",
    "print(f\"median: {np.median(conf_score)}\")\n",
    "print(f\"mean: {conf_score.mean()}\")\n",
    "print(f\"q75: {np.quantile(conf_score, 0.75)}\")\n",
    "print(f\"max: {conf_score.max()}\")"
   ]
  },
  {
   "cell_type": "code",
   "execution_count": 24,
   "metadata": {},
   "outputs": [
    {
     "data": {
      "text/plain": [
       "(array([146.,  90.,  27.,   6.,   2.,   3.,   5.,   1.,   1.,   2.,   0.,\n",
       "          1.,   0.,   0.,   0.,   0.,   0.,   1.,   0.,   1.]),\n",
       " array([-0.00347511,  0.01447913,  0.03243337,  0.05038761,  0.06834186,\n",
       "         0.0862961 ,  0.10425034,  0.12220458,  0.14015882,  0.15811306,\n",
       "         0.17606731,  0.19402155,  0.21197579,  0.22993003,  0.24788427,\n",
       "         0.26583852,  0.28379276,  0.301747  ,  0.31970124,  0.33765548,\n",
       "         0.35560972]),\n",
       " <BarContainer object of 20 artists>)"
      ]
     },
     "execution_count": 24,
     "metadata": {},
     "output_type": "execute_result"
    },
    {
     "data": {
      "image/png": "[encoded data removed]",
      "text/plain": [
       "<Figure size 432x288 with 1 Axes>"
      ]
     },
     "metadata": {
      "needs_background": "light"
     },
     "output_type": "display_data"
    }
   ],
   "source": [
    "# make a histogram of the confounding scores\n",
    "plt.hist(conf_score, bins=20)"
   ]
  },
  {
   "attachments": {},
   "cell_type": "markdown",
   "metadata": {},
   "source": [
    "## Summarize Spatial Smoothness"
   ]
  },
  {
   "cell_type": "code",
   "execution_count": 9,
   "metadata": {},
   "outputs": [
    {
     "data": {
      "text/plain": [
       "{'gmet_mean_winter_tmmx': '0.9625116382134297',\n",
       " 'gmet_mean_winter_rmn': '0.9607264412590117',\n",
       " 'bin_SOUTH': '0.9583589026748423',\n",
       " 'qd_mean_pm25': '0.9516419338580774',\n",
       " 'bin_WEST': '0.9494610272806911',\n",
       " 'gmet_mean_tmmx': '0.9486087677474231',\n",
       " 'gmet_mean_summer_sph': '0.9443960669061464',\n",
       " 'gmet_mean_winter_tmmn': '0.939644339077167',\n",
       " 'gmet_mean_sph': '0.9384057083876951',\n",
       " 'gmet_mean_rmn': '0.9336731373766164',\n",
       " 'gmet_mean_tmmn': '0.9299002910918565',\n",
       " 'gmet_mean_summer_rmn': '0.9276269627747782',\n",
       " 'gmet_mean_summer_tmmn': '0.9210582774951698',\n",
       " 'gmet_mean_summer_rmx': '0.9172865697469688',\n",
       " 'gmet_mean_winter_sph': '0.9121888429452975',\n",
       " 'bin_NORTHEAST': '0.9094352330172247',\n",
       " 'gmet_mean_summer_tmmx': '0.8983694388901349',\n",
       " 'gmet_mean_rmx': '0.8800394889839397',\n",
       " 'gmet_mean_winter_rmx': '0.8211646549132919',\n",
       " 'cs_median_house_value': '0.6869220595686004',\n",
       " 'cs_ed_below_highschool': '0.6336784184923402',\n",
       " 'cs_household_income': '0.4763177700129706',\n",
       " 'cs_poverty': '0.4595133690521579',\n",
       " 'cs_population_density': '0.423329614849258',\n",
       " 'cs_other': '0.4012815769064927',\n",
       " 'cdc_pct_nnsmoker': '0.1091099045849029',\n",
       " 'cdc_pct_cusmoker': '0.1076203254384117',\n",
       " 'cdc_pct_nvsmoker': '0.09762815129659866',\n",
       " 'cdc_pct_fmsmoker': '0.09029291364021173',\n",
       " 'cdc_mean_bmi': '0.08756576209176462',\n",
       " 'cdc_pct_sdsmoker': '0.030934211796783812'}"
      ]
     },
     "execution_count": 9,
     "metadata": {},
     "output_type": "execute_result"
    }
   ],
   "source": [
    "env.metadata[\"spatial_scores\"]"
   ]
  },
  {
   "cell_type": "code",
   "execution_count": 12,
   "metadata": {},
   "outputs": [],
   "source": [
    "spatial_score_list = list()\n",
    "for s in space_datasets:\n",
    "    env = SpaceEnv(s, dir=\"downloads\")\n",
    "    spatial_score_list.extend(list(env.metadata[\"spatial_scores\"].values()))\n",
    "spatial_score = np.array(spatial_score_list)\n",
    "spatial_score = spatial_score.astype(float)"
   ]
  },
  {
   "cell_type": "code",
   "execution_count": 13,
   "metadata": {},
   "outputs": [
    {
     "name": "stdout",
     "output_type": "stream",
     "text": [
      "min: 0.02737651003533779\n",
      "q25: 0.3720776672219303\n",
      "median: 0.6213007201984886\n",
      "mean: 0.5876175933063786\n",
      "q75: 0.8863877698046329\n",
      "max: 0.9625116382134303\n"
     ]
    }
   ],
   "source": [
    "print(f\"min: {spatial_score.min()}\")\n",
    "print(f\"q25: {np.quantile(spatial_score, 0.25)}\")\n",
    "print(f\"median: {np.median(spatial_score)}\")\n",
    "print(f\"mean: {spatial_score.mean()}\")\n",
    "print(f\"q75: {np.quantile(spatial_score, 0.75)}\")\n",
    "print(f\"max: {spatial_score.max()}\")"
   ]
  },
  {
   "cell_type": "code",
   "execution_count": 14,
   "metadata": {},
   "outputs": [
    {
     "data": {
      "text/plain": [
       "(array([ 9., 17.,  0.,  4.,  9., 22.,  6., 20.,  9., 15.,  6., 18., 17.,\n",
       "        29.,  8., 10.,  7.,  0., 18., 62.]),\n",
       " array([0.02737651, 0.07413327, 0.12089002, 0.16764678, 0.21440354,\n",
       "        0.26116029, 0.30791705, 0.3546738 , 0.40143056, 0.44818732,\n",
       "        0.49494407, 0.54170083, 0.58845759, 0.63521434, 0.6819711 ,\n",
       "        0.72872786, 0.77548461, 0.82224137, 0.86899813, 0.91575488,\n",
       "        0.96251164]),\n",
       " <BarContainer object of 20 artists>)"
      ]
     },
     "execution_count": 14,
     "metadata": {},
     "output_type": "execute_result"
    },
    {
     "data": {
      "image/png": "[encoded data removed]",
      "text/plain": [
       "<Figure size 432x288 with 1 Axes>"
      ]
     },
     "metadata": {
      "needs_background": "light"
     },
     "output_type": "display_data"
    }
   ],
   "source": [
    "# make a histogram of the confounding scores\n",
    "plt.hist(spatial_score, bins=20)"
   ]
  },
  {
   "attachments": {},
   "cell_type": "markdown",
   "metadata": {},
   "source": [
    "## Number of datasets for each level of difficulty"
   ]
  },
  {
   "cell_type": "code",
   "execution_count": 30,
   "metadata": {},
   "outputs": [
    {
     "name": "stdout",
     "output_type": "stream",
     "text": [
      "easy low 100\n",
      "hard high 56\n",
      "easy high 119\n",
      "hard low 11\n"
     ]
    }
   ],
   "source": [
    "print(f\"easy low {np.sum((conf_score < 0.025) & (spatial_score < 0.5))}\")\n",
    "print(f\"hard high {np.sum((conf_score > 0.025) & (spatial_score > 0.5))}\")\n",
    "print(f\"easy high {np.sum((conf_score < 0.025) & (spatial_score > 0.5))}\")\n",
    "print(f\"hard low {np.sum((conf_score > 0.025) & (spatial_score < 0.5))}\")\n"
   ]
  },
  {
   "cell_type": "code",
   "execution_count": 31,
   "metadata": {},
   "outputs": [
    {
     "data": {
      "text/plain": [
       "286"
      ]
     },
     "execution_count": 31,
     "metadata": {},
     "output_type": "execute_result"
    }
   ],
   "source": [
    "len(conf_score)"
   ]
  }
 ],
 "metadata": {
  "kernelspec": {
   "display_name": "Python 3",
   "language": "python",
   "name": "python3"
  },
  "language_info": {
   "codemirror_mode": {
    "name": "ipython",
    "version": 3
   },
   "file_extension": ".py",
   "mimetype": "text/x-python",
   "name": "python",
   "nbconvert_exporter": "python",
   "pygments_lexer": "ipython3",
   "version": "3.10.9"
  },
  "orig_nbformat": 4
 },
 "nbformat": 4,
 "nbformat_minor": 2
}
