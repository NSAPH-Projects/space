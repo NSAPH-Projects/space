{
 "cells": [
  {
   "cell_type": "code",
   "execution_count": 1,
   "metadata": {},
   "outputs": [
    {
     "name": "stderr",
     "output_type": "stream",
     "text": [
      "/Users/sophie/opt/anaconda3/envs/space-env/lib/python3.10/site-packages/tqdm/auto.py:22: TqdmWarning: IProgress not found. Please update jupyter and ipywidgets. See https://ipywidgets.readthedocs.io/en/stable/user_install.html\n",
      "  from .autonotebook import tqdm as notebook_tqdm\n",
      "Global seed set to 42\n"
     ]
    }
   ],
   "source": [
    "from tqdm import tqdm\n",
    "import numpy as np\n",
    "import pandas as pd\n",
    "from multiprocess import Pool\n",
    "from cfs_erf_spatial import erf_spatial\n",
    "from pytorch_lightning import seed_everything\n",
    "\n",
    "seed_everything(42);"
   ]
  },
  {
   "attachments": {},
   "cell_type": "markdown",
   "metadata": {},
   "source": [
    "### Load Environment"
   ]
  },
  {
   "cell_type": "code",
   "execution_count": 2,
   "metadata": {},
   "outputs": [],
   "source": [
    "from spacebench import SpaceEnv\n",
    "envname = \"spacec_elect_cs_ed_above_college_election_dem_pct\"\n",
    "env = SpaceEnv(envname)"
   ]
  },
  {
   "attachments": {},
   "cell_type": "markdown",
   "metadata": {},
   "source": [
    "### Run spatial and spatial+ for each dataset in parallel"
   ]
  },
  {
   "cell_type": "code",
   "execution_count": 4,
   "metadata": {},
   "outputs": [
    {
     "name": "stderr",
     "output_type": "stream",
     "text": [
      "0it [00:00, ?it/s]/var/folders/vh/scv5k4_d0dsg0mt77xcvwv_m0000gn/T/ipykernel_40102/3945299464.py:4: FutureWarning: arrays to stack must be passed as a \"sequence\" type such as list or tuple. Support for non-sequence iterables such as generators is deprecated as of NumPy 1.16 and will raise an error in the future.\n",
      "  pool_outputs = np.column_stack(\n",
      "45it [23:21, 31.14s/it]\n",
      "100%|██████████| 45/45 [24:27<00:00, 32.61s/it]\n"
     ]
    }
   ],
   "source": [
    "# for each masked variable\n",
    "dataset_list = tqdm(env.make_all())\n",
    "with Pool(4) as p: # 4 is the number of processes\n",
    "    pool_outputs = np.column_stack(\n",
    "        (\n",
    "            tqdm(\n",
    "                p.imap(erf_spatial,\n",
    "                    dataset_list), # each should be a vector of confounding, smoothness, erf_error_spatial, erf_error_spatialplus\n",
    "                total=45 #len(dataset_list) CHANGE THIS, how to get number of datasets from env?\n",
    "            )\n",
    "        )\n",
    "    )"
   ]
  },
  {
   "attachments": {},
   "cell_type": "markdown",
   "metadata": {},
   "source": [
    "### Create table"
   ]
  },
  {
   "cell_type": "code",
   "execution_count": 5,
   "metadata": {},
   "outputs": [
    {
     "data": {
      "text/html": [
       "<div>\n",
       "<style scoped>\n",
       "    .dataframe tbody tr th:only-of-type {\n",
       "        vertical-align: middle;\n",
       "    }\n",
       "\n",
       "    .dataframe tbody tr th {\n",
       "        vertical-align: top;\n",
       "    }\n",
       "\n",
       "    .dataframe thead tr th {\n",
       "        text-align: left;\n",
       "    }\n",
       "\n",
       "    .dataframe thead tr:last-of-type th {\n",
       "        text-align: right;\n",
       "    }\n",
       "</style>\n",
       "<table border=\"1\" class=\"dataframe\">\n",
       "  <thead>\n",
       "    <tr>\n",
       "      <th></th>\n",
       "      <th></th>\n",
       "      <th colspan=\"2\" halign=\"left\">spatial</th>\n",
       "      <th colspan=\"2\" halign=\"left\">spatialplus</th>\n",
       "    </tr>\n",
       "    <tr>\n",
       "      <th></th>\n",
       "      <th></th>\n",
       "      <th>mean</th>\n",
       "      <th>std</th>\n",
       "      <th>mean</th>\n",
       "      <th>std</th>\n",
       "    </tr>\n",
       "    <tr>\n",
       "      <th>smoothness</th>\n",
       "      <th>confounding</th>\n",
       "      <th></th>\n",
       "      <th></th>\n",
       "      <th></th>\n",
       "      <th></th>\n",
       "    </tr>\n",
       "  </thead>\n",
       "  <tbody>\n",
       "    <tr>\n",
       "      <th rowspan=\"2\" valign=\"top\">high</th>\n",
       "      <th>high</th>\n",
       "      <td>310.610047</td>\n",
       "      <td>106.040477</td>\n",
       "      <td>309.964298</td>\n",
       "      <td>104.444811</td>\n",
       "    </tr>\n",
       "    <tr>\n",
       "      <th>low</th>\n",
       "      <td>215.820300</td>\n",
       "      <td>151.698644</td>\n",
       "      <td>216.777677</td>\n",
       "      <td>151.967323</td>\n",
       "    </tr>\n",
       "    <tr>\n",
       "      <th rowspan=\"2\" valign=\"top\">low</th>\n",
       "      <th>high</th>\n",
       "      <td>216.324146</td>\n",
       "      <td>42.888639</td>\n",
       "      <td>217.610887</td>\n",
       "      <td>42.348767</td>\n",
       "    </tr>\n",
       "    <tr>\n",
       "      <th>low</th>\n",
       "      <td>190.616805</td>\n",
       "      <td>52.404172</td>\n",
       "      <td>192.268866</td>\n",
       "      <td>53.233696</td>\n",
       "    </tr>\n",
       "  </tbody>\n",
       "</table>\n",
       "</div>"
      ],
      "text/plain": [
       "                           spatial             spatialplus            \n",
       "                              mean         std        mean         std\n",
       "smoothness confounding                                                \n",
       "high       high         310.610047  106.040477  309.964298  104.444811\n",
       "           low          215.820300  151.698644  216.777677  151.967323\n",
       "low        high         216.324146   42.888639  217.610887   42.348767\n",
       "           low          190.616805   52.404172  192.268866   53.233696"
      ]
     },
     "execution_count": 5,
     "metadata": {},
     "output_type": "execute_result"
    }
   ],
   "source": [
    "smoothness_scores = pool_outputs[0, :]\n",
    "confounding_scores = pool_outputs[1, :] \n",
    "erf_error_spatial = pool_outputs[2, :]\n",
    "erf_error_spatialplus = pool_outputs[3, :]\n",
    "\n",
    "erf_errors = dict(\n",
    "    smoothness=[\"low\" if x < 0.5 else \"high\" for x in smoothness_scores],\n",
    "    confounding=[\"low\" if x < 0.1 else \"high\" for x in confounding_scores],\n",
    "    spatial=erf_error_spatial,\n",
    "    spatialplus=erf_error_spatialplus,\n",
    ")\n",
    "erf_errors = pd.DataFrame(erf_errors)\n",
    "erf_errors.groupby([\"smoothness\", \"confounding\"]).agg([\"mean\", \"std\"])"
   ]
  }
 ],
 "metadata": {
  "kernelspec": {
   "display_name": "space-env",
   "language": "python",
   "name": "python3"
  },
  "language_info": {
   "codemirror_mode": {
    "name": "ipython",
    "version": 3
   },
   "file_extension": ".py",
   "mimetype": "text/x-python",
   "name": "python",
   "nbconvert_exporter": "python",
   "pygments_lexer": "ipython3",
   "version": "3.10.11"
  },
  "orig_nbformat": 4
 },
 "nbformat": 4,
 "nbformat_minor": 2
}
