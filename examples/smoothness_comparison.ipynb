{
 "cells": [
  {
   "attachments": {},
   "cell_type": "markdown",
   "metadata": {},
   "source": [
    "# Space datasets description"
   ]
  },
  {
   "cell_type": "code",
   "execution_count": 13,
   "metadata": {},
   "outputs": [],
   "source": [
    "import numpy as np\n",
    "from spacebench import SpaceEnv, DataMaster\n",
    "import matplotlib.pyplot as plt\n",
    "import pandas as pd\n",
    "import seaborn as sns"
   ]
  },
  {
   "cell_type": "code",
   "execution_count": 2,
   "metadata": {},
   "outputs": [
    {
     "data": {
      "text/plain": [
       "Available datasets (total: 11):\n",
       "\n",
       "  healthd_dmgrcs_mortality_disc\n",
       "  cdcsvi_limteng_hburdic_cont\n",
       "  climate_relhum_wfsmoke_cont\n",
       "  climate_wfsmoke_minrty_disc\n",
       "  healthd_hhinco_mortality_cont\n",
       "  ...\n",
       "  county_educatn_election_cont\n",
       "  county_phyactiv_lifexpcy_cont\n",
       "  county_dmgrcs_election_disc\n",
       "  cdcsvi_nohsdp_poverty_cont\n",
       "  cdcsvi_nohsdp_poverty_disc"
      ]
     },
     "execution_count": 2,
     "metadata": {},
     "output_type": "execute_result"
    }
   ],
   "source": [
    "space_master = DataMaster()\n",
    "space_master"
   ]
  },
  {
   "cell_type": "code",
   "execution_count": 3,
   "metadata": {},
   "outputs": [
    {
     "data": {
      "text/html": [
       "<div>\n",
       "<style scoped>\n",
       "    .dataframe tbody tr th:only-of-type {\n",
       "        vertical-align: middle;\n",
       "    }\n",
       "\n",
       "    .dataframe tbody tr th {\n",
       "        vertical-align: top;\n",
       "    }\n",
       "\n",
       "    .dataframe thead th {\n",
       "        text-align: right;\n",
       "    }\n",
       "</style>\n",
       "<table border=\"1\" class=\"dataframe\">\n",
       "  <thead>\n",
       "    <tr style=\"text-align: right;\">\n",
       "      <th></th>\n",
       "      <th>treatment_type</th>\n",
       "      <th>collection</th>\n",
       "    </tr>\n",
       "    <tr>\n",
       "      <th>environments</th>\n",
       "      <th></th>\n",
       "      <th></th>\n",
       "    </tr>\n",
       "  </thead>\n",
       "  <tbody>\n",
       "    <tr>\n",
       "      <th>healthd_dmgrcs_mortality_disc</th>\n",
       "      <td>binary</td>\n",
       "      <td>Air Pollution and Mortality</td>\n",
       "    </tr>\n",
       "    <tr>\n",
       "      <th>cdcsvi_limteng_hburdic_cont</th>\n",
       "      <td>continuous</td>\n",
       "      <td>Social Vulnerability and Welfare</td>\n",
       "    </tr>\n",
       "    <tr>\n",
       "      <th>climate_relhum_wfsmoke_cont</th>\n",
       "      <td>continuous</td>\n",
       "      <td>Heat Exposure and Wildfires</td>\n",
       "    </tr>\n",
       "    <tr>\n",
       "      <th>climate_wfsmoke_minrty_disc</th>\n",
       "      <td>binary</td>\n",
       "      <td>Heat Exposure and Wildfires</td>\n",
       "    </tr>\n",
       "    <tr>\n",
       "      <th>healthd_hhinco_mortality_cont</th>\n",
       "      <td>continuous</td>\n",
       "      <td>Air Pollution and Mortality</td>\n",
       "    </tr>\n",
       "    <tr>\n",
       "      <th>healthd_pollutn_mortality_cont</th>\n",
       "      <td>continuous</td>\n",
       "      <td>Air Pollution and Mortality</td>\n",
       "    </tr>\n",
       "    <tr>\n",
       "      <th>county_educatn_election_cont</th>\n",
       "      <td>continuous</td>\n",
       "      <td>Welfare and Elections</td>\n",
       "    </tr>\n",
       "    <tr>\n",
       "      <th>county_phyactiv_lifexpcy_cont</th>\n",
       "      <td>continuous</td>\n",
       "      <td>Welfare and Elections</td>\n",
       "    </tr>\n",
       "    <tr>\n",
       "      <th>county_dmgrcs_election_disc</th>\n",
       "      <td>binary</td>\n",
       "      <td>Welfare and Elections</td>\n",
       "    </tr>\n",
       "    <tr>\n",
       "      <th>cdcsvi_nohsdp_poverty_cont</th>\n",
       "      <td>continuous</td>\n",
       "      <td>Social Vulnerability and Welfare</td>\n",
       "    </tr>\n",
       "    <tr>\n",
       "      <th>cdcsvi_nohsdp_poverty_disc</th>\n",
       "      <td>binary</td>\n",
       "      <td>Social Vulnerability and Welfare</td>\n",
       "    </tr>\n",
       "  </tbody>\n",
       "</table>\n",
       "</div>"
      ],
      "text/plain": [
       "                               treatment_type  \\\n",
       "environments                                    \n",
       "healthd_dmgrcs_mortality_disc          binary   \n",
       "cdcsvi_limteng_hburdic_cont        continuous   \n",
       "climate_relhum_wfsmoke_cont        continuous   \n",
       "climate_wfsmoke_minrty_disc            binary   \n",
       "healthd_hhinco_mortality_cont      continuous   \n",
       "healthd_pollutn_mortality_cont     continuous   \n",
       "county_educatn_election_cont       continuous   \n",
       "county_phyactiv_lifexpcy_cont      continuous   \n",
       "county_dmgrcs_election_disc            binary   \n",
       "cdcsvi_nohsdp_poverty_cont         continuous   \n",
       "cdcsvi_nohsdp_poverty_disc             binary   \n",
       "\n",
       "                                                      collection  \n",
       "environments                                                      \n",
       "healthd_dmgrcs_mortality_disc        Air Pollution and Mortality  \n",
       "cdcsvi_limteng_hburdic_cont     Social Vulnerability and Welfare  \n",
       "climate_relhum_wfsmoke_cont          Heat Exposure and Wildfires  \n",
       "climate_wfsmoke_minrty_disc          Heat Exposure and Wildfires  \n",
       "healthd_hhinco_mortality_cont        Air Pollution and Mortality  \n",
       "healthd_pollutn_mortality_cont       Air Pollution and Mortality  \n",
       "county_educatn_election_cont               Welfare and Elections  \n",
       "county_phyactiv_lifexpcy_cont              Welfare and Elections  \n",
       "county_dmgrcs_election_disc                Welfare and Elections  \n",
       "cdcsvi_nohsdp_poverty_cont      Social Vulnerability and Welfare  \n",
       "cdcsvi_nohsdp_poverty_disc      Social Vulnerability and Welfare  "
      ]
     },
     "execution_count": 3,
     "metadata": {},
     "output_type": "execute_result"
    }
   ],
   "source": [
    "space_master.master"
   ]
  },
  {
   "cell_type": "code",
   "execution_count": 4,
   "metadata": {},
   "outputs": [
    {
     "data": {
      "text/plain": [
       "['Air Pollution and Mortality',\n",
       " 'Social Vulnerability and Welfare',\n",
       " 'Heat Exposure and Wildfires',\n",
       " 'Welfare and Elections']"
      ]
     },
     "execution_count": 4,
     "metadata": {},
     "output_type": "execute_result"
    }
   ],
   "source": [
    "collections = space_master.list_collections()\n",
    "collections"
   ]
  },
  {
   "cell_type": "code",
   "execution_count": 5,
   "metadata": {},
   "outputs": [
    {
     "data": {
      "text/plain": [
       "['healthd_dmgrcs_mortality_disc',\n",
       " 'cdcsvi_limteng_hburdic_cont',\n",
       " 'climate_relhum_wfsmoke_cont',\n",
       " 'climate_wfsmoke_minrty_disc',\n",
       " 'healthd_hhinco_mortality_cont',\n",
       " 'healthd_pollutn_mortality_cont',\n",
       " 'county_educatn_election_cont',\n",
       " 'county_phyactiv_lifexpcy_cont',\n",
       " 'county_dmgrcs_election_disc',\n",
       " 'cdcsvi_nohsdp_poverty_cont',\n",
       " 'cdcsvi_nohsdp_poverty_disc']"
      ]
     },
     "execution_count": 5,
     "metadata": {},
     "output_type": "execute_result"
    }
   ],
   "source": [
    "space_envs = space_master.list_envs()\n",
    "space_envs"
   ]
  },
  {
   "cell_type": "code",
   "execution_count": 19,
   "metadata": {},
   "outputs": [],
   "source": [
    "real_smoothness = []\n",
    "synth_smoothness = []\n",
    "for env_name in space_envs:\n",
    "    env = SpaceEnv(env_name, dir='downloads')\n",
    "    real_smoothness.append(float(env.metadata[\"original_residual_spatial_score\"]))\n",
    "    synth_smoothness.append(float(env.metadata[\"synthetic_residual_spatial_score\"]))"
   ]
  },
  {
   "cell_type": "code",
   "execution_count": 20,
   "metadata": {},
   "outputs": [
    {
     "data": {
      "text/html": [
       "<div>\n",
       "<style scoped>\n",
       "    .dataframe tbody tr th:only-of-type {\n",
       "        vertical-align: middle;\n",
       "    }\n",
       "\n",
       "    .dataframe tbody tr th {\n",
       "        vertical-align: top;\n",
       "    }\n",
       "\n",
       "    .dataframe thead th {\n",
       "        text-align: right;\n",
       "    }\n",
       "</style>\n",
       "<table border=\"1\" class=\"dataframe\">\n",
       "  <thead>\n",
       "    <tr style=\"text-align: right;\">\n",
       "      <th></th>\n",
       "      <th>real</th>\n",
       "      <th>synthetic</th>\n",
       "    </tr>\n",
       "  </thead>\n",
       "  <tbody>\n",
       "    <tr>\n",
       "      <th>0</th>\n",
       "      <td>0.116723</td>\n",
       "      <td>0.070199</td>\n",
       "    </tr>\n",
       "    <tr>\n",
       "      <th>1</th>\n",
       "      <td>0.123518</td>\n",
       "      <td>0.066716</td>\n",
       "    </tr>\n",
       "    <tr>\n",
       "      <th>2</th>\n",
       "      <td>0.521379</td>\n",
       "      <td>0.255366</td>\n",
       "    </tr>\n",
       "    <tr>\n",
       "      <th>3</th>\n",
       "      <td>0.525807</td>\n",
       "      <td>0.259109</td>\n",
       "    </tr>\n",
       "    <tr>\n",
       "      <th>4</th>\n",
       "      <td>0.087095</td>\n",
       "      <td>0.050996</td>\n",
       "    </tr>\n",
       "    <tr>\n",
       "      <th>5</th>\n",
       "      <td>0.107555</td>\n",
       "      <td>0.080942</td>\n",
       "    </tr>\n",
       "    <tr>\n",
       "      <th>6</th>\n",
       "      <td>0.154932</td>\n",
       "      <td>0.091741</td>\n",
       "    </tr>\n",
       "    <tr>\n",
       "      <th>7</th>\n",
       "      <td>0.119830</td>\n",
       "      <td>0.094292</td>\n",
       "    </tr>\n",
       "    <tr>\n",
       "      <th>8</th>\n",
       "      <td>0.155151</td>\n",
       "      <td>0.091805</td>\n",
       "    </tr>\n",
       "    <tr>\n",
       "      <th>9</th>\n",
       "      <td>0.088633</td>\n",
       "      <td>0.050120</td>\n",
       "    </tr>\n",
       "    <tr>\n",
       "      <th>10</th>\n",
       "      <td>0.106863</td>\n",
       "      <td>0.072947</td>\n",
       "    </tr>\n",
       "  </tbody>\n",
       "</table>\n",
       "</div>"
      ],
      "text/plain": [
       "        real  synthetic\n",
       "0   0.116723   0.070199\n",
       "1   0.123518   0.066716\n",
       "2   0.521379   0.255366\n",
       "3   0.525807   0.259109\n",
       "4   0.087095   0.050996\n",
       "5   0.107555   0.080942\n",
       "6   0.154932   0.091741\n",
       "7   0.119830   0.094292\n",
       "8   0.155151   0.091805\n",
       "9   0.088633   0.050120\n",
       "10  0.106863   0.072947"
      ]
     },
     "execution_count": 20,
     "metadata": {},
     "output_type": "execute_result"
    }
   ],
   "source": [
    "df = pd.DataFrame({\"real\": real_smoothness, \"synthetic\": synth_smoothness})\n",
    "df"
   ]
  },
  {
   "cell_type": "code",
   "execution_count": 28,
   "metadata": {},
   "outputs": [
    {
     "name": "stderr",
     "output_type": "stream",
     "text": [
      "/Users/mag7273/mambaforge/envs/benchmarks/lib/python3.10/site-packages/seaborn/axisgrid.py:118: UserWarning: The figure layout has changed to tight\n",
      "  self._figure.tight_layout(*args, **kwargs)\n"
     ]
    },
    {
     "data": {
      "image/png": "[encoded data removed]",
      "text/plain": [
       "<Figure size 400x400 with 1 Axes>"
      ]
     },
     "metadata": {},
     "output_type": "display_data"
    }
   ],
   "source": [
    "sns.set_theme(style=\"whitegrid\")\n",
    "# make plot in log scale\n",
    "sns.lmplot(data=df, x=\"real\", y=\"synthetic\", height=4, aspect=1.0)\n",
    "plt.xscale(\"log\")\n",
    "plt.yscale(\"log\")\n",
    "plt.xlabel(\"Smoothness score of true residuals\")\n",
    "plt.ylabel(\"Smoothness score of synthetic residuals\")\n",
    "plt.savefig(\"examples/figures/residuals_smoothness_comparison.png\", dpi=300, bbox_inches=\"tight\")"
   ]
  }
 ],
 "metadata": {
  "kernelspec": {
   "display_name": "Python 3",
   "language": "python",
   "name": "python3"
  },
  "language_info": {
   "codemirror_mode": {
    "name": "ipython",
    "version": 3
   },
   "file_extension": ".py",
   "mimetype": "text/x-python",
   "name": "python",
   "nbconvert_exporter": "python",
   "pygments_lexer": "ipython3",
   "version": "3.10.12"
  },
  "orig_nbformat": 4
 },
 "nbformat": 4,
 "nbformat_minor": 2
}
