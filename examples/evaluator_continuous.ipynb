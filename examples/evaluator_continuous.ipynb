{
 "cells": [
  {
   "cell_type": "code",
   "execution_count": 1,
   "metadata": {},
   "outputs": [
    {
     "name": "stderr",
     "output_type": "stream",
     "text": [
      "/Users/sophie/opt/anaconda3/envs/space-env/lib/python3.10/site-packages/tqdm/auto.py:22: TqdmWarning: IProgress not found. Please update jupyter and ipywidgets. See https://ipywidgets.readthedocs.io/en/stable/user_install.html\n",
      "  from .autonotebook import tqdm as notebook_tqdm\n",
      "Global seed set to 42\n"
     ]
    }
   ],
   "source": [
    "from tqdm import tqdm\n",
    "import numpy as np\n",
    "import pandas as pd\n",
    "from multiprocess import Pool\n",
    "from cfs_erf_spatial import erf_spatial\n",
    "from pytorch_lightning import seed_everything\n",
    "\n",
    "seed_everything(42);"
   ]
  },
  {
   "attachments": {},
   "cell_type": "markdown",
   "metadata": {},
   "source": [
    "### Load Environment"
   ]
  },
  {
   "cell_type": "code",
   "execution_count": 2,
   "metadata": {},
   "outputs": [],
   "source": [
    "from spacebench import SpaceEnv, DataMaster\n",
    "datamaster = DataMaster()\n",
    "datasets = datamaster.master \n",
    "# find datasets that have continuous exposure\n",
    "cts = datasets.index[datasets['exposure'] == 'continuous'].values\n"
   ]
  },
  {
   "attachments": {},
   "cell_type": "markdown",
   "metadata": {},
   "source": [
    "### Run spatial and spatial+ for each environment, and dataset in parallel"
   ]
  },
  {
   "attachments": {},
   "cell_type": "markdown",
   "metadata": {},
   "source": [
    "Results are being saved in out.csv."
   ]
  },
  {
   "cell_type": "code",
   "execution_count": 3,
   "metadata": {},
   "outputs": [
    {
     "name": "stderr",
     "output_type": "stream",
     "text": [
      "/var/folders/vh/scv5k4_d0dsg0mt77xcvwv_m0000gn/T/ipykernel_47482/3571497539.py:10: FutureWarning: arrays to stack must be passed as a \"sequence\" type such as list or tuple. Support for non-sequence iterables such as generators is deprecated as of NumPy 1.16 and will raise an error in the future.\n",
      "  pool_outputs = np.column_stack(\n"
     ]
    },
    {
     "ename": "AttributeError",
     "evalue": "'tuple' object has no attribute 'treatment'",
     "output_type": "error",
     "traceback": [
      "\u001b[0;31m---------------------------------------------------------------------------\u001b[0m",
      "\u001b[0;31mRemoteTraceback\u001b[0m                           Traceback (most recent call last)",
      "\u001b[0;31mRemoteTraceback\u001b[0m: \n\"\"\"\nTraceback (most recent call last):\n  File \"/Users/sophie/opt/anaconda3/envs/space-env/lib/python3.10/site-packages/multiprocess/pool.py\", line 125, in worker\n    result = (True, func(*args, **kwds))\n  File \"/Users/sophie/Documents/space/examples/cfs_erf_spatial.py\", line 31, in erf_spatial\n    treatment = dataset.treatment[:, None]\nAttributeError: 'tuple' object has no attribute 'treatment'\n\"\"\"",
      "\nThe above exception was the direct cause of the following exception:\n",
      "\u001b[0;31mAttributeError\u001b[0m                            Traceback (most recent call last)",
      "Cell \u001b[0;32mIn[3], line 10\u001b[0m\n\u001b[1;32m      7\u001b[0m \u001b[39m#print(type(args[0]))\u001b[39;00m\n\u001b[1;32m      8\u001b[0m \u001b[39m#print(args)\u001b[39;00m\n\u001b[1;32m      9\u001b[0m \u001b[39mwith\u001b[39;00m Pool(\u001b[39m4\u001b[39m) \u001b[39mas\u001b[39;00m p: \u001b[39m# 4 is the number of processes\u001b[39;00m\n\u001b[0;32m---> 10\u001b[0m     pool_outputs \u001b[39m=\u001b[39m np\u001b[39m.\u001b[39;49mcolumn_stack(\n\u001b[1;32m     11\u001b[0m     (\n\u001b[1;32m     12\u001b[0m             p\u001b[39m.\u001b[39;49mimap(erf_spatial, \u001b[39m# does not preserve order of datasets\u001b[39;49;00m\n\u001b[1;32m     13\u001b[0m                         args)\n\u001b[1;32m     14\u001b[0m                     \u001b[39m# should write to out.csv a vector of envname, dataset id, confounding, smoothness, \u001b[39;49;00m\n\u001b[1;32m     15\u001b[0m                     \u001b[39m# erf_error_spatial, erf_error_spatialplus, pehe_spatial, pehe_spatialplus\u001b[39;49;00m\n\u001b[1;32m     16\u001b[0m         )\n\u001b[1;32m     17\u001b[0m     )\n",
      "File \u001b[0;32m<__array_function__ internals>:200\u001b[0m, in \u001b[0;36mcolumn_stack\u001b[0;34m(*args, **kwargs)\u001b[0m\n",
      "File \u001b[0;32m~/opt/anaconda3/envs/space-env/lib/python3.10/site-packages/numpy/lib/shape_base.py:651\u001b[0m, in \u001b[0;36mcolumn_stack\u001b[0;34m(tup)\u001b[0m\n\u001b[1;32m    648\u001b[0m     _arrays_for_stack_dispatcher(tup, stacklevel\u001b[39m=\u001b[39m\u001b[39m2\u001b[39m)\n\u001b[1;32m    650\u001b[0m arrays \u001b[39m=\u001b[39m []\n\u001b[0;32m--> 651\u001b[0m \u001b[39mfor\u001b[39;00m v \u001b[39min\u001b[39;00m tup:\n\u001b[1;32m    652\u001b[0m     arr \u001b[39m=\u001b[39m asanyarray(v)\n\u001b[1;32m    653\u001b[0m     \u001b[39mif\u001b[39;00m arr\u001b[39m.\u001b[39mndim \u001b[39m<\u001b[39m \u001b[39m2\u001b[39m:\n",
      "File \u001b[0;32m~/opt/anaconda3/envs/space-env/lib/python3.10/site-packages/multiprocess/pool.py:873\u001b[0m, in \u001b[0;36mIMapIterator.next\u001b[0;34m(self, timeout)\u001b[0m\n\u001b[1;32m    871\u001b[0m \u001b[39mif\u001b[39;00m success:\n\u001b[1;32m    872\u001b[0m     \u001b[39mreturn\u001b[39;00m value\n\u001b[0;32m--> 873\u001b[0m \u001b[39mraise\u001b[39;00m value\n",
      "\u001b[0;31mAttributeError\u001b[0m: 'tuple' object has no attribute 'treatment'"
     ]
    }
   ],
   "source": [
    "# for each environment\n",
    "for envname in cts:\n",
    "    env = SpaceEnv(str(envname))\n",
    "    # for each masked variable\n",
    "    dataset_list = list(env.make_all())\n",
    "    args = zip(dataset_list, range(len(dataset_list)), [envname]*len(dataset_list))\n",
    "    #print(type(args[0]))\n",
    "    #print(args)\n",
    "    with Pool(4) as p: # 4 is the number of processes\n",
    "        pool_outputs = np.column_stack(\n",
    "        (\n",
    "                p.imap(erf_spatial, # does not preserve order of datasets\n",
    "                            args)\n",
    "                        # should write to out.csv a vector of envname, dataset id, confounding, smoothness, \n",
    "                        # erf_error_spatial, erf_error_spatialplus, pehe_spatial, pehe_spatialplus\n",
    "            )\n",
    "        )"
   ]
  },
  {
   "attachments": {},
   "cell_type": "markdown",
   "metadata": {},
   "source": [
    "### Analyze results by env: NOT TESTED"
   ]
  },
  {
   "cell_type": "code",
   "execution_count": 13,
   "metadata": {},
   "outputs": [
    {
     "data": {
      "text/html": [
       "<div>\n",
       "<style scoped>\n",
       "    .dataframe tbody tr th:only-of-type {\n",
       "        vertical-align: middle;\n",
       "    }\n",
       "\n",
       "    .dataframe tbody tr th {\n",
       "        vertical-align: top;\n",
       "    }\n",
       "\n",
       "    .dataframe thead tr th {\n",
       "        text-align: left;\n",
       "    }\n",
       "\n",
       "    .dataframe thead tr:last-of-type th {\n",
       "        text-align: right;\n",
       "    }\n",
       "</style>\n",
       "<table border=\"1\" class=\"dataframe\">\n",
       "  <thead>\n",
       "    <tr>\n",
       "      <th></th>\n",
       "      <th></th>\n",
       "      <th colspan=\"2\" halign=\"left\">spatial</th>\n",
       "      <th colspan=\"2\" halign=\"left\">spatialplus</th>\n",
       "    </tr>\n",
       "    <tr>\n",
       "      <th></th>\n",
       "      <th></th>\n",
       "      <th>mean</th>\n",
       "      <th>std</th>\n",
       "      <th>mean</th>\n",
       "      <th>std</th>\n",
       "    </tr>\n",
       "    <tr>\n",
       "      <th>smoothness</th>\n",
       "      <th>confounding</th>\n",
       "      <th></th>\n",
       "      <th></th>\n",
       "      <th></th>\n",
       "      <th></th>\n",
       "    </tr>\n",
       "  </thead>\n",
       "  <tbody>\n",
       "    <tr>\n",
       "      <th>high</th>\n",
       "      <th>low</th>\n",
       "      <td>425.494339</td>\n",
       "      <td>423.796668</td>\n",
       "      <td>425.965964</td>\n",
       "      <td>424.277590</td>\n",
       "    </tr>\n",
       "    <tr>\n",
       "      <th>low</th>\n",
       "      <th>high</th>\n",
       "      <td>206.488579</td>\n",
       "      <td>2.105307</td>\n",
       "      <td>207.958599</td>\n",
       "      <td>2.153853</td>\n",
       "    </tr>\n",
       "  </tbody>\n",
       "</table>\n",
       "</div>"
      ],
      "text/plain": [
       "                           spatial             spatialplus            \n",
       "                              mean         std        mean         std\n",
       "smoothness confounding                                                \n",
       "high       low          425.494339  423.796668  425.965964  424.277590\n",
       "low        high         206.488579    2.105307  207.958599    2.153853"
      ]
     },
     "execution_count": 13,
     "metadata": {},
     "output_type": "execute_result"
    }
   ],
   "source": [
    "envname = cts[0]\n",
    "outputs = np.loadtxt('out.csv', delimiter=',', skiprows=1)\n",
    "outputs = outputs[outputs[:, 0] == envname]\n",
    "\n",
    "smoothness_scores = outputs[:, 2]\n",
    "confounding_scores = outputs[:, 3] \n",
    "erf_error_spatial = outputs[:, 4]\n",
    "erf_error_spatialplus = outputs[:, 5]\n",
    "pehe_spatial = outputs[:, 6]\n",
    "pehe_spatialplus = outputs[:, 7]\n",
    "\n",
    "erf_errors = dict(\n",
    "    smoothness=[\"low\" if x < 0.5 else \"high\" for x in smoothness_scores],\n",
    "    confounding=[\"low\" if x < 0.1 else \"high\" for x in confounding_scores],\n",
    "    spatial_erf_error=erf_error_spatial,\n",
    "    spatialplus_erf_error=erf_error_spatialplus,\n",
    "    spatial_pehe_avg = pehe_spatial,\n",
    "    spatialplus_pehe_avg = pehe_spatialplus\n",
    ")\n",
    "erf_errors = pd.DataFrame(erf_errors)\n",
    "erf_errors.groupby([\"smoothness\", \"confounding\"]).agg([\"mean\", \"std\"])"
   ]
  }
 ],
 "metadata": {
  "kernelspec": {
   "display_name": "space-env",
   "language": "python",
   "name": "python3"
  },
  "language_info": {
   "codemirror_mode": {
    "name": "ipython",
    "version": 3
   },
   "file_extension": ".py",
   "mimetype": "text/x-python",
   "name": "python",
   "nbconvert_exporter": "python",
   "pygments_lexer": "ipython3",
   "version": "3.10.11"
  },
  "orig_nbformat": 4
 },
 "nbformat": 4,
 "nbformat_minor": 2
}
