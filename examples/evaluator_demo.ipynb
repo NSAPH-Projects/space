{
 "cells": [
  {
   "attachments": {},
   "cell_type": "markdown",
   "metadata": {},
   "source": [
    "Load some standard libraries"
   ]
  },
  {
   "cell_type": "code",
   "execution_count": 4,
   "metadata": {},
   "outputs": [
    {
     "name": "stderr",
     "output_type": "stream",
     "text": [
      "Global seed set to 42\n"
     ]
    }
   ],
   "source": [
    "from tqdm import tqdm\n",
    "\n",
    "import numpy as np\n",
    "import pandas as pd\n",
    "import matplotlib.pyplot as plt\n",
    "from pytorch_lightning import seed_everything\n",
    "from xgboost import XGBRegressor\n",
    "\n",
    "seed_everything(42);"
   ]
  },
  {
   "attachments": {},
   "cell_type": "markdown",
   "metadata": {},
   "source": [
    "We will use the following libraties from spacebench."
   ]
  },
  {
   "cell_type": "code",
   "execution_count": 5,
   "metadata": {},
   "outputs": [],
   "source": [
    "from spacebench import (\n",
    "    SpaceEnv,\n",
    "    SpaceDataset,\n",
    "    DataMaster,\n",
    "    DatasetEvaluator,\n",
    "    EnvEvaluator,\n",
    ")"
   ]
  },
  {
   "attachments": {},
   "cell_type": "markdown",
   "metadata": {},
   "source": [
    "Load the datamaster to list available datasets"
   ]
  },
  {
   "cell_type": "code",
   "execution_count": 6,
   "metadata": {},
   "outputs": [
    {
     "data": {
      "text/plain": [
       "['spacec_elect_cs_ed_above_college_election_dem_pct']"
      ]
     },
     "execution_count": 6,
     "metadata": {},
     "output_type": "execute_result"
    }
   ],
   "source": [
    "DataMaster().list_datasets()"
   ]
  },
  {
   "attachments": {},
   "cell_type": "markdown",
   "metadata": {},
   "source": [
    "Create the environment."
   ]
  },
  {
   "cell_type": "code",
   "execution_count": 7,
   "metadata": {},
   "outputs": [
    {
     "data": {
      "text/plain": [
       "dict_keys(['name', 'datamaster', 'api', 'dir', 'config', 'synthetic_data', 'metadata', 'graph', 'confounding_score_dict', 'smoothness_score_dict'])"
      ]
     },
     "execution_count": 7,
     "metadata": {},
     "output_type": "execute_result"
    }
   ],
   "source": [
    "envname = \"spacec_elect_cs_ed_above_college_election_dem_pct\"\n",
    "env = SpaceEnv(envname, dir=\"downloads\")\n",
    "env.__dict__.keys()"
   ]
  },
  {
   "attachments": {},
   "cell_type": "markdown",
   "metadata": {},
   "source": [
    "Example of generating a dataset."
   ]
  },
  {
   "cell_type": "code",
   "execution_count": 8,
   "metadata": {},
   "outputs": [
    {
     "name": "stdout",
     "output_type": "stream",
     "text": [
      "treatment shape (2821,)\n",
      "covariates shape (2821, 44)\n",
      "num. edges 8263\n",
      "smoothness of missing confounder 0.9449527206623363\n",
      "confounding of missing confounder 0.06880235416329153\n"
     ]
    }
   ],
   "source": [
    "dataset = env.make()\n",
    "print(\"treatment shape\", dataset.treatment.shape)\n",
    "print(\"covariates shape\", dataset.covariates.shape)\n",
    "print(\"num. edges\", len(dataset.edges)) \n",
    "print(\"smoothness of missing confounder\", dataset.smoothness_of_missing)\n",
    "print(\"confounding of missing confounder\", dataset.confounding_of_missing)\n"
   ]
  },
  {
   "attachments": {},
   "cell_type": "markdown",
   "metadata": {},
   "source": [
    "We can loop over all possible datasets using the make_all method."
   ]
  },
  {
   "cell_type": "code",
   "execution_count": 9,
   "metadata": {},
   "outputs": [
    {
     "data": {
      "text/plain": [
       "Text(0.5, 0.98, 'Distribution of confounding and smoothness')"
      ]
     },
     "execution_count": 9,
     "metadata": {},
     "output_type": "execute_result"
    },
    {
     "data": {
      "image/png": "[encoded data removed]",
      "text/plain": [
       "<Figure size 600x200 with 2 Axes>"
      ]
     },
     "metadata": {},
     "output_type": "display_data"
    }
   ],
   "source": [
    "confounding_scores = []\n",
    "smoothness_scores = []\n",
    "for dataset in env.make_all():\n",
    "    confounding_scores.append(dataset.confounding_of_missing)\n",
    "    smoothness_scores.append(dataset.smoothness_of_missing)\n",
    "\n",
    "fig, ax = plt.subplots(1, 2, figsize=(6, 2))\n",
    "ax[0].hist(confounding_scores)\n",
    "ax[0].set_xlabel(\"confounding\")\n",
    "ax[1].hist(smoothness_scores)\n",
    "ax[1].set_xlabel(\"smoothness\")\n",
    "plt.suptitle(\"Distribution of confounding and smoothness\")"
   ]
  },
  {
   "attachments": {},
   "cell_type": "markdown",
   "metadata": {},
   "source": [
    "Let's now illustrate how to use the evaluator. On **one** dataset.\n",
    "We will compare two methods. These methods are not real competitive spatial confounding \n",
    "methods, but they are easy to implement and illustrate the use of the evaluator.\n",
    "\n",
    "One model is a simple xgboost regression model without any type of spatial confounding correction.\n",
    "The other model uses the coordinates (lon/lats) as features in the model."
   ]
  },
  {
   "cell_type": "code",
   "execution_count": 10,
   "metadata": {},
   "outputs": [],
   "source": [
    "def estimate_counterfactuals(model, dataset: SpaceDataset, use_coords: bool):\n",
    "    \"\"\"Helper function to fit a model and predict counterfactuals\"\"\"\n",
    "    treatment = dataset.treatment[:, None]\n",
    "    covariates = dataset.covariates\n",
    "    outcome = dataset.outcome\n",
    "\n",
    "    # make train matrix\n",
    "    trainmat = np.hstack([covariates, treatment])\n",
    "    if use_coords:\n",
    "        coords = np.array(dataset.coordinates)\n",
    "        trainmat = np.hstack([trainmat, coords])\n",
    "\n",
    "    # fit model\n",
    "    model.fit(trainmat, outcome)\n",
    "\n",
    "    # predict counterfactuals\n",
    "    tvals = dataset.treatment_values\n",
    "    counterfactuals = []\n",
    "    for tval in tvals:\n",
    "        trainmat = np.hstack([covariates, np.full_like(treatment, tval)])\n",
    "        if use_coords:\n",
    "            trainmat = np.hstack([trainmat, coords])\n",
    "        counterfactuals.append(model.predict(trainmat))\n",
    "    counterfactuals = np.stack(counterfactuals, axis=1)\n",
    "\n",
    "    return counterfactuals"
   ]
  },
  {
   "attachments": {},
   "cell_type": "markdown",
   "metadata": {},
   "source": [
    "Now use the `DatasetEvaluator` class."
   ]
  },
  {
   "cell_type": "code",
   "execution_count": 11,
   "metadata": {},
   "outputs": [
    {
     "name": "stdout",
     "output_type": "stream",
     "text": [
      "Errors no coords. ERF: 6.59, PEHE: 24.70\n",
      "Errors with coords, ERF: 9.61, PEHE: 27.63\n"
     ]
    },
    {
     "data": {
      "image/png": "[encoded data removed]",
      "text/plain": [
       "<Figure size 400x300 with 1 Axes>"
      ]
     },
     "metadata": {},
     "output_type": "display_data"
    }
   ],
   "source": [
    "dataset = env.make()\n",
    "model = XGBRegressor()\n",
    "model_coords = XGBRegressor()\n",
    "\n",
    "# generate counterfactuals and estimate exposure response function\n",
    "cfs = estimate_counterfactuals(model, dataset, use_coords=False)\n",
    "erf = cfs.mean(0)\n",
    "\n",
    "cfs_coords = estimate_counterfactuals(model_coords, dataset, use_coords=True)\n",
    "erf_coords = cfs_coords.mean(0)\n",
    "\n",
    "# evaluate performance\n",
    "evaluator = DatasetEvaluator(dataset)\n",
    "\n",
    "err = evaluator.eval(erf=erf, counterfactuals=cfs)\n",
    "msg = f\"Errors no coords. ERF: {err['erf_mse']:.2f}, PEHE: {err['pehe_mse']:.2f}\"\n",
    "print(msg)\n",
    "\n",
    "err_coords = evaluator.eval(erf=erf_coords, counterfactuals=cfs_coords)\n",
    "msg = f\"Errors with coords, ERF: {err_coords['erf_mse']:.2f}, PEHE: {err_coords['pehe_mse']:.2f}\"\n",
    "print(msg)\n",
    "\n",
    "# plot comparing estimated and true erf\n",
    "erf_true = dataset.erf()\n",
    "\n",
    "fig, ax = plt.subplots(1, 1, figsize=(4, 3))\n",
    "ax.plot(dataset.treatment_values, erf, label=\"estimated without coords\")\n",
    "ax.plot(dataset.treatment_values, erf_coords, label=\"estimated with coords\")\n",
    "ax.plot(dataset.treatment_values, erf_true, label=\"true ERF\", linestyle=\"--\", color=\"k\")\n",
    "ax.set_xlabel(\"treatment\")\n",
    "ax.set_ylabel(\"outcome\")\n",
    "ax.legend();"
   ]
  },
  {
   "attachments": {},
   "cell_type": "markdown",
   "metadata": {},
   "source": [
    "Let us know loop over all datasets and compare the two models. The `EnvEvaluator` evalautor is designed for this task. But we need an evaluator for each model."
   ]
  },
  {
   "cell_type": "code",
   "execution_count": 12,
   "metadata": {},
   "outputs": [
    {
     "name": "stderr",
     "output_type": "stream",
     "text": [
      "45it [00:57,  1.28s/it]\n"
     ]
    }
   ],
   "source": [
    "# for each masked variable\n",
    "env_evaluator = EnvEvaluator(env)\n",
    "env_evaluator_coords = EnvEvaluator(env)\n",
    "\n",
    "for dataset in tqdm(env.make_all()):\n",
    "    cfs = estimate_counterfactuals(model, dataset, use_coords=False)\n",
    "    erf = cfs.mean(0)\n",
    "    cfs_coords = estimate_counterfactuals(model_coords, dataset, use_coords=True)\n",
    "    erf_coords = cfs_coords.mean(0)\n",
    "\n",
    "    err = env_evaluator.add(dataset, erf=erf, counterfactuals=cfs)\n",
    "    err_coords = env_evaluator_coords.add(\n",
    "        dataset, erf=erf_coords, counterfactuals=cfs_coords\n",
    "    )"
   ]
  },
  {
   "attachments": {},
   "cell_type": "markdown",
   "metadata": {},
   "source": [
    "On average, it does not seem like including the coordinates helped."
   ]
  },
  {
   "cell_type": "code",
   "execution_count": 13,
   "metadata": {},
   "outputs": [
    {
     "name": "stdout",
     "output_type": "stream",
     "text": [
      "Model without coordinates\n",
      "PEHE: 26.72 ERF bias^2: 6.68 ERF variance: 0.77\n",
      "Model with coordinates\n",
      "PEHE: 26.25 ERF bias^2: 7.19 ERF variance: 1.11\n"
     ]
    }
   ],
   "source": [
    "# Average metrics allong the curve\n",
    "print(\"Model without coordinates\")\n",
    "summary = env_evaluator.summarize()\n",
    "print(\n",
    "    f\"PEHE: {summary['pehe'].mean():.2f}\",\n",
    "    f\"ERF bias^2: {np.square(summary['erf_bias']).mean():.2f}\",\n",
    "    f\"ERF variance: {(summary['erf_variance']).mean():.2f}\"\n",
    ")\n",
    "\n",
    "print(\"Model with coordinates\")\n",
    "summary = env_evaluator_coords.summarize()\n",
    "print(\n",
    "    f\"PEHE: {summary['pehe'].mean():.2f}\",\n",
    "    f\"ERF bias^2: {np.square(summary['erf_bias']).mean():.2f}\",\n",
    "    f\"ERF variance: {(summary['erf_variance']).mean():.2f}\"\n",
    ")"
   ]
  },
  {
   "attachments": {},
   "cell_type": "markdown",
   "metadata": {},
   "source": [
    "We may sometimes prefer to use the dataset evaluator and keep metrics in each loop for a more detailed analysis."
   ]
  },
  {
   "cell_type": "code",
   "execution_count": 14,
   "metadata": {},
   "outputs": [
    {
     "name": "stderr",
     "output_type": "stream",
     "text": [
      "45it [00:54,  1.22s/it]\n"
     ]
    }
   ],
   "source": [
    "# for each masked variable\n",
    "smoothness_scores = []\n",
    "confounding_scores = []\n",
    "erf_error = []\n",
    "erf_error_coords = []\n",
    "\n",
    "for dataset in tqdm(env.make_all()):\n",
    "    evaluator = DatasetEvaluator(dataset)\n",
    "\n",
    "    cfs = estimate_counterfactuals(model, dataset, use_coords=False)\n",
    "    erf = cfs.mean(0)\n",
    "    cfs_coords = estimate_counterfactuals(model_coords, dataset, use_coords=True)\n",
    "    erf_coords = cfs_coords.mean(0)\n",
    "\n",
    "    err = evaluator.eval(erf=erf)\n",
    "    err_coords = evaluator.eval(erf=erf_coords)\n",
    "\n",
    "    erf_error.append(np.square(err[\"erf_error\"]).mean())\n",
    "    erf_error_coords.append(np.square(err_coords[\"erf_error\"]).mean())\n",
    "\n",
    "    smoothness_scores.append(dataset.smoothness_of_missing)\n",
    "    confounding_scores.append(dataset.confounding_of_missing)"
   ]
  },
  {
   "cell_type": "code",
   "execution_count": 15,
   "metadata": {},
   "outputs": [
    {
     "data": {
      "text/html": [
       "<div>\n",
       "<style scoped>\n",
       "    .dataframe tbody tr th:only-of-type {\n",
       "        vertical-align: middle;\n",
       "    }\n",
       "\n",
       "    .dataframe tbody tr th {\n",
       "        vertical-align: top;\n",
       "    }\n",
       "\n",
       "    .dataframe thead tr th {\n",
       "        text-align: left;\n",
       "    }\n",
       "\n",
       "    .dataframe thead tr:last-of-type th {\n",
       "        text-align: right;\n",
       "    }\n",
       "</style>\n",
       "<table border=\"1\" class=\"dataframe\">\n",
       "  <thead>\n",
       "    <tr>\n",
       "      <th></th>\n",
       "      <th></th>\n",
       "      <th colspan=\"2\" halign=\"left\">model_without_coords</th>\n",
       "      <th colspan=\"2\" halign=\"left\">model_with_coords</th>\n",
       "    </tr>\n",
       "    <tr>\n",
       "      <th></th>\n",
       "      <th></th>\n",
       "      <th>mean</th>\n",
       "      <th>std</th>\n",
       "      <th>mean</th>\n",
       "      <th>std</th>\n",
       "    </tr>\n",
       "    <tr>\n",
       "      <th>smoothness</th>\n",
       "      <th>confounding</th>\n",
       "      <th></th>\n",
       "      <th></th>\n",
       "      <th></th>\n",
       "      <th></th>\n",
       "    </tr>\n",
       "  </thead>\n",
       "  <tbody>\n",
       "    <tr>\n",
       "      <th rowspan=\"2\" valign=\"top\">high</th>\n",
       "      <th>high</th>\n",
       "      <td>8.662697</td>\n",
       "      <td>5.152437</td>\n",
       "      <td>7.988849</td>\n",
       "      <td>5.877418</td>\n",
       "    </tr>\n",
       "    <tr>\n",
       "      <th>low</th>\n",
       "      <td>7.736632</td>\n",
       "      <td>3.651457</td>\n",
       "      <td>7.506765</td>\n",
       "      <td>3.871207</td>\n",
       "    </tr>\n",
       "    <tr>\n",
       "      <th rowspan=\"2\" valign=\"top\">low</th>\n",
       "      <th>high</th>\n",
       "      <td>6.725360</td>\n",
       "      <td>2.491951</td>\n",
       "      <td>9.542882</td>\n",
       "      <td>4.424141</td>\n",
       "    </tr>\n",
       "    <tr>\n",
       "      <th>low</th>\n",
       "      <td>6.802026</td>\n",
       "      <td>1.983852</td>\n",
       "      <td>8.886066</td>\n",
       "      <td>4.385837</td>\n",
       "    </tr>\n",
       "  </tbody>\n",
       "</table>\n",
       "</div>"
      ],
      "text/plain": [
       "                       model_without_coords           model_with_coords  \\\n",
       "                                       mean       std              mean   \n",
       "smoothness confounding                                                    \n",
       "high       high                    8.662697  5.152437          7.988849   \n",
       "           low                     7.736632  3.651457          7.506765   \n",
       "low        high                    6.725360  2.491951          9.542882   \n",
       "           low                     6.802026  1.983852          8.886066   \n",
       "\n",
       "                                  \n",
       "                             std  \n",
       "smoothness confounding            \n",
       "high       high         5.877418  \n",
       "           low          3.871207  \n",
       "low        high         4.424141  \n",
       "           low          4.385837  "
      ]
     },
     "execution_count": 15,
     "metadata": {},
     "output_type": "execute_result"
    }
   ],
   "source": [
    "erf_errors = dict(\n",
    "    smoothness=[\"low\" if x < 0.5 else \"high\" for x in smoothness_scores],\n",
    "    confounding=[\"low\" if x < 0.1 else \"high\" for x in confounding_scores],\n",
    "    model_without_coords=erf_error,\n",
    "    model_with_coords=erf_error_coords,\n",
    ")\n",
    "erf_errors = pd.DataFrame(erf_errors)\n",
    "erf_errors.groupby([\"smoothness\", \"confounding\"]).agg([\"mean\", \"std\"])"
   ]
  },
  {
   "attachments": {},
   "cell_type": "markdown",
   "metadata": {},
   "source": [
    "We can see that adding coordinates gives worse results when smoothnes is low. Both models do a bit betteror about the same when confounding is low."
   ]
  }
 ],
 "metadata": {
  "kernelspec": {
   "display_name": "spaceenv2",
   "language": "python",
   "name": "python3"
  },
  "language_info": {
   "codemirror_mode": {
    "name": "ipython",
    "version": 3
   },
   "file_extension": ".py",
   "mimetype": "text/x-python",
   "name": "python",
   "nbconvert_exporter": "python",
   "pygments_lexer": "ipython3",
   "version": "3.10.11"
  },
  "orig_nbformat": 4
 },
 "nbformat": 4,
 "nbformat_minor": 2
}
