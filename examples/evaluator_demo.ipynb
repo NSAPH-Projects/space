{
 "cells": [
  {
   "attachments": {},
   "cell_type": "markdown",
   "metadata": {},
   "source": [
    "Load some standard libraries"
   ]
  },
  {
   "cell_type": "code",
   "execution_count": 19,
   "metadata": {},
   "outputs": [],
   "source": [
    "from tqdm import tqdm\n",
    "\n",
    "import numpy as np\n",
    "import pandas as pd\n",
    "import seaborn as sns\n",
    "import matplotlib.pyplot as plt\n",
    "from xgboost import XGBRegressor\n",
    "from sklearn.linear_model import LinearRegression\n",
    "from sklearn.ensemble import RandomForestRegressor\n",
    "from sklearn.neural_network import MLPRegressor\n",
    "from sklearn.neighbors import KNeighborsRegressor"
   ]
  },
  {
   "attachments": {},
   "cell_type": "markdown",
   "metadata": {},
   "source": [
    "We will use the following libraties from spacebench."
   ]
  },
  {
   "cell_type": "code",
   "execution_count": 2,
   "metadata": {},
   "outputs": [
    {
     "name": "stdout",
     "output_type": "stream",
     "text": [
      "WARNING ⚠️ : this package contains data with synthetic outcomes!\n",
      "No inferences about the source data collection can be made.\n",
      "By using it, you agree to understand its limitations and purpose.\n",
      "The sole objective of SpaCE is to support the development of new\n",
      "spatial confounding methods.\n",
      "\n"
     ]
    }
   ],
   "source": [
    "from spacebench import (\n",
    "    SpaceEnv,\n",
    "    SpaceDataset,\n",
    "    DataMaster,\n",
    "    DatasetEvaluator,\n",
    "    EnvEvaluator,\n",
    ")"
   ]
  },
  {
   "attachments": {},
   "cell_type": "markdown",
   "metadata": {},
   "source": [
    "Load the datamaster to list available datasets"
   ]
  },
  {
   "cell_type": "code",
   "execution_count": 3,
   "metadata": {},
   "outputs": [
    {
     "data": {
      "text/plain": [
       "['healthd_dmgrcs_mortality_disc',\n",
       " 'cdcsvi_limteng_hburdic_cont',\n",
       " 'climate_relhum_wfsmoke_cont',\n",
       " 'climate_wfsmoke_minrty_disc',\n",
       " 'healthd_hhinco_mortality_cont',\n",
       " 'healthd_pollutn_mortality_cont',\n",
       " 'county_educatn_election_cont',\n",
       " 'county_phyactiv_lifexpcy_cont',\n",
       " 'county_dmgrcs_election_disc',\n",
       " 'cdcsvi_nohsdp_poverty_cont',\n",
       " 'cdcsvi_nohsdp_poverty_disc']"
      ]
     },
     "execution_count": 3,
     "metadata": {},
     "output_type": "execute_result"
    }
   ],
   "source": [
    "DataMaster().list_envs()"
   ]
  },
  {
   "attachments": {},
   "cell_type": "markdown",
   "metadata": {},
   "source": [
    "Create the environment."
   ]
  },
  {
   "cell_type": "code",
   "execution_count": 4,
   "metadata": {},
   "outputs": [
    {
     "data": {
      "text/plain": [
       "dict_keys(['name', 'datamaster', 'api', 'dir', 'config', 'metadata', 'outcome', 'counterfactuals', 'treatment', 'treatment_values', 'graph', 'edge_list', 'coordinates', 'covariates_df', 'covariate_groups', 'confounding_score', 'smoothness_score'])"
      ]
     },
     "execution_count": 4,
     "metadata": {},
     "output_type": "execute_result"
    }
   ],
   "source": [
    "envname = \"cdcsvi_limteng_hburdic_cont\"\n",
    "env = SpaceEnv(envname)\n",
    "env.__dict__.keys()"
   ]
  },
  {
   "cell_type": "code",
   "execution_count": 5,
   "metadata": {},
   "outputs": [
    {
     "data": {
      "text/plain": [
       "SpaceEnv with birth certificate config:\n",
       "{\n",
       "  \"spaceenv\": {\n",
       "    \"base_name\": \"${hydra:runtime.choices.spaceenv}\",\n",
       "    \"covariates\": [\n",
       "      \"E_TOTPOP\",\n",
       "      {\n",
       "        \"households\": [\n",
       "          \"E_HU\",\n",
       "          \"E_HH\"\n",
       "        ]\n",
       "      },\n",
       "      \"EP_NOHSDP\",\n",
       "      \"EP_UNINSUR\",\n",
       "      \"EP_AGE65\",\n",
       "      \"EP_AGE17\",\n",
       "      \"EP_DISABL\",\n",
       "      \"EP_SNGPNT\",\n",
       "      \"EP_MUNIT\",\n",
       "      \"EP_NOVEH\",\n",
       "      \"EP_NOINT\",\n",
       "      \"RPL_THEME3\"\n",
       "    ],\n",
       "    \"outcome\": \"EP_HBURD\",\n",
       "    \"treament\": \"???\",\n",
       "    \"index_col\": \"0\",\n",
       "    \"treatment_max_bins\": \"100\",\n",
       "    \"scaling\": {\n",
       "      \"outcome\": \"null\",\n",
       "      \"treatment\": \"null\",\n",
       "      \"covariates\": \"null\"\n",
       "    },\n",
       "    \"transforms\": {\n",
       "      \"outcome\": \"null\",\n",
       "      \"treatment\": \"null\",\n",
       "      \"covariates\": \"null\"\n",
       "    },\n",
       "    \"fill_missing_covariate_values\": \"true\",\n",
       "    \"remove_islands\": \"true\",\n",
       "    \"bsplines\": \"false\",\n",
       "    \"bsplines_degree\": \"3\",\n",
       "    \"bsplines_df\": \"5\",\n",
       "    \"binary_treatment_iteractions\": \"false\",\n",
       "    \"seed\": \"42\",\n",
       "    \"autogluon\": {\n",
       "      \"fit\": {\n",
       "        \"presets\": \"high_quality\",\n",
       "        \"time_limit\": \"1800\",\n",
       "        \"hyperparameters\": \"null\"\n",
       "      },\n",
       "      \"leave_out_fit\": {\n",
       "        \"presets\": \"high_quality\",\n",
       "        \"time_limit\": \"1800\",\n",
       "        \"hyperparameters\": \"null\"\n",
       "      },\n",
       "      \"feat_importance\": {\n",
       "        \"time_limit\": \"1800\"\n",
       "      }\n",
       "    },\n",
       "    \"spatial_tuning\": {\n",
       "      \"init_frac\": \"0.05\",\n",
       "      \"levels\": \"1\",\n",
       "      \"buffer\": \"1\"\n",
       "    },\n",
       "    \"collection\": \"cdc_atsdr_svi_tx\",\n",
       "    \"treatment\": \"EP_LIMENG\"\n",
       "  },\n",
       "  \"num_plot_samples\": \"50\",\n",
       "  \"debug_subsample\": \"null\"\n",
       "}\n",
       "WARNING ⚠️ : this env contains data with a (realistic) synthetic outcome!\n",
       "No inferences about the source data collection can be made.\n",
       "By using it, you agree to understand its limitations."
      ]
     },
     "execution_count": 5,
     "metadata": {},
     "output_type": "execute_result"
    }
   ],
   "source": [
    "env"
   ]
  },
  {
   "attachments": {},
   "cell_type": "markdown",
   "metadata": {},
   "source": [
    "Example of generating a dataset."
   ]
  },
  {
   "cell_type": "code",
   "execution_count": 6,
   "metadata": {},
   "outputs": [
    {
     "data": {
      "text/plain": [
       "SpaceDataset with a missing spatial confounder:\n",
       "  treatment: (6828,) (continuous)\n",
       "  outcome: (6828,)\n",
       "  counterfactuals: (6828, 100)\n",
       "  covariates: (6828, 12)\n",
       "  missing covariates: (6828, 1)\n",
       "  confounding score of missing: {'erf': 0.0403, 'ate': nan, 'ite': 0.1584, 'importance': 0.0367}\n",
       "  spatial smoothness score of missing: 0.34\n",
       "  graph edge list: (21585, 2)\n",
       "  graph node coordinates: (6828, 2)\n",
       "  parent SpaceEnv: cdcsvi_limteng_hburdic_cont\n",
       "WARNING ⚠️ : this dataset contains a (realistic) synthetic outcome!\n",
       "By using it, you agree to understand its limitations.The variable names have been masked to emphasize that noinferences can be made about the source data."
      ]
     },
     "execution_count": 6,
     "metadata": {},
     "output_type": "execute_result"
    }
   ],
   "source": [
    "dataset = env.make()\n",
    "dataset"
   ]
  },
  {
   "attachments": {},
   "cell_type": "markdown",
   "metadata": {},
   "source": [
    "We can loop over all possible datasets using the make_all method."
   ]
  },
  {
   "cell_type": "code",
   "execution_count": 7,
   "metadata": {},
   "outputs": [
    {
     "data": {
      "text/plain": [
       "Text(0.5, 0.98, 'Distribution of confounding and smoothness')"
      ]
     },
     "execution_count": 7,
     "metadata": {},
     "output_type": "execute_result"
    },
    {
     "data": {
      "image/png": "[encoded data removed]",
      "text/plain": [
       "<Figure size 800x200 with 4 Axes>"
      ]
     },
     "metadata": {},
     "output_type": "display_data"
    }
   ],
   "source": [
    "confounding_scores_ate = []\n",
    "confounding_scores_erf = []\n",
    "confounding_scores_ite = []\n",
    "smoothness_scores = []\n",
    "for dataset in env.make_all():\n",
    "    # replace covariates with mean when missing\n",
    "    for j in range(dataset.covariates.shape[1]):\n",
    "        is_nan = np.isnan(dataset.covariates[:, j])\n",
    "        dataset.covariates[is_nan, j] = np.nanmean(dataset.covariates[:, j])\n",
    "        \n",
    "    confounding_scores_erf.append(dataset.confounding_score['erf'])\n",
    "    if dataset.has_binary_treatment():\n",
    "        confounding_scores_ate.append(dataset.confounding_score['ate'])\n",
    "    confounding_scores_ite.append(dataset.confounding_score['ite'])\n",
    "    smoothness_scores.append(dataset.smoothness_score)\n",
    "\n",
    "fig, ax = plt.subplots(1, 4, figsize=(8, 2))\n",
    "ax[0].hist(confounding_scores_erf)\n",
    "ax[0].set_xlabel(\"confounding scores erf\")\n",
    "if len(confounding_scores_ate) > 0:\n",
    "    ax[1].hist(confounding_scores_ate)\n",
    "    ax[1].set_xlabel(\"confounding scores ate\")\n",
    "ax[2].hist(confounding_scores_ite)\n",
    "ax[2].set_xlabel(\"confounding scores ite\")\n",
    "ax[3].hist(smoothness_scores)\n",
    "ax[3].set_xlabel(\"smoothness\")\n",
    "plt.suptitle(\"Distribution of confounding and smoothness\")"
   ]
  },
  {
   "attachments": {},
   "cell_type": "markdown",
   "metadata": {},
   "source": [
    "Let's now illustrate how to use the evaluator. On **one** dataset.\n",
    "We will compare two methods. These methods are not real competitive spatial confounding \n",
    "methods, but they are easy to implement and illustrate the use of the evaluator.\n",
    "\n",
    "One model is a simple xgboost regression model without any type of spatial confounding correction.\n",
    "The other model uses the coordinates (lon/lats) as features in the model."
   ]
  },
  {
   "cell_type": "code",
   "execution_count": 8,
   "metadata": {},
   "outputs": [],
   "source": [
    "def estimate_counterfactuals(model, dataset: SpaceDataset, use_coords: bool):\n",
    "    \"\"\"Helper function to fit a model and predict counterfactuals\"\"\"\n",
    "    treatment = dataset.treatment[:, None]\n",
    "    # covariates = dataset.unmasked_covariates\n",
    "    covariates = dataset.covariates\n",
    "    outcome = dataset.outcome\n",
    "\n",
    "    # replace covariates with mean when missing\n",
    "    for j in range(dataset.covariates.shape[1]):\n",
    "        is_nan = np.isnan(dataset.covariates[:, j])\n",
    "        dataset.covariates[is_nan, j] = np.nanmean(dataset.covariates[:, j])\n",
    "\n",
    "    # make train matrix\n",
    "    trainmat = np.hstack([covariates, treatment])\n",
    "    if use_coords:\n",
    "        coords = np.array(dataset.coordinates)\n",
    "        trainmat = np.hstack([trainmat, coords])\n",
    "\n",
    "    # fit model\n",
    "    model.fit(trainmat, outcome)\n",
    "\n",
    "    # residuals\n",
    "    resid = outcome - model.predict(trainmat)\n",
    "\n",
    "    # predict counterfactuals\n",
    "    tvals = dataset.treatment_values\n",
    "    counterfactuals = []\n",
    "    for tval in tvals:\n",
    "        trainmat = np.hstack([covariates, np.full_like(treatment, tval)])\n",
    "        if use_coords:\n",
    "            trainmat = np.hstack([trainmat, coords])\n",
    "        counterfactuals.append(model.predict(trainmat))\n",
    "    counterfactuals = np.stack(counterfactuals, axis=1) + resid[:, None]\n",
    "\n",
    "    return counterfactuals"
   ]
  },
  {
   "attachments": {},
   "cell_type": "markdown",
   "metadata": {},
   "source": [
    "Now use the `DatasetEvaluator` class."
   ]
  },
  {
   "cell_type": "code",
   "execution_count": 9,
   "metadata": {},
   "outputs": [
    {
     "name": "stdout",
     "output_type": "stream",
     "text": [
      "(6828, 12)\n",
      "Errors no coords. ERF: 0.096652, PEHE: 0.29\n",
      "Errors with coords, ERF: 0.036972, PEHE: 0.23\n"
     ]
    },
    {
     "data": {
      "image/png": "[encoded data removed]",
      "text/plain": [
       "<Figure size 400x300 with 1 Axes>"
      ]
     },
     "metadata": {},
     "output_type": "display_data"
    }
   ],
   "source": [
    "dataset = env.make()\n",
    "print(dataset.covariates.shape)\n",
    "# model = LinearRegression()\n",
    "# model_coords = LinearRegression()\n",
    "# model = XGBRegressor()\n",
    "# model_coords = XGBRegressor()\n",
    "# model = RandomForestRegressor()\n",
    "# model_coords = RandomForestRegressor()\n",
    "# model = MLPRegressor(hidden_layer_sizes=(100, ), activation=\"tanh\")\n",
    "# model_coords = MLPRegressor(hidden_layer_sizes=(100, ), activation=\"tanh\")\n",
    "model = KNeighborsRegressor(n_neighbors=1)\n",
    "model_coords = KNeighborsRegressor(n_neighbors=1)\n",
    "\n",
    "# generate counterfactuals and estimate exposure response function\n",
    "cfs = estimate_counterfactuals(model, dataset, use_coords=False)\n",
    "erf = cfs.mean(0)\n",
    "\n",
    "cfs_coords = estimate_counterfactuals(model_coords, dataset, use_coords=True)\n",
    "erf_coords = cfs_coords.mean(0)\n",
    "\n",
    "# evaluate performance\n",
    "evaluator = DatasetEvaluator(dataset)\n",
    "\n",
    "err = evaluator.eval(erf=erf, counterfactuals=cfs)\n",
    "msg = f\"Errors no coords. ERF: {err['erf']:.6f}, PEHE: {err['ite']:.2f}\"\n",
    "print(msg)\n",
    "\n",
    "err_coords = evaluator.eval(erf=erf_coords, counterfactuals=cfs_coords)\n",
    "msg = f\"Errors with coords, ERF: {err_coords['erf']:.6f}, PEHE: {err_coords['ite']:.2f}\"\n",
    "print(msg)\n",
    "\n",
    "# plot comparing estimated and true erf\n",
    "erf_true = dataset.erf()\n",
    "\n",
    "fig, ax = plt.subplots(1, 1, figsize=(4, 3))\n",
    "ax.plot(dataset.treatment_values, erf, label=\"estimated without coords\")\n",
    "ax.plot(dataset.treatment_values, erf_coords, label=\"estimated with coords\")\n",
    "ax.plot(dataset.treatment_values, erf_true, label=\"true ERF\", linestyle=\"--\", color=\"k\")\n",
    "ax.set_xlabel(\"treatment\")\n",
    "ax.set_ylabel(\"outcome\")\n",
    "ax.legend();"
   ]
  },
  {
   "attachments": {},
   "cell_type": "markdown",
   "metadata": {},
   "source": [
    "Let us know loop over all datasets and compare the two models. The `EnvEvaluator` evalautor is designed for this task. But we need an evaluator for each model."
   ]
  },
  {
   "cell_type": "code",
   "execution_count": 10,
   "metadata": {},
   "outputs": [
    {
     "name": "stderr",
     "output_type": "stream",
     "text": [
      "0it [00:00, ?it/s]"
     ]
    },
    {
     "name": "stderr",
     "output_type": "stream",
     "text": [
      "2it [00:18,  9.61s/it]/Users/mag7273/mambaforge/envs/space/lib/python3.10/site-packages/sklearn/neural_network/_multilayer_perceptron.py:691: ConvergenceWarning: Stochastic Optimizer: Maximum iterations (200) reached and the optimization hasn't converged yet.\n",
      "  warnings.warn(\n",
      "8it [01:08,  7.81s/it]/Users/mag7273/mambaforge/envs/space/lib/python3.10/site-packages/sklearn/neural_network/_multilayer_perceptron.py:691: ConvergenceWarning: Stochastic Optimizer: Maximum iterations (200) reached and the optimization hasn't converged yet.\n",
      "  warnings.warn(\n",
      "10it [01:30,  9.34s/it]/Users/mag7273/mambaforge/envs/space/lib/python3.10/site-packages/sklearn/neural_network/_multilayer_perceptron.py:691: ConvergenceWarning: Stochastic Optimizer: Maximum iterations (200) reached and the optimization hasn't converged yet.\n",
      "  warnings.warn(\n",
      "12it [01:55,  9.60s/it]\n"
     ]
    }
   ],
   "source": [
    "# for each masked variable\n",
    "env_evaluator = EnvEvaluator(env)\n",
    "env_evaluator_coords = EnvEvaluator(env)\n",
    "\n",
    "for dataset in tqdm(env.make_all()):\n",
    "    cfs = estimate_counterfactuals(model, dataset, use_coords=False)\n",
    "    erf = cfs.mean(0)\n",
    "    cfs_coords = estimate_counterfactuals(model_coords, dataset, use_coords=True)\n",
    "    erf_coords = cfs_coords.mean(0)\n",
    "\n",
    "    err = env_evaluator.add(dataset, erf=erf, counterfactuals=cfs)\n",
    "    err_coords = env_evaluator_coords.add(\n",
    "        dataset, erf=erf_coords, counterfactuals=cfs_coords\n",
    "    )"
   ]
  },
  {
   "attachments": {},
   "cell_type": "markdown",
   "metadata": {},
   "source": [
    "On average, it does not seem like including the coordinates helped."
   ]
  },
  {
   "cell_type": "code",
   "execution_count": 11,
   "metadata": {},
   "outputs": [
    {
     "name": "stdout",
     "output_type": "stream",
     "text": [
      "Model without coordinates\n",
      "PEHE (av): 0.3028 ERF bias^2: 0.0021 ERF variance: 0.0030\n",
      "Model with coordinates\n",
      "PEHE (av): 0.2690 ERF bias^2: 0.0047 ERF variance: 0.0113\n"
     ]
    }
   ],
   "source": [
    "# Average metrics allong the curve\n",
    "print(\"Model without coordinates\")\n",
    "summary = env_evaluator.summarize()\n",
    "print(\n",
    "    f\"PEHE (av): {summary['ite'].mean():.4f}\",\n",
    "    f\"ERF bias^2: {np.square(summary['erf_bias']).mean():.4f}\",\n",
    "    f\"ERF variance: {(summary['erf_variance']).mean():.4f}\"\n",
    ")\n",
    "\n",
    "print(\"Model with coordinates\")\n",
    "summary = env_evaluator_coords.summarize()\n",
    "print(\n",
    "    f\"PEHE (av): {summary['ite'].mean():.4f}\",\n",
    "    f\"ERF bias^2: {np.square(summary['erf_bias']).mean():.4f}\",\n",
    "    f\"ERF variance: {(summary['erf_variance']).mean():.4f}\"\n",
    ")"
   ]
  },
  {
   "attachments": {},
   "cell_type": "markdown",
   "metadata": {},
   "source": [
    "We may sometimes prefer to use the dataset evaluator and keep metrics in each loop for a more detailed analysis."
   ]
  },
  {
   "cell_type": "code",
   "execution_count": 12,
   "metadata": {},
   "outputs": [
    {
     "name": "stderr",
     "output_type": "stream",
     "text": [
      "1it [00:10, 10.10s/it]/Users/mag7273/mambaforge/envs/space/lib/python3.10/site-packages/sklearn/neural_network/_multilayer_perceptron.py:691: ConvergenceWarning: Stochastic Optimizer: Maximum iterations (200) reached and the optimization hasn't converged yet.\n",
      "  warnings.warn(\n",
      "2it [00:21, 10.82s/it]/Users/mag7273/mambaforge/envs/space/lib/python3.10/site-packages/sklearn/neural_network/_multilayer_perceptron.py:691: ConvergenceWarning: Stochastic Optimizer: Maximum iterations (200) reached and the optimization hasn't converged yet.\n",
      "  warnings.warn(\n",
      "4it [00:45, 11.71s/it]/Users/mag7273/mambaforge/envs/space/lib/python3.10/site-packages/sklearn/neural_network/_multilayer_perceptron.py:691: ConvergenceWarning: Stochastic Optimizer: Maximum iterations (200) reached and the optimization hasn't converged yet.\n",
      "  warnings.warn(\n",
      "6it [01:11, 12.50s/it]/Users/mag7273/mambaforge/envs/space/lib/python3.10/site-packages/sklearn/neural_network/_multilayer_perceptron.py:691: ConvergenceWarning: Stochastic Optimizer: Maximum iterations (200) reached and the optimization hasn't converged yet.\n",
      "  warnings.warn(\n",
      "12it [02:15, 11.29s/it]\n"
     ]
    }
   ],
   "source": [
    "# for each masked variable\n",
    "smoothness_scores = []\n",
    "confounding_scores = []\n",
    "errors = []\n",
    "erf_error_coords = []\n",
    "\n",
    "for dataset in tqdm(env.make_all()):\n",
    "    evaluator = DatasetEvaluator(dataset)\n",
    "\n",
    "    cfs = estimate_counterfactuals(model, dataset, use_coords=False)\n",
    "    erf = cfs.mean(0)\n",
    "    cfs_coords = estimate_counterfactuals(model_coords, dataset, use_coords=True)\n",
    "    erf_coords = cfs_coords.mean(0)\n",
    "\n",
    "    err = evaluator.eval(erf=erf, counterfactuals=cfs)\n",
    "    err_coords = evaluator.eval(erf=erf_coords, counterfactuals=cfs_coords)\n",
    "\n",
    "    errors.append((err[\"ite\"]))\n",
    "    erf_error_coords.append((err_coords[\"ite\"]))\n",
    "\n",
    "    smoothness_scores.append(np.mean(dataset.smoothness_score))\n",
    "    confounding_scores.append(dataset.confounding_score['ite'])"
   ]
  },
  {
   "cell_type": "code",
   "execution_count": 13,
   "metadata": {},
   "outputs": [
    {
     "data": {
      "text/plain": [
       "Text(0.5, 1.0, 'Effect of adding coordinates to response curve by confounding score')"
      ]
     },
     "execution_count": 13,
     "metadata": {},
     "output_type": "execute_result"
    },
    {
     "data": {
      "image/png": "[encoded data removed]",
      "text/plain": [
       "<Figure size 640x480 with 1 Axes>"
      ]
     },
     "metadata": {},
     "output_type": "display_data"
    }
   ],
   "source": [
    "sns.regplot(x=confounding_scores, y=errors, label=\"No coords\")\n",
    "sns.regplot(x=confounding_scores, y=erf_error_coords, label=\"With coords\")\n",
    "plt.xlabel(\"Confounding score\")\n",
    "plt.ylabel(\"Error in response curve\")\n",
    "plt.legend()\n",
    "plt.title(\"Effect of adding coordinates to response curve by confounding score\")"
   ]
  },
  {
   "cell_type": "code",
   "execution_count": 14,
   "metadata": {},
   "outputs": [
    {
     "data": {
      "text/plain": [
       "Text(0.5, 1.0, 'Effect of adding coordinates to response curve by smoothness score')"
      ]
     },
     "execution_count": 14,
     "metadata": {},
     "output_type": "execute_result"
    },
    {
     "data": {
      "image/png": "[encoded data removed]",
      "text/plain": [
       "<Figure size 640x480 with 1 Axes>"
      ]
     },
     "metadata": {},
     "output_type": "display_data"
    }
   ],
   "source": [
    "sns.regplot(x=smoothness_scores, y=errors, label=\"No coords\")\n",
    "sns.regplot(x=smoothness_scores, y=erf_error_coords, label=\"With coords\")\n",
    "plt.xlabel(\"Smothness score\")\n",
    "plt.ylabel(\"Error in response curve\")\n",
    "plt.legend()\n",
    "plt.title(\"Effect of adding coordinates to response curve by smoothness score\")"
   ]
  },
  {
   "cell_type": "code",
   "execution_count": 15,
   "metadata": {},
   "outputs": [],
   "source": [
    "cs_thresh = np.quantile(confounding_scores, 0.5)\n",
    "ss_thresh = np.quantile(smoothness_scores, 0.5)"
   ]
  },
  {
   "cell_type": "code",
   "execution_count": 16,
   "metadata": {},
   "outputs": [
    {
     "data": {
      "text/html": [
       "<div>\n",
       "<style scoped>\n",
       "    .dataframe tbody tr th:only-of-type {\n",
       "        vertical-align: middle;\n",
       "    }\n",
       "\n",
       "    .dataframe tbody tr th {\n",
       "        vertical-align: top;\n",
       "    }\n",
       "\n",
       "    .dataframe thead tr th {\n",
       "        text-align: left;\n",
       "    }\n",
       "\n",
       "    .dataframe thead tr:last-of-type th {\n",
       "        text-align: right;\n",
       "    }\n",
       "</style>\n",
       "<table border=\"1\" class=\"dataframe\">\n",
       "  <thead>\n",
       "    <tr>\n",
       "      <th></th>\n",
       "      <th></th>\n",
       "      <th colspan=\"3\" halign=\"left\">model_without_coords</th>\n",
       "      <th colspan=\"3\" halign=\"left\">model_with_coords</th>\n",
       "    </tr>\n",
       "    <tr>\n",
       "      <th></th>\n",
       "      <th></th>\n",
       "      <th>mean</th>\n",
       "      <th>std</th>\n",
       "      <th>count</th>\n",
       "      <th>mean</th>\n",
       "      <th>std</th>\n",
       "      <th>count</th>\n",
       "    </tr>\n",
       "    <tr>\n",
       "      <th>smoothness</th>\n",
       "      <th>confounding</th>\n",
       "      <th></th>\n",
       "      <th></th>\n",
       "      <th></th>\n",
       "      <th></th>\n",
       "      <th></th>\n",
       "      <th></th>\n",
       "    </tr>\n",
       "  </thead>\n",
       "  <tbody>\n",
       "    <tr>\n",
       "      <th rowspan=\"2\" valign=\"top\">high</th>\n",
       "      <th>high</th>\n",
       "      <td>0.282240</td>\n",
       "      <td>0.022195</td>\n",
       "      <td>3</td>\n",
       "      <td>0.271285</td>\n",
       "      <td>0.038248</td>\n",
       "      <td>3</td>\n",
       "    </tr>\n",
       "    <tr>\n",
       "      <th>low</th>\n",
       "      <td>0.287560</td>\n",
       "      <td>0.032184</td>\n",
       "      <td>3</td>\n",
       "      <td>0.286409</td>\n",
       "      <td>0.035765</td>\n",
       "      <td>3</td>\n",
       "    </tr>\n",
       "    <tr>\n",
       "      <th rowspan=\"2\" valign=\"top\">low</th>\n",
       "      <th>high</th>\n",
       "      <td>0.267585</td>\n",
       "      <td>0.003841</td>\n",
       "      <td>3</td>\n",
       "      <td>0.281348</td>\n",
       "      <td>0.036899</td>\n",
       "      <td>3</td>\n",
       "    </tr>\n",
       "    <tr>\n",
       "      <th>low</th>\n",
       "      <td>0.257341</td>\n",
       "      <td>0.028551</td>\n",
       "      <td>3</td>\n",
       "      <td>0.244680</td>\n",
       "      <td>0.028284</td>\n",
       "      <td>3</td>\n",
       "    </tr>\n",
       "  </tbody>\n",
       "</table>\n",
       "</div>"
      ],
      "text/plain": [
       "                       model_without_coords                 model_with_coords  \\\n",
       "                                       mean       std count              mean   \n",
       "smoothness confounding                                                          \n",
       "high       high                    0.282240  0.022195     3          0.271285   \n",
       "           low                     0.287560  0.032184     3          0.286409   \n",
       "low        high                    0.267585  0.003841     3          0.281348   \n",
       "           low                     0.257341  0.028551     3          0.244680   \n",
       "\n",
       "                                        \n",
       "                             std count  \n",
       "smoothness confounding                  \n",
       "high       high         0.038248     3  \n",
       "           low          0.035765     3  \n",
       "low        high         0.036899     3  \n",
       "           low          0.028284     3  "
      ]
     },
     "execution_count": 16,
     "metadata": {},
     "output_type": "execute_result"
    }
   ],
   "source": [
    "erf_errors = dict(\n",
    "    smoothness=[\"low\" if x < ss_thresh else \"high\" for x in smoothness_scores],\n",
    "    confounding=[\"low\" if x < cs_thresh else \"high\" for x in confounding_scores],\n",
    "    model_without_coords=errors,\n",
    "    model_with_coords=erf_error_coords,\n",
    ")\n",
    "erf_errors = pd.DataFrame(erf_errors)\n",
    "erf_errors.groupby([\"smoothness\", \"confounding\"]).agg([\"mean\", \"std\", \"count\"])"
   ]
  },
  {
   "cell_type": "code",
   "execution_count": 17,
   "metadata": {},
   "outputs": [
    {
     "data": {
      "text/html": [
       "<div>\n",
       "<style scoped>\n",
       "    .dataframe tbody tr th:only-of-type {\n",
       "        vertical-align: middle;\n",
       "    }\n",
       "\n",
       "    .dataframe tbody tr th {\n",
       "        vertical-align: top;\n",
       "    }\n",
       "\n",
       "    .dataframe thead tr th {\n",
       "        text-align: left;\n",
       "    }\n",
       "\n",
       "    .dataframe thead tr:last-of-type th {\n",
       "        text-align: right;\n",
       "    }\n",
       "</style>\n",
       "<table border=\"1\" class=\"dataframe\">\n",
       "  <thead>\n",
       "    <tr>\n",
       "      <th></th>\n",
       "      <th colspan=\"3\" halign=\"left\">model_without_coords</th>\n",
       "      <th colspan=\"3\" halign=\"left\">model_with_coords</th>\n",
       "    </tr>\n",
       "    <tr>\n",
       "      <th></th>\n",
       "      <th>mean</th>\n",
       "      <th>std</th>\n",
       "      <th>count</th>\n",
       "      <th>mean</th>\n",
       "      <th>std</th>\n",
       "      <th>count</th>\n",
       "    </tr>\n",
       "    <tr>\n",
       "      <th>confounding</th>\n",
       "      <th></th>\n",
       "      <th></th>\n",
       "      <th></th>\n",
       "      <th></th>\n",
       "      <th></th>\n",
       "      <th></th>\n",
       "    </tr>\n",
       "  </thead>\n",
       "  <tbody>\n",
       "    <tr>\n",
       "      <th>high</th>\n",
       "      <td>0.274913</td>\n",
       "      <td>0.016352</td>\n",
       "      <td>6</td>\n",
       "      <td>0.276316</td>\n",
       "      <td>0.034061</td>\n",
       "      <td>6</td>\n",
       "    </tr>\n",
       "    <tr>\n",
       "      <th>low</th>\n",
       "      <td>0.272450</td>\n",
       "      <td>0.031849</td>\n",
       "      <td>6</td>\n",
       "      <td>0.265544</td>\n",
       "      <td>0.036797</td>\n",
       "      <td>6</td>\n",
       "    </tr>\n",
       "  </tbody>\n",
       "</table>\n",
       "</div>"
      ],
      "text/plain": [
       "            model_without_coords                 model_with_coords            \\\n",
       "                            mean       std count              mean       std   \n",
       "confounding                                                                    \n",
       "high                    0.274913  0.016352     6          0.276316  0.034061   \n",
       "low                     0.272450  0.031849     6          0.265544  0.036797   \n",
       "\n",
       "                   \n",
       "            count  \n",
       "confounding        \n",
       "high            6  \n",
       "low             6  "
      ]
     },
     "execution_count": 17,
     "metadata": {},
     "output_type": "execute_result"
    }
   ],
   "source": [
    "erf_errors.drop(columns='smoothness').groupby(\"confounding\").agg([\"mean\", \"std\", \"count\"])"
   ]
  },
  {
   "cell_type": "code",
   "execution_count": 18,
   "metadata": {},
   "outputs": [
    {
     "data": {
      "text/html": [
       "<div>\n",
       "<style scoped>\n",
       "    .dataframe tbody tr th:only-of-type {\n",
       "        vertical-align: middle;\n",
       "    }\n",
       "\n",
       "    .dataframe tbody tr th {\n",
       "        vertical-align: top;\n",
       "    }\n",
       "\n",
       "    .dataframe thead tr th {\n",
       "        text-align: left;\n",
       "    }\n",
       "\n",
       "    .dataframe thead tr:last-of-type th {\n",
       "        text-align: right;\n",
       "    }\n",
       "</style>\n",
       "<table border=\"1\" class=\"dataframe\">\n",
       "  <thead>\n",
       "    <tr>\n",
       "      <th></th>\n",
       "      <th colspan=\"3\" halign=\"left\">model_without_coords</th>\n",
       "      <th colspan=\"3\" halign=\"left\">model_with_coords</th>\n",
       "    </tr>\n",
       "    <tr>\n",
       "      <th></th>\n",
       "      <th>mean</th>\n",
       "      <th>std</th>\n",
       "      <th>count</th>\n",
       "      <th>mean</th>\n",
       "      <th>std</th>\n",
       "      <th>count</th>\n",
       "    </tr>\n",
       "    <tr>\n",
       "      <th>smoothness</th>\n",
       "      <th></th>\n",
       "      <th></th>\n",
       "      <th></th>\n",
       "      <th></th>\n",
       "      <th></th>\n",
       "      <th></th>\n",
       "    </tr>\n",
       "  </thead>\n",
       "  <tbody>\n",
       "    <tr>\n",
       "      <th>high</th>\n",
       "      <td>0.284900</td>\n",
       "      <td>0.024897</td>\n",
       "      <td>6</td>\n",
       "      <td>0.278847</td>\n",
       "      <td>0.034138</td>\n",
       "      <td>6</td>\n",
       "    </tr>\n",
       "    <tr>\n",
       "      <th>low</th>\n",
       "      <td>0.262463</td>\n",
       "      <td>0.019064</td>\n",
       "      <td>6</td>\n",
       "      <td>0.263014</td>\n",
       "      <td>0.035609</td>\n",
       "      <td>6</td>\n",
       "    </tr>\n",
       "  </tbody>\n",
       "</table>\n",
       "</div>"
      ],
      "text/plain": [
       "           model_without_coords                 model_with_coords            \\\n",
       "                           mean       std count              mean       std   \n",
       "smoothness                                                                    \n",
       "high                   0.284900  0.024897     6          0.278847  0.034138   \n",
       "low                    0.262463  0.019064     6          0.263014  0.035609   \n",
       "\n",
       "                  \n",
       "           count  \n",
       "smoothness        \n",
       "high           6  \n",
       "low            6  "
      ]
     },
     "execution_count": 18,
     "metadata": {},
     "output_type": "execute_result"
    }
   ],
   "source": [
    "erf_errors.drop(columns='confounding').groupby(\"smoothness\").agg([\"mean\", \"std\", \"count\"])"
   ]
  },
  {
   "attachments": {},
   "cell_type": "markdown",
   "metadata": {},
   "source": []
  }
 ],
 "metadata": {
  "kernelspec": {
   "display_name": ".venv",
   "language": "python",
   "name": "python3"
  },
  "language_info": {
   "codemirror_mode": {
    "name": "ipython",
    "version": 3
   },
   "file_extension": ".py",
   "mimetype": "text/x-python",
   "name": "python",
   "nbconvert_exporter": "python",
   "pygments_lexer": "ipython3",
   "version": "3.10.12"
  },
  "orig_nbformat": 4
 },
 "nbformat": 4,
 "nbformat_minor": 2
}
